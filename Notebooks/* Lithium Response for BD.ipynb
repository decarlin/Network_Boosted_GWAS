{
 "cells": [
  {
   "cell_type": "code",
   "execution_count": 87,
   "metadata": {
    "collapsed": true
   },
   "outputs": [],
   "source": [
    "import pandas as pd\n",
    "from nbgwas import NBGWAS_snp2gene as snp2gene\n",
    "from nbgwas import NBGWAS_propagation as prop\n",
    "from nbgwas import NBGWAS_analysis\n",
    "import numpy as np\n",
    "import scipy.stats as stats\n",
    "\n",
    "import matplotlib\n",
    "matplotlib.rcParams['pdf.fonttype'] = 42\n",
    "matplotlib.rcParams['ps.fonttype'] = 42\n",
    "import matplotlib.pyplot as plt\n",
    "import seaborn as sns\n",
    "sns.set_style('white')\n",
    "%matplotlib inline"
   ]
  },
  {
   "cell_type": "markdown",
   "metadata": {},
   "source": [
    "# Process Raw Data for Mapping P-Values to Genes"
   ]
  },
  {
   "cell_type": "code",
   "execution_count": null,
   "metadata": {
    "collapsed": false
   },
   "outputs": [],
   "source": [
    "f = open('/cellar/users/jkhuang/Data/Projects/Network_GWAS/Data/Lithium_Response/daner_pgbd_all_va_enterm_vf1.meta_good')\n",
    "lines = f.read().splitlines()\n",
    "lines_fmt = [line.split() for line in lines]\n",
    "snp_table = pd.DataFrame(lines_fmt[1:], columns = lines_fmt[0])"
   ]
  },
  {
   "cell_type": "code",
   "execution_count": 25,
   "metadata": {
    "collapsed": false,
    "scrolled": true
   },
   "outputs": [],
   "source": [
    "# Format SNP table for usage of gene p-value assignment\n",
    "snp_table_fmt = snp_table[['SNP', 'CHR', 'BP', 'P']]\n",
    "snp_table_fmt.columns = ['Marker', 'Chr', 'Pos', 'P-Value']\n",
    "snp_table_fmt[['Chr', 'Pos', 'P-Value']] = snp_table_fmt[['Chr', 'Pos', 'P-Value']].apply(pd.to_numeric)"
   ]
  },
  {
   "cell_type": "markdown",
   "metadata": {},
   "source": [
    "# Map P-Value to Genes\n",
    "Using minimum p method with a 10kb window around all genes\n",
    "This data is mapped using genome build hg19, p-value ties are broken by gene distance to SNP"
   ]
  },
  {
   "cell_type": "code",
   "execution_count": 27,
   "metadata": {
    "collapsed": true
   },
   "outputs": [],
   "source": [
    "# Load hg19 gene locations (gene locations from VEGAS2 gencode file)\n",
    "hg19_gene_pos_file = '/cellar/users/jkhuang/Data/Projects/Network_GWAS/Data/IGAP/SNP_Gene_Locations/glist-hg19_fmt.txt'\n",
    "hg19_gene_pos = snp2gene.load_gene_pos(hg19_gene_pos_file, delimiter='\\t', header=True, cols='0,1,2,3')"
   ]
  },
  {
   "cell_type": "code",
   "execution_count": 29,
   "metadata": {
    "collapsed": false,
    "scrolled": true
   },
   "outputs": [
    {
     "name": "stdout",
     "output_type": "stream",
     "text": [
      "CPU times: user 1h 13min 2s, sys: 1min 18s, total: 1h 14min 21s\n",
      "Wall time: 1h 14min 21s\n"
     ]
    }
   ],
   "source": [
    "%%time\n",
    "# Assign p-values to genes in hg19 using the minimum-p method with a 10kb window\n",
    "min_p_table = snp2gene.min_p(snp_table_fmt, hg19_gene_pos, 10)\n",
    "min_p_table_sort = min_p_table.sort_values(by=['TopSNP P-Value', 'SNP Distance'])\n",
    "min_p_table_sort.to_csv('/cellar/users/jkhuang/Data/Projects/Network_GWAS/Data/Lithium_Response/daner_pgbd_all_va_enterm_vf1.meta_good.hg19_min_p_10kb.csv', sep='\\t') "
   ]
  },
  {
   "cell_type": "markdown",
   "metadata": {},
   "source": [
    "# Propagate Top 1% of Genes over PCNet"
   ]
  },
  {
   "cell_type": "code",
   "execution_count": 3,
   "metadata": {
    "collapsed": false
   },
   "outputs": [
    {
     "name": "stdout",
     "output_type": "stream",
     "text": [
      "Network File Loaded: 29.870319128 seconds\n",
      "Number of network nodes: 19781\n",
      "Number of network edges: 2724724\n"
     ]
    }
   ],
   "source": [
    "# Load PCNet\n",
    "PCNet_fn = '/cellar/users/jkhuang/Data/Projects/Network_GWAS/Data/Network_Data/PCNet.txt'\n",
    "network, network_nodes, network_node_degree = prop.load_network(PCNet_fn)"
   ]
  },
  {
   "cell_type": "markdown",
   "metadata": {},
   "source": [
    "If you have loaded a pre-calculated kernel run the following cell:"
   ]
  },
  {
   "cell_type": "code",
   "execution_count": 4,
   "metadata": {
    "collapsed": false
   },
   "outputs": [],
   "source": [
    "# Load PCNet Kernel (assuming the kernel was saved in .hdf format by pandas)\n",
    "kernel = pd.read_hdf('/cellar/users/jkhuang/Data/Projects/Network_GWAS/Data/Network_Data/PCNet_kernel.hdf')"
   ]
  },
  {
   "cell_type": "markdown",
   "metadata": {},
   "source": [
    "Otherwise, if you do not have a pre-calculated kernel file, construct the network kernel using the following code:"
   ]
  },
  {
   "cell_type": "code",
   "execution_count": null,
   "metadata": {
    "collapsed": true
   },
   "outputs": [],
   "source": [
    "# Set the number of threads you want to use (otherwise all available threads on the machine will be used)\n",
    "import mkl\n",
    "mkl.set_num_threads(4)\n",
    "\n",
    "# Construct the propagation kernel (set outdir to save the kernel to be used at a later time if desired)\n",
    "kernel_outdir = '/cellar/users/jkhuang/Data/Projects/Network_GWAS/Data/Network_Data/'\n",
    "kernel = prop.construct_network_kernel(network, alpha=None, outdir=kernel_outdir)"
   ]
  },
  {
   "cell_type": "code",
   "execution_count": 5,
   "metadata": {
    "collapsed": true
   },
   "outputs": [],
   "source": [
    "# Load gene_pval_table (output from snp2gene.min_p)\n",
    "pval_table_fn = '/cellar/users/jkhuang/Data/Projects/Network_GWAS/Data/Lithium_Response/daner_pgbd_all_va_enterm_vf1.meta_good.hg19_min_p_10kb.csv'\n",
    "gene_pval_table = pd.read_csv(pval_table_fn, sep='\\t')"
   ]
  },
  {
   "cell_type": "code",
   "execution_count": 6,
   "metadata": {
    "collapsed": false
   },
   "outputs": [
    {
     "name": "stdout",
     "output_type": "stream",
     "text": [
      "249 genes above threshold (Top 1.0%)\n",
      "188 threshold genes in network as seeds\n",
      "4 seed genes could not be swapped: [u'EFTUD2', u'MRPL15', u'HMGB1', u'NOC3L']\n",
      "Seed genes propagated: 1.05010414124 seconds\n",
      "Non-seed gene propagation results compiled\n",
      "Seed gene propagation results compiled\n",
      "Propagation results constructed and sorted\n",
      "Propagation results saved: /cellar/users/jkhuang/Data/Projects/Network_GWAS/Results/Lithium_Response/Top_1.0%_prop_results.csv\n",
      "Non-seed gene propagation results compiled\n",
      "Seed gene propagation results compiled\n",
      "Propagation results constructed and sorted\n",
      "Propagation results saved: /cellar/users/jkhuang/Data/Projects/Network_GWAS/Results/Lithium_Response/Null_Seeds_prop_results.csv\n"
     ]
    }
   ],
   "source": [
    "results_dir = '/cellar/users/jkhuang/Data/Projects/Network_GWAS/Results/Lithium_Response/'\n",
    "thresh_prop_results, null_prop_results = prop.kernel_propagation(kernel, gene_pval_table, network_node_degree, \n",
    "                                                                 pct_thresh = 0.01, p_thresh = None, outdir = results_dir)"
   ]
  },
  {
   "cell_type": "markdown",
   "metadata": {},
   "source": [
    "# Evaluate the methods on a gold standard gene set\n",
    "In this case, the lithium gene set was determined by compiling all human genes in any GO term (via AmiGO) that contains the word 'lithium'"
   ]
  },
  {
   "cell_type": "code",
   "execution_count": 13,
   "metadata": {
    "collapsed": true
   },
   "outputs": [],
   "source": [
    "# Lithium Gene Gold Standard\n",
    "gold_stds = NBGWAS_analysis.load_GS_sets('/cellar/users/jkhuang/Data/Projects/Network_GWAS/Data/Lithium_Response/Lithium_GO_genes.txt')\n",
    "gold_std = gold_stds[gold_stds.keys()[0]]"
   ]
  },
  {
   "cell_type": "code",
   "execution_count": 24,
   "metadata": {
    "collapsed": false
   },
   "outputs": [],
   "source": [
    "# Calculate Precision Recall Curves and AUPRC for all network-based GWAS models\n",
    "model_names = ['GWAS Only', 'Degree Only', 'TopProp Only', 'TopProp x GWAS', 'NullProp Only', 'NulProp x GWAS']\n",
    "model_results = [thresh_prop_results.sort_values(by=['GWAS P-Value', 'GWAS SNP Dist']),\n",
    "                 thresh_prop_results.ix[network_nodes].sort_values(by=['Degree', 'GWAS P-Value', 'GWAS SNP Dist'], \n",
    "                                                                   ascending=[False, True, True]),\n",
    "                 thresh_prop_results.sort_values(by=['Prop Rank', 'GWAS P-Value', 'GWAS SNP Dist']),\n",
    "                 thresh_prop_results.sort_values(by=['Adjusted Rank', 'GWAS P-Value', 'GWAS SNP Dist']),\n",
    "                 null_prop_results.sort_values(by=['Prop Rank', 'GWAS P-Value', 'GWAS SNP Dist']),\n",
    "                 null_prop_results.sort_values(by=['Adjusted Rank', 'GWAS P-Value', 'GWAS SNP Dist'])]\n",
    "model_AUPRCs = []\n",
    "for i in range(len(model_names)):\n",
    "    precision, recall, AUPRC = NBGWAS_analysis.PRC(model_results[i], gold_std)\n",
    "    model_AUPRCs.append(AUPRC)"
   ]
  },
  {
   "cell_type": "code",
   "execution_count": 90,
   "metadata": {
    "collapsed": false
   },
   "outputs": [
    {
     "data": {
      "text/plain": [
       "GWAS Only         0.018070\n",
       "Degree Only       0.020342\n",
       "TopProp Only      0.020445\n",
       "TopProp x GWAS    0.019323\n",
       "NullProp Only     0.019865\n",
       "NulProp x GWAS    0.018699\n",
       "dtype: float64"
      ]
     },
     "execution_count": 90,
     "metadata": {},
     "output_type": "execute_result"
    }
   ],
   "source": [
    "pd.Series(model_AUPRCs, index=model_names)"
   ]
  },
  {
   "cell_type": "code",
   "execution_count": 41,
   "metadata": {
    "collapsed": false
   },
   "outputs": [
    {
     "data": {
      "text/plain": [
       "<matplotlib.text.Text at 0x7f6e58473110>"
      ]
     },
     "execution_count": 41,
     "metadata": {},
     "output_type": "execute_result"
    },
    {
     "data": {
      "image/png": "[encoded data removed]",
      "text/plain": [
       "<matplotlib.figure.Figure at 0x7f6e58bef390>"
      ]
     },
     "metadata": {},
     "output_type": "display_data"
    }
   ],
   "source": [
    "# Plot Model AUPRC results\n",
    "plt.figure(figsize=(8,6))\n",
    "pd.Series(model_AUPRCs, index=model_names).plot.bar()\n",
    "plt.xlabel('Method', fontsize=16)\n",
    "plt.ylabel('Lithium Gene AUPRC', fontsize=16)"
   ]
  },
  {
   "cell_type": "code",
   "execution_count": 93,
   "metadata": {
    "collapsed": true
   },
   "outputs": [],
   "source": [
    "# Construct a ranked gene list\n",
    "ranked_gene_list = thresh_prop_results.sort_values(by=['Prop Rank', \n",
    "                                                       'GWAS P-Value', \n",
    "                                                       'GWAS SNP Dist']).reset_index(drop=False).reset_index()[['index', 'Gene']]\n",
    "ranked_gene_list['index'] += 1\n",
    "ranked_gene_list.columns = ['Rank', 'Gene']"
   ]
  },
  {
   "cell_type": "code",
   "execution_count": 102,
   "metadata": {
    "collapsed": false
   },
   "outputs": [
    {
     "name": "stdout",
     "output_type": "stream",
     "text": [
      "Z-score and p-value of TopProp Only Rank Sum Test:\n",
      "Z = -4.51877781482\n",
      "p = 3.10988111896e-06\n"
     ]
    }
   ],
   "source": [
    "# Calculate the ranksum statistic of a gold standard gene set from a ranked gene list\n",
    "# Must pass a 2-column DataFrame with the columns \"Rank\" (indexed from 1), and \"Gene\"\n",
    "ranksum_Z, ranksum_p = NBGWAS_analysis.ranksum(ranked_gene_list, gold_std)"
   ]
  }
 ],
 "metadata": {
  "kernelspec": {
   "display_name": "Python 2",
   "language": "python",
   "name": "python2"
  },
  "language_info": {
   "codemirror_mode": {
    "name": "ipython",
    "version": 2
   },
   "file_extension": ".py",
   "mimetype": "text/x-python",
   "name": "python",
   "nbconvert_exporter": "python",
   "pygments_lexer": "ipython2",
   "version": "2.7.11"
  }
 },
 "nbformat": 4,
 "nbformat_minor": 0
}
