{
 "cells": [
  {
   "cell_type": "code",
   "execution_count": 24,
   "metadata": {},
   "outputs": [],
   "source": [
    "import pandas as pd\n",
    "import networkx as nx\n",
    "import ndex2.client as nc\n",
    "import ndex2"
   ]
  },
  {
   "cell_type": "markdown",
   "metadata": {},
   "source": [
    "### Map orthologous genes \n",
    "\n",
    "Data downloaded from HomoloGene Database: ftp://ftp.ncbi.nih.gov/pub/HomoloGene/build68/homologene.data"
   ]
  },
  {
   "cell_type": "code",
   "execution_count": 2,
   "metadata": {},
   "outputs": [],
   "source": [
    "filtered_rat_human = pd.read_table('/cellar/users/t1jia/Data/Ortho_rat/Data/homologene_filtered_rat_human.txt', header=None)"
   ]
  },
  {
   "cell_type": "code",
   "execution_count": 3,
   "metadata": {
    "scrolled": true
   },
   "outputs": [],
   "source": [
    "header = ['hid', 'taxid','geneid','gene_symbol','protein_id','protein_accession']\n",
    "filtered_rat_human.columns = header\n",
    "filtered_rat_human = filtered_rat_human.set_index('hid')"
   ]
  },
  {
   "cell_type": "code",
   "execution_count": 4,
   "metadata": {},
   "outputs": [
    {
     "data": {
      "text/html": [
       "<div>\n",
       "<style scoped>\n",
       "    .dataframe tbody tr th:only-of-type {\n",
       "        vertical-align: middle;\n",
       "    }\n",
       "\n",
       "    .dataframe tbody tr th {\n",
       "        vertical-align: top;\n",
       "    }\n",
       "\n",
       "    .dataframe thead th {\n",
       "        text-align: right;\n",
       "    }\n",
       "</style>\n",
       "<table border=\"1\" class=\"dataframe\">\n",
       "  <thead>\n",
       "    <tr style=\"text-align: right;\">\n",
       "      <th></th>\n",
       "      <th>taxid</th>\n",
       "      <th>geneid</th>\n",
       "      <th>gene_symbol</th>\n",
       "      <th>protein_id</th>\n",
       "      <th>protein_accession</th>\n",
       "    </tr>\n",
       "    <tr>\n",
       "      <th>hid</th>\n",
       "      <th></th>\n",
       "      <th></th>\n",
       "      <th></th>\n",
       "      <th></th>\n",
       "      <th></th>\n",
       "    </tr>\n",
       "  </thead>\n",
       "  <tbody>\n",
       "    <tr>\n",
       "      <th>3</th>\n",
       "      <td>9606</td>\n",
       "      <td>34</td>\n",
       "      <td>ACADM</td>\n",
       "      <td>4557231</td>\n",
       "      <td>NP_000007.1</td>\n",
       "    </tr>\n",
       "    <tr>\n",
       "      <th>3</th>\n",
       "      <td>10116</td>\n",
       "      <td>24158</td>\n",
       "      <td>Acadm</td>\n",
       "      <td>292494885</td>\n",
       "      <td>NP_058682.2</td>\n",
       "    </tr>\n",
       "    <tr>\n",
       "      <th>5</th>\n",
       "      <td>9606</td>\n",
       "      <td>37</td>\n",
       "      <td>ACADVL</td>\n",
       "      <td>4557235</td>\n",
       "      <td>NP_000009.1</td>\n",
       "    </tr>\n",
       "    <tr>\n",
       "      <th>5</th>\n",
       "      <td>10116</td>\n",
       "      <td>25363</td>\n",
       "      <td>Acadvl</td>\n",
       "      <td>6978435</td>\n",
       "      <td>NP_037023.1</td>\n",
       "    </tr>\n",
       "    <tr>\n",
       "      <th>6</th>\n",
       "      <td>9606</td>\n",
       "      <td>38</td>\n",
       "      <td>ACAT1</td>\n",
       "      <td>4557237</td>\n",
       "      <td>NP_000010.1</td>\n",
       "    </tr>\n",
       "  </tbody>\n",
       "</table>\n",
       "</div>"
      ],
      "text/plain": [
       "     taxid  geneid gene_symbol  protein_id protein_accession\n",
       "hid                                                         \n",
       "3     9606      34       ACADM     4557231       NP_000007.1\n",
       "3    10116   24158       Acadm   292494885       NP_058682.2\n",
       "5     9606      37      ACADVL     4557235       NP_000009.1\n",
       "5    10116   25363      Acadvl     6978435       NP_037023.1\n",
       "6     9606      38       ACAT1     4557237       NP_000010.1"
      ]
     },
     "execution_count": 4,
     "metadata": {},
     "output_type": "execute_result"
    }
   ],
   "source": [
    "filtered_rat_human.head()"
   ]
  },
  {
   "cell_type": "code",
   "execution_count": 5,
   "metadata": {},
   "outputs": [],
   "source": [
    "groups = {}"
   ]
  },
  {
   "cell_type": "code",
   "execution_count": 6,
   "metadata": {},
   "outputs": [],
   "source": [
    "for hid, row in filtered_rat_human.iterrows():\n",
    "    if hid not in groups:\n",
    "        groups[hid] = {}\n",
    "    if row['taxid'] == 9606:\n",
    "        groups[hid]['human'] = row['gene_symbol']\n",
    "    elif row['taxid'] == 10116:\n",
    "        groups[hid]['rat'] = row['gene_symbol']"
   ]
  },
  {
   "cell_type": "code",
   "execution_count": 7,
   "metadata": {},
   "outputs": [],
   "source": [
    "# Take all one-to-one mapping\n",
    "hid_filtered = [hid for hid in groups if len(groups[hid]) == 2]"
   ]
  },
  {
   "cell_type": "code",
   "execution_count": 8,
   "metadata": {},
   "outputs": [],
   "source": [
    "name_map = {}\n",
    "for hid in hid_filtered:\n",
    "    name_map[groups[hid]['human']] = groups[hid]['rat']"
   ]
  },
  {
   "cell_type": "code",
   "execution_count": 9,
   "metadata": {},
   "outputs": [],
   "source": [
    "human_gene_list = name_map.keys()"
   ]
  },
  {
   "cell_type": "code",
   "execution_count": 10,
   "metadata": {},
   "outputs": [
    {
     "data": {
      "text/plain": [
       "16289"
      ]
     },
     "execution_count": 10,
     "metadata": {},
     "output_type": "execute_result"
    }
   ],
   "source": [
    "len(human_gene_list)"
   ]
  },
  {
   "cell_type": "markdown",
   "metadata": {},
   "source": [
    "### PCNet and mapping statistics "
   ]
  },
  {
   "cell_type": "code",
   "execution_count": 11,
   "metadata": {},
   "outputs": [],
   "source": [
    "PCNet = nx.read_edgelist('/cellar/users/t1jia/Data/Networks/PCNet.txt')"
   ]
  },
  {
   "cell_type": "code",
   "execution_count": 12,
   "metadata": {
    "scrolled": true
   },
   "outputs": [
    {
     "data": {
      "text/plain": [
       "19781"
      ]
     },
     "execution_count": 12,
     "metadata": {},
     "output_type": "execute_result"
    }
   ],
   "source": [
    "# Number of nodes in PCNet\n",
    "len(PCNet.nodes())"
   ]
  },
  {
   "cell_type": "code",
   "execution_count": 13,
   "metadata": {},
   "outputs": [
    {
     "data": {
      "text/plain": [
       "15925"
      ]
     },
     "execution_count": 13,
     "metadata": {},
     "output_type": "execute_result"
    }
   ],
   "source": [
    "# Number of ortholog nodes\n",
    "overlap_nodes = set(PCNet.nodes()).intersection(set(human_gene_list))\n",
    "len(overlap_nodes)"
   ]
  },
  {
   "cell_type": "code",
   "execution_count": 14,
   "metadata": {},
   "outputs": [
    {
     "data": {
      "text/plain": [
       "0.8050654668621404"
      ]
     },
     "execution_count": 14,
     "metadata": {},
     "output_type": "execute_result"
    }
   ],
   "source": [
    "# Fraction of nodes\n",
    "len(overlap_nodes)/float(len(PCNet.nodes()))"
   ]
  },
  {
   "cell_type": "code",
   "execution_count": 15,
   "metadata": {},
   "outputs": [],
   "source": [
    "PCNet_orthologs = PCNet.subgraph(overlap_nodes)"
   ]
  },
  {
   "cell_type": "code",
   "execution_count": 16,
   "metadata": {},
   "outputs": [
    {
     "data": {
      "text/plain": [
       "2724724"
      ]
     },
     "execution_count": 16,
     "metadata": {},
     "output_type": "execute_result"
    }
   ],
   "source": [
    "# Number of edges in PCNet\n",
    "len(PCNet.edges())"
   ]
  },
  {
   "cell_type": "code",
   "execution_count": 17,
   "metadata": {},
   "outputs": [
    {
     "data": {
      "text/plain": [
       "2215901"
      ]
     },
     "execution_count": 17,
     "metadata": {},
     "output_type": "execute_result"
    }
   ],
   "source": [
    "# Number of edges in filtered PCNet\n",
    "len(PCNet_orthologs.edges())"
   ]
  },
  {
   "cell_type": "code",
   "execution_count": 18,
   "metadata": {},
   "outputs": [
    {
     "data": {
      "text/plain": [
       "0.8132570491543364"
      ]
     },
     "execution_count": 18,
     "metadata": {},
     "output_type": "execute_result"
    }
   ],
   "source": [
    "# Fraction of edges\n",
    "float(len(PCNet_orthologs.edges()))/len(PCNet.edges())"
   ]
  },
  {
   "cell_type": "markdown",
   "metadata": {},
   "source": [
    "### Bring PCnet to rat naming space"
   ]
  },
  {
   "cell_type": "code",
   "execution_count": 19,
   "metadata": {},
   "outputs": [],
   "source": [
    "rat_PCNet = nx.relabel_nodes(PCNet_orthologs, name_map)"
   ]
  },
  {
   "cell_type": "code",
   "execution_count": 20,
   "metadata": {},
   "outputs": [],
   "source": [
    "nx.write_edgelist(rat_PCNet,'/cellar/users/t1jia/Data/Ortho_rat/Data/rat_PCNet.txt',data=False)"
   ]
  },
  {
   "cell_type": "markdown",
   "metadata": {
    "collapsed": true
   },
   "source": [
    "### Upload rat PCNet to Ndex"
   ]
  },
  {
   "cell_type": "code",
   "execution_count": 27,
   "metadata": {},
   "outputs": [
    {
     "name": "stdout",
     "output_type": "stream",
     "text": [
      "Success.  Please continue.\n"
     ]
    }
   ],
   "source": [
    "my_account=\"my_account\"\n",
    "my_password=\"my_password\"\n",
    "my_server=\"http://public.ndexbio.org\"\n",
    "try:\n",
    "    my_ndex=nc.Ndex2(my_server, my_account, my_password)\n",
    "    my_ndex.update_status()\n",
    "    print(\"Success.  Please continue.\")\n",
    "except Exception as inst:\n",
    "    print(\"Could not access account %s with password %s\" % (my_account, my_password))\n",
    "    print(inst.args)"
   ]
  },
  {
   "cell_type": "code",
   "execution_count": 29,
   "metadata": {},
   "outputs": [],
   "source": [
    "NiceCx_ratpcnet = ndex2.create_nice_cx_from_networkx(rat_PCNet)\n",
    "NiceCx_ratpcnet.set_name('Rat PCNet')"
   ]
  },
  {
   "cell_type": "code",
   "execution_count": 30,
   "metadata": {},
   "outputs": [
    {
     "name": "stdout",
     "output_type": "stream",
     "text": [
      "http://public.ndexbio.org/v2/network/edde0831-91fb-11e8-a4bf-0ac135e8bacf\n",
      "CPU times: user 16min 44s, sys: 1.26 s, total: 16min 46s\n",
      "Wall time: 16min 52s\n"
     ]
    }
   ],
   "source": [
    "%%time\n",
    "upload_message = NiceCx_ratpcnet.upload_to(my_server, my_account, my_password)\n",
    "print(upload_message)"
   ]
  },
  {
   "cell_type": "code",
   "execution_count": null,
   "metadata": {},
   "outputs": [],
   "source": []
  }
 ],
 "metadata": {
  "kernelspec": {
   "display_name": "Python 3",
   "language": "python",
   "name": "python3"
  },
  "language_info": {
   "codemirror_mode": {
    "name": "ipython",
    "version": 3
   },
   "file_extension": ".py",
   "mimetype": "text/x-python",
   "name": "python",
   "nbconvert_exporter": "python",
   "pygments_lexer": "ipython3",
   "version": "3.6.5"
  }
 },
 "nbformat": 4,
 "nbformat_minor": 2
}
