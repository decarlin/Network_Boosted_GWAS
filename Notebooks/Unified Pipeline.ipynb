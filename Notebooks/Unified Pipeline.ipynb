{
 "cells": [
  {
   "cell_type": "markdown",
   "metadata": {},
   "source": [
    "First we import the data.  At first we need the SNP summary statistics and the genome mapping file."
   ]
  },
  {
   "cell_type": "code",
   "execution_count": 1,
   "metadata": {},
   "outputs": [],
   "source": [
    "%matplotlib inline\n",
    "\n",
    "import pandas as pd\n",
    "import numpy as np\n",
    "from pandas import DataFrame\n",
    "from scipy.stats import uniform\n",
    "from scipy.stats import randint\n",
    "import numpy as np\n",
    "import matplotlib.pyplot as plt\n",
    "import os\n",
    "import pandas as pd\n",
    "import time\n",
    "import ndex2\n",
    "import ndex2.client as nc\n",
    "#import genepattern\n",
    "import networkx as nx\n"
   ]
  },
  {
   "cell_type": "markdown",
   "metadata": {},
   "source": [
    "File Format: SNP-level p-values\n",
    "This file is a 4-column delimited file with the following columns in this order:\n",
    "\n",
    "rsID\n",
    "Chromosome\n",
    "SNP Position (using the genome build corresponding to your Gene Positions file)\n",
    "SNP P-value\n",
    "The user may pass more columns than specified (as long as the file has at least 4 columns). The default behavior will be to select the first four columns in order as these columns.\n",
    "\n",
    "The user may specify the columns to use in the file by passing in a 4-valued list indicating the column numbers that should be used (in the same order as the one described above) into the 'cols' parameter. These 4 values will be indexed from 0 (e.g. '0,1,2,3' will select the first 4 columns in order), and must be passed as a comma-separated string (no spaces)."
   ]
  },
  {
   "cell_type": "code",
   "execution_count": 2,
   "metadata": {},
   "outputs": [
    {
     "data": {
      "text/html": [
       "<div>\n",
       "<style scoped>\n",
       "    .dataframe tbody tr th:only-of-type {\n",
       "        vertical-align: middle;\n",
       "    }\n",
       "\n",
       "    .dataframe tbody tr th {\n",
       "        vertical-align: top;\n",
       "    }\n",
       "\n",
       "    .dataframe thead th {\n",
       "        text-align: right;\n",
       "    }\n",
       "</style>\n",
       "<table border=\"1\" class=\"dataframe\">\n",
       "  <thead>\n",
       "    <tr style=\"text-align: right;\">\n",
       "      <th></th>\n",
       "      <th>Marker</th>\n",
       "      <th>Chr</th>\n",
       "      <th>Pos</th>\n",
       "      <th>P-Value</th>\n",
       "    </tr>\n",
       "  </thead>\n",
       "  <tbody>\n",
       "    <tr>\n",
       "      <th>0</th>\n",
       "      <td>rs3131972</td>\n",
       "      <td>1</td>\n",
       "      <td>742584</td>\n",
       "      <td>0.761033</td>\n",
       "    </tr>\n",
       "    <tr>\n",
       "      <th>1</th>\n",
       "      <td>rs3131969</td>\n",
       "      <td>1</td>\n",
       "      <td>744045</td>\n",
       "      <td>0.784919</td>\n",
       "    </tr>\n",
       "    <tr>\n",
       "      <th>2</th>\n",
       "      <td>rs3131967</td>\n",
       "      <td>1</td>\n",
       "      <td>744197</td>\n",
       "      <td>0.793520</td>\n",
       "    </tr>\n",
       "    <tr>\n",
       "      <th>3</th>\n",
       "      <td>rs1048488</td>\n",
       "      <td>1</td>\n",
       "      <td>750775</td>\n",
       "      <td>0.761041</td>\n",
       "    </tr>\n",
       "    <tr>\n",
       "      <th>4</th>\n",
       "      <td>rs12562034</td>\n",
       "      <td>1</td>\n",
       "      <td>758311</td>\n",
       "      <td>0.987899</td>\n",
       "    </tr>\n",
       "  </tbody>\n",
       "</table>\n",
       "</div>"
      ],
      "text/plain": [
       "       Marker  Chr     Pos   P-Value\n",
       "0   rs3131972    1  742584  0.761033\n",
       "1   rs3131969    1  744045  0.784919\n",
       "2   rs3131967    1  744197  0.793520\n",
       "3   rs1048488    1  750775  0.761041\n",
       "4  rs12562034    1  758311  0.987899"
      ]
     },
     "execution_count": 2,
     "metadata": {},
     "output_type": "execute_result"
    }
   ],
   "source": [
    "# Fix so that this reads directly from respository Data folder\n",
    "#snp_summary_file = '/Users/Dan/data/GWAS_for_class/pgc.bip.2012-04/pgc.bip.full.2012-04.txt'\n",
    "snp_summary_file = '/Users/Dan/data/GWAS_for_class/pgc.scz.full.2012-04.txt'\n",
    "\n",
    "def load_SNP_pvals(snp_pval_file, delimiter='\\t', header=False, cols='0,1,2,3'):\n",
    "        # Check for valid 'cols' parameter\n",
    "    try:\n",
    "        cols_idx = [int(c) for c in cols.split(',')]\n",
    "    except:\n",
    "        raise ValueError('Invalid column index string')\n",
    "    # Load gene_pos_file\n",
    "    if header:\n",
    "            SNP_summary = pd.read_csv(snp_pval_file, delimiter=delimiter)\n",
    "    else:\n",
    "            SNP_summary = pd.read_csv(snp_pval_file, delimiter=delimiter, header=-1)\n",
    "    # Check gene positions table format\n",
    "    if (SNP_summary.shape[1] < 4) | (max(cols_idx) >  SNP_summary.shape[1]-1):\n",
    "        raise ValueError('Not enough columns in SNP Summary File')\n",
    "    # Construct gene position table\n",
    "    SNP_summary = SNP_summary[cols_idx]\n",
    "    SNP_summary.columns = ['Marker', 'Chr', 'Pos', 'P-Value']\n",
    "    return SNP_summary\n",
    "\n",
    "snp_summary = load_SNP_pvals(snp_summary_file, delimiter='\\t', header=False, cols='0,1,2,7')\n",
    "snp_summary.head()"
   ]
  },
  {
   "cell_type": "markdown",
   "metadata": {},
   "source": [
    "Assigning GWAS p-values to genes - Minimum P Method\n",
    "For each gene in the genome (or as defined by the Gene Positions file), we will collect all SNPs within a specified genomic distance from the gene body (transcription start site to transcription end site). The SNP must fall within the specified genomic distance (up or downstream of the gene body). This distance is given as kilobases, (e.g. if 'window' is set to 5, this will collect all SNPs within 5kb of the gene body.\n",
    "Each gene is then assigned the minimum of all the p-values across all SNPs falling within the specified window."
   ]
  },
  {
   "cell_type": "code",
   "execution_count": 4,
   "metadata": {},
   "outputs": [],
   "source": [
    "def min_p(SNP_summary, gene_positions, window):\n",
    "        starttime = time.time()\n",
    "        dist = window*1000\n",
    "        genelist = list(gene_positions.index)\n",
    "        min_p_list = []\n",
    "        SNP_summary['Chr']=SNP_summary['Chr'].astype(str)\n",
    "        for gene in genelist:\n",
    "                gene_info = gene_positions.ix[gene]\n",
    "                chrom = str(gene_info['Chr'])\n",
    "                start = gene_info['Start']\n",
    "                stop = gene_info['End']\n",
    "                # Get all SNPs on same chromosome\n",
    "                SNP_summary_filt1 = SNP_summary[SNP_summary['Chr']==chrom]\n",
    "                # Get all SNPs after window start position\n",
    "                SNP_summary_filt2 = SNP_summary_filt1[SNP_summary_filt1['Pos'] >= (start-dist)]\n",
    "                # Get all SNPs before window end position\n",
    "                SNP_summary_filt3 = SNP_summary_filt2[SNP_summary_filt2['Pos'] <= (stop+dist)]\n",
    "                # Get min_p statistics for this gene\n",
    "                if len(SNP_summary_filt3) >= 1:\n",
    "                        min_p_data = SNP_summary_filt3.ix[SNP_summary_filt3['P-Value'].argmin()]\n",
    "                        min_p_list.append([gene, chrom, start, stop, SNP_summary_filt3.shape[0], min_p_data['Marker'], int(min_p_data['Pos']), min_p_data['P-Value']])\n",
    "                else:\n",
    "                        min_p_list.append([gene, chrom, start, stop, 0, None, None, None])\n",
    "        min_p_table = pd.DataFrame(min_p_list, columns = ['Gene', 'Chr', 'Gene Start', 'Gene End', 'nSNPs', 'TopSNP', 'TopSNP Pos', 'TopSNP P-Value'])\n",
    "        min_p_table['SNP Distance'] = abs(min_p_table['TopSNP Pos'].subtract(min_p_table['Gene Start']))\n",
    "        min_p_table = min_p_table.dropna().sort_values(by=['TopSNP P-Value', 'Chr', 'Gene Start'])\n",
    "        print(\"P-Values assigned to genes:\", time.time()-starttime, 'seconds')\n",
    "        return min_p_table"
   ]
  },
  {
   "cell_type": "code",
   "execution_count": 7,
   "metadata": {},
   "outputs": [],
   "source": [
    "# Load gene positions from file                                                                                            \n",
    "def load_gene_pos(gene_pos_file, delimiter='\\t', header=False, cols='0,1,2,3'):\n",
    "        # Check for valid 'cols' parameter                                                                                 \n",
    "        try:\n",
    "                cols_idx = [int(c) for c in cols.split(',')]\n",
    "        except:\n",
    "                raise ValueError('Invalid column index string')\n",
    "        # Load gene_pos_file                                                                                               \n",
    "        if header:\n",
    "                gene_positions = pd.read_csv(gene_pos_file, delimiter=delimiter)\n",
    "        else:\n",
    "                gene_positions = pd.read_csv(gene_pos_file, delimiter=delimiter, header=-1)\n",
    "        # Check gene positions table format                                                                                \n",
    "        if (gene_positions.shape[1] < 4) | (max(cols_idx) >  gene_positions.shape[1]-1):\n",
    "                raise ValueError('Not enough columns in Gene Positions File')\n",
    "        # Construct gene position table                                                                                    \n",
    "        gene_positions = gene_positions[cols_idx]\n",
    "        gene_positions.columns = ['Gene', 'Chr', 'Start', 'End']\n",
    "        return gene_positions.set_index('Gene')"
   ]
  },
  {
   "cell_type": "code",
   "execution_count": 9,
   "metadata": {},
   "outputs": [
    {
     "name": "stderr",
     "output_type": "stream",
     "text": [
      "/Users/Dan/anaconda/envs/mypython3/lib/python3.6/site-packages/ipykernel_launcher.py:8: DeprecationWarning: \n",
      ".ix is deprecated. Please use\n",
      ".loc for label based indexing or\n",
      ".iloc for positional indexing\n",
      "\n",
      "See the documentation here:\n",
      "http://pandas.pydata.org/pandas-docs/stable/indexing.html#ix-indexer-is-deprecated\n",
      "  \n",
      "/Users/Dan/anaconda/envs/mypython3/lib/python3.6/site-packages/ipykernel_launcher.py:20: DeprecationWarning: \n",
      ".ix is deprecated. Please use\n",
      ".loc for label based indexing or\n",
      ".iloc for positional indexing\n",
      "\n",
      "See the documentation here:\n",
      "http://pandas.pydata.org/pandas-docs/stable/indexing.html#ix-indexer-is-deprecated\n",
      "/Users/Dan/anaconda/envs/mypython3/lib/python3.6/site-packages/ipykernel_launcher.py:20: FutureWarning: 'argmin' is deprecated, use 'idxmin' instead. The behavior of 'argmin'\n",
      "will be corrected to return the positional minimum in the future.\n",
      "Use 'series.values.argmin' to get the position of the minimum now.\n"
     ]
    },
    {
     "ename": "KeyboardInterrupt",
     "evalue": "",
     "output_type": "error",
     "traceback": [
      "\u001b[0;31m---------------------------------------------------------------------------\u001b[0m",
      "\u001b[0;31mKeyboardInterrupt\u001b[0m                         Traceback (most recent call last)",
      "\u001b[0;32m<ipython-input-9-46e39c0af32a>\u001b[0m in \u001b[0;36m<module>\u001b[0;34m()\u001b[0m\n\u001b[1;32m      3\u001b[0m \u001b[0mhg18_gene_pos\u001b[0m \u001b[0;34m=\u001b[0m \u001b[0mload_gene_pos\u001b[0m\u001b[0;34m(\u001b[0m\u001b[0mgene_pos_file\u001b[0m\u001b[0;34m,\u001b[0m \u001b[0mdelimiter\u001b[0m\u001b[0;34m=\u001b[0m\u001b[0;34m'\\t'\u001b[0m\u001b[0;34m,\u001b[0m \u001b[0mheader\u001b[0m\u001b[0;34m=\u001b[0m\u001b[0;32mFalse\u001b[0m\u001b[0;34m)\u001b[0m\u001b[0;34m\u001b[0m\u001b[0m\n\u001b[1;32m      4\u001b[0m \u001b[0;34m\u001b[0m\u001b[0m\n\u001b[0;32m----> 5\u001b[0;31m \u001b[0mmin_p_table\u001b[0m \u001b[0;34m=\u001b[0m \u001b[0mmin_p\u001b[0m\u001b[0;34m(\u001b[0m\u001b[0msnp_summary\u001b[0m\u001b[0;34m,\u001b[0m \u001b[0mhg18_gene_pos\u001b[0m\u001b[0;34m,\u001b[0m \u001b[0;36m10\u001b[0m\u001b[0;34m)\u001b[0m\u001b[0;34m\u001b[0m\u001b[0m\n\u001b[0m\u001b[1;32m      6\u001b[0m \u001b[0mmin_p_table\u001b[0m\u001b[0;34m.\u001b[0m\u001b[0mhead\u001b[0m\u001b[0;34m(\u001b[0m\u001b[0;34m)\u001b[0m\u001b[0;34m\u001b[0m\u001b[0m\n",
      "\u001b[0;32m<ipython-input-4-d441222662b6>\u001b[0m in \u001b[0;36mmin_p\u001b[0;34m(SNP_summary, gene_positions, window)\u001b[0m\n\u001b[1;32m     11\u001b[0m                 \u001b[0mstop\u001b[0m \u001b[0;34m=\u001b[0m \u001b[0mgene_info\u001b[0m\u001b[0;34m[\u001b[0m\u001b[0;34m'End'\u001b[0m\u001b[0;34m]\u001b[0m\u001b[0;34m\u001b[0m\u001b[0m\n\u001b[1;32m     12\u001b[0m                 \u001b[0;31m# Get all SNPs on same chromosome\u001b[0m\u001b[0;34m\u001b[0m\u001b[0;34m\u001b[0m\u001b[0m\n\u001b[0;32m---> 13\u001b[0;31m                 \u001b[0mSNP_summary_filt1\u001b[0m \u001b[0;34m=\u001b[0m \u001b[0mSNP_summary\u001b[0m\u001b[0;34m[\u001b[0m\u001b[0mSNP_summary\u001b[0m\u001b[0;34m[\u001b[0m\u001b[0;34m'Chr'\u001b[0m\u001b[0;34m]\u001b[0m\u001b[0;34m==\u001b[0m\u001b[0mchrom\u001b[0m\u001b[0;34m]\u001b[0m\u001b[0;34m\u001b[0m\u001b[0m\n\u001b[0m\u001b[1;32m     14\u001b[0m                 \u001b[0;31m# Get all SNPs after window start position\u001b[0m\u001b[0;34m\u001b[0m\u001b[0;34m\u001b[0m\u001b[0m\n\u001b[1;32m     15\u001b[0m                 \u001b[0mSNP_summary_filt2\u001b[0m \u001b[0;34m=\u001b[0m \u001b[0mSNP_summary_filt1\u001b[0m\u001b[0;34m[\u001b[0m\u001b[0mSNP_summary_filt1\u001b[0m\u001b[0;34m[\u001b[0m\u001b[0;34m'Pos'\u001b[0m\u001b[0;34m]\u001b[0m \u001b[0;34m>=\u001b[0m \u001b[0;34m(\u001b[0m\u001b[0mstart\u001b[0m\u001b[0;34m-\u001b[0m\u001b[0mdist\u001b[0m\u001b[0;34m)\u001b[0m\u001b[0;34m]\u001b[0m\u001b[0;34m\u001b[0m\u001b[0m\n",
      "\u001b[0;32m~/anaconda/envs/mypython3/lib/python3.6/site-packages/pandas/core/ops.py\u001b[0m in \u001b[0;36mwrapper\u001b[0;34m(self, other, axis)\u001b[0m\n\u001b[1;32m   1251\u001b[0m \u001b[0;34m\u001b[0m\u001b[0m\n\u001b[1;32m   1252\u001b[0m             \u001b[0;32mwith\u001b[0m \u001b[0mnp\u001b[0m\u001b[0;34m.\u001b[0m\u001b[0merrstate\u001b[0m\u001b[0;34m(\u001b[0m\u001b[0mall\u001b[0m\u001b[0;34m=\u001b[0m\u001b[0;34m'ignore'\u001b[0m\u001b[0;34m)\u001b[0m\u001b[0;34m:\u001b[0m\u001b[0;34m\u001b[0m\u001b[0m\n\u001b[0;32m-> 1253\u001b[0;31m                 \u001b[0mres\u001b[0m \u001b[0;34m=\u001b[0m \u001b[0mna_op\u001b[0m\u001b[0;34m(\u001b[0m\u001b[0mvalues\u001b[0m\u001b[0;34m,\u001b[0m \u001b[0mother\u001b[0m\u001b[0;34m)\u001b[0m\u001b[0;34m\u001b[0m\u001b[0m\n\u001b[0m\u001b[1;32m   1254\u001b[0m             \u001b[0;32mif\u001b[0m \u001b[0mis_scalar\u001b[0m\u001b[0;34m(\u001b[0m\u001b[0mres\u001b[0m\u001b[0;34m)\u001b[0m\u001b[0;34m:\u001b[0m\u001b[0;34m\u001b[0m\u001b[0m\n\u001b[1;32m   1255\u001b[0m                 raise TypeError('Could not compare {typ} type with Series'\n",
      "\u001b[0;32m~/anaconda/envs/mypython3/lib/python3.6/site-packages/pandas/core/ops.py\u001b[0m in \u001b[0;36mna_op\u001b[0;34m(x, y)\u001b[0m\n\u001b[1;32m   1138\u001b[0m \u001b[0;34m\u001b[0m\u001b[0m\n\u001b[1;32m   1139\u001b[0m         \u001b[0;32melif\u001b[0m \u001b[0mis_object_dtype\u001b[0m\u001b[0;34m(\u001b[0m\u001b[0mx\u001b[0m\u001b[0;34m.\u001b[0m\u001b[0mdtype\u001b[0m\u001b[0;34m)\u001b[0m\u001b[0;34m:\u001b[0m\u001b[0;34m\u001b[0m\u001b[0m\n\u001b[0;32m-> 1140\u001b[0;31m             \u001b[0mresult\u001b[0m \u001b[0;34m=\u001b[0m \u001b[0m_comp_method_OBJECT_ARRAY\u001b[0m\u001b[0;34m(\u001b[0m\u001b[0mop\u001b[0m\u001b[0;34m,\u001b[0m \u001b[0mx\u001b[0m\u001b[0;34m,\u001b[0m \u001b[0my\u001b[0m\u001b[0;34m)\u001b[0m\u001b[0;34m\u001b[0m\u001b[0m\n\u001b[0m\u001b[1;32m   1141\u001b[0m \u001b[0;34m\u001b[0m\u001b[0m\n\u001b[1;32m   1142\u001b[0m         \u001b[0;32melif\u001b[0m \u001b[0mis_datetimelike_v_numeric\u001b[0m\u001b[0;34m(\u001b[0m\u001b[0mx\u001b[0m\u001b[0;34m,\u001b[0m \u001b[0my\u001b[0m\u001b[0;34m)\u001b[0m\u001b[0;34m:\u001b[0m\u001b[0;34m\u001b[0m\u001b[0m\n",
      "\u001b[0;32m~/anaconda/envs/mypython3/lib/python3.6/site-packages/pandas/core/ops.py\u001b[0m in \u001b[0;36m_comp_method_OBJECT_ARRAY\u001b[0;34m(op, x, y)\u001b[0m\n\u001b[1;32m   1117\u001b[0m         \u001b[0mresult\u001b[0m \u001b[0;34m=\u001b[0m \u001b[0mlibops\u001b[0m\u001b[0;34m.\u001b[0m\u001b[0mvec_compare\u001b[0m\u001b[0;34m(\u001b[0m\u001b[0mx\u001b[0m\u001b[0;34m,\u001b[0m \u001b[0my\u001b[0m\u001b[0;34m,\u001b[0m \u001b[0mop\u001b[0m\u001b[0;34m)\u001b[0m\u001b[0;34m\u001b[0m\u001b[0m\n\u001b[1;32m   1118\u001b[0m     \u001b[0;32melse\u001b[0m\u001b[0;34m:\u001b[0m\u001b[0;34m\u001b[0m\u001b[0m\n\u001b[0;32m-> 1119\u001b[0;31m         \u001b[0mresult\u001b[0m \u001b[0;34m=\u001b[0m \u001b[0mlibops\u001b[0m\u001b[0;34m.\u001b[0m\u001b[0mscalar_compare\u001b[0m\u001b[0;34m(\u001b[0m\u001b[0mx\u001b[0m\u001b[0;34m,\u001b[0m \u001b[0my\u001b[0m\u001b[0;34m,\u001b[0m \u001b[0mop\u001b[0m\u001b[0;34m)\u001b[0m\u001b[0;34m\u001b[0m\u001b[0m\n\u001b[0m\u001b[1;32m   1120\u001b[0m     \u001b[0;32mreturn\u001b[0m \u001b[0mresult\u001b[0m\u001b[0;34m\u001b[0m\u001b[0m\n\u001b[1;32m   1121\u001b[0m \u001b[0;34m\u001b[0m\u001b[0m\n",
      "\u001b[0;31mKeyboardInterrupt\u001b[0m: "
     ]
    }
   ],
   "source": [
    "gene_pos_file = '/Users/Dan/data/GWAS_for_class/hg18/glist-hg18_proteinCoding.txt'\n",
    "\n",
    "hg18_gene_pos = load_gene_pos(gene_pos_file, delimiter='\\t', header=False)\n",
    "\n",
    "min_p_table = min_p(snp_summary, hg18_gene_pos, 10)\n",
    "min_p_table.head()\n",
    "\n"
   ]
  },
  {
   "cell_type": "markdown",
   "metadata": {},
   "source": [
    "Write the gene-wise p-values to a file"
   ]
  },
  {
   "cell_type": "markdown",
   "metadata": {},
   "source": [
    "Propagate the -log10(p-value) of each gene across the actual network and the null networks.\n",
    "\n",
    "First, we are going to grab the appropriate NDEX network.  In this case we are defaulting to PCNet, found at\n",
    "http://www.ndexbio.org/#/network/f93f402c-86d4-11e7-a10d-0ac135e8bacf\n",
    "\n"
   ]
  },
  {
   "cell_type": "code",
   "execution_count": 4,
   "metadata": {},
   "outputs": [
    {
     "data": {
      "text/html": [
       "<div>\n",
       "<style scoped>\n",
       "    .dataframe tbody tr th:only-of-type {\n",
       "        vertical-align: middle;\n",
       "    }\n",
       "\n",
       "    .dataframe tbody tr th {\n",
       "        vertical-align: top;\n",
       "    }\n",
       "\n",
       "    .dataframe thead th {\n",
       "        text-align: right;\n",
       "    }\n",
       "</style>\n",
       "<table border=\"1\" class=\"dataframe\">\n",
       "  <thead>\n",
       "    <tr style=\"text-align: right;\">\n",
       "      <th></th>\n",
       "      <th>Gene</th>\n",
       "      <th>Chr</th>\n",
       "      <th>Gene Start</th>\n",
       "      <th>Gene End</th>\n",
       "      <th>nSNPs</th>\n",
       "      <th>TopSNP</th>\n",
       "      <th>TopSNP Pos</th>\n",
       "      <th>TopSNP P-Value</th>\n",
       "      <th>SNP Distance</th>\n",
       "    </tr>\n",
       "  </thead>\n",
       "  <tbody>\n",
       "    <tr>\n",
       "      <th>0</th>\n",
       "      <td>HIST1H4K</td>\n",
       "      <td>6</td>\n",
       "      <td>27906930</td>\n",
       "      <td>27907284</td>\n",
       "      <td>8</td>\n",
       "      <td>rs34706883</td>\n",
       "      <td>27913234.0</td>\n",
       "      <td>5.071180e-10</td>\n",
       "      <td>6304.0</td>\n",
       "    </tr>\n",
       "    <tr>\n",
       "      <th>1</th>\n",
       "      <td>HIST1H2AK</td>\n",
       "      <td>6</td>\n",
       "      <td>27913636</td>\n",
       "      <td>27914096</td>\n",
       "      <td>16</td>\n",
       "      <td>rs34706883</td>\n",
       "      <td>27913234.0</td>\n",
       "      <td>5.071180e-10</td>\n",
       "      <td>402.0</td>\n",
       "    </tr>\n",
       "    <tr>\n",
       "      <th>2</th>\n",
       "      <td>HIST1H2BN</td>\n",
       "      <td>6</td>\n",
       "      <td>27914418</td>\n",
       "      <td>27914867</td>\n",
       "      <td>17</td>\n",
       "      <td>rs34706883</td>\n",
       "      <td>27913234.0</td>\n",
       "      <td>5.071180e-10</td>\n",
       "      <td>1184.0</td>\n",
       "    </tr>\n",
       "    <tr>\n",
       "      <th>3</th>\n",
       "      <td>HIST1H2AL</td>\n",
       "      <td>6</td>\n",
       "      <td>27941085</td>\n",
       "      <td>27941555</td>\n",
       "      <td>10</td>\n",
       "      <td>rs13199772</td>\n",
       "      <td>27942064.0</td>\n",
       "      <td>7.053790e-10</td>\n",
       "      <td>979.0</td>\n",
       "    </tr>\n",
       "    <tr>\n",
       "      <th>4</th>\n",
       "      <td>HIST1H1B</td>\n",
       "      <td>6</td>\n",
       "      <td>27942548</td>\n",
       "      <td>27943338</td>\n",
       "      <td>10</td>\n",
       "      <td>rs13199772</td>\n",
       "      <td>27942064.0</td>\n",
       "      <td>7.053790e-10</td>\n",
       "      <td>484.0</td>\n",
       "    </tr>\n",
       "  </tbody>\n",
       "</table>\n",
       "</div>"
      ],
      "text/plain": [
       "        Gene  Chr  Gene Start  Gene End  nSNPs      TopSNP  TopSNP Pos  \\\n",
       "0   HIST1H4K    6    27906930  27907284      8  rs34706883  27913234.0   \n",
       "1  HIST1H2AK    6    27913636  27914096     16  rs34706883  27913234.0   \n",
       "2  HIST1H2BN    6    27914418  27914867     17  rs34706883  27913234.0   \n",
       "3  HIST1H2AL    6    27941085  27941555     10  rs13199772  27942064.0   \n",
       "4   HIST1H1B    6    27942548  27943338     10  rs13199772  27942064.0   \n",
       "\n",
       "   TopSNP P-Value  SNP Distance  \n",
       "0    5.071180e-10        6304.0  \n",
       "1    5.071180e-10         402.0  \n",
       "2    5.071180e-10        1184.0  \n",
       "3    7.053790e-10         979.0  \n",
       "4    7.053790e-10         484.0  "
      ]
     },
     "execution_count": 4,
     "metadata": {},
     "output_type": "execute_result"
    }
   ],
   "source": [
    "#min_p_table.to_csv('/Users/Dan/data/GWAS_for_class/scz_gene_10k.txt',sep='\\t')\n",
    "\n",
    "min_p_table=pd.read_csv('/Users/Dan/data/GWAS_for_class/scz_gene_10k.txt', sep='\\t',usecols=[1,2,3,4,5,6,7,8,9])\n",
    "min_p_table.head()"
   ]
  },
  {
   "cell_type": "code",
   "execution_count": 5,
   "metadata": {
    "collapsed": true
   },
   "outputs": [],
   "source": [
    "def manhattan_plot(df):\n",
    "    \n",
    "    # -log_10(pvalue)\n",
    "    df['minuslog10pvalue'] = -np.log10(df['TopSNP P-Value'])\n",
    "    df['Chr'] = df['Chr'].astype('category')\n",
    "    #df.chromosome = df.chromosome.cat.set_categories(['ch-%i' % i for i in range(12)], ordered=True)\n",
    "    df = df.sort_values(['Chr','Gene Start'])\n",
    "\n",
    "    # How to plot gene vs. -log10(pvalue) and colour it by chromosome?\n",
    "    df['ind'] = range(len(df))\n",
    "    df_grouped = df.groupby(('Chr'))\n",
    "\n",
    "    fig = plt.figure()\n",
    "    ax = fig.add_subplot(111)\n",
    "    colors = ['red','green','blue', 'yellow']\n",
    "    x_labels = []\n",
    "    x_labels_pos = []\n",
    "    for num, (name, group) in enumerate(df_grouped):\n",
    "        group.plot(kind='scatter', x='ind', y='minuslog10pvalue',color=colors[num % len(colors)], ax=ax)\n",
    "        x_labels.append(name)\n",
    "        x_labels_pos.append((group['ind'].iloc[-1] - (group['ind'].iloc[-1] - group['ind'].iloc[0])/2))\n",
    "    ax.set_xticks(x_labels_pos)\n",
    "    ax.set_xticklabels(x_labels)\n",
    "    ax.set_xlim([0, len(df)])\n",
    "    ax.set_ylim([0, 10])\n",
    "    ax.set_xlabel('Chromosome')\n",
    "    ax.set_ylabel('-Log10 p-value')\n",
    "    plt.show()"
   ]
  },
  {
   "cell_type": "code",
   "execution_count": 6,
   "metadata": {},
   "outputs": [
    {
     "data": {
      "image/png": "[encoded data removed]",
      "text/plain": [
       "<matplotlib.figure.Figure at 0x1051fc950>"
      ]
     },
     "metadata": {},
     "output_type": "display_data"
    }
   ],
   "source": [
    "manhattan_plot(min_p_table)\n"
   ]
  },
  {
   "cell_type": "code",
   "execution_count": 7,
   "metadata": {},
   "outputs": [
    {
     "name": "stdout",
     "output_type": "stream",
     "text": [
      "Name: Parsimonious Composite Network (PCNet)\n",
      "Nodes: 19781\n",
      "Edges: 2724724\n",
      "Node Attributes: 0\n",
      "Edge Attributes: 0\n",
      "\n"
     ]
    }
   ],
   "source": [
    "\n",
    "from scipy.sparse import coo_matrix,csc_matrix\n",
    "from scipy.sparse.linalg import expm, expm_multiply\n",
    "\n",
    "\n",
    "\n",
    "anon_ndex=nc.Ndex2(\"http://public.ndexbio.org\")\n",
    "network_niceCx = ndex2.create_nice_cx_from_server(server='public.ndexbio.org', uuid='f93f402c-86d4-11e7-a10d-0ac135e8bacf')\n",
    "\n",
    "\n",
    "print(network_niceCx.get_summary())"
   ]
  },
  {
   "cell_type": "code",
   "execution_count": 8,
   "metadata": {},
   "outputs": [],
   "source": [
    "#networkx\n",
    "\n",
    "G=network_niceCx.to_networkx()\n",
    "\n",
    "node_names = [G.node[n]['name'] for n in G.nodes()]\n",
    "#graph laplacian\n",
    "L=csc_matrix(nx.laplacian_matrix(G))\n"
   ]
  },
  {
   "cell_type": "code",
   "execution_count": 9,
   "metadata": {},
   "outputs": [
    {
     "name": "stderr",
     "output_type": "stream",
     "text": [
      "/Users/Dan/anaconda/lib/python2.7/site-packages/ipykernel/__main__.py:17: FutureWarning: \n",
      "Passing list-likes to .loc or [] with any missing label will raise\n",
      "KeyError in the future, you can use .reindex() as an alternative.\n",
      "\n",
      "See the documentation here:\n",
      "https://pandas.pydata.org/pandas-docs/stable/indexing.html#deprecate-loc-reindex-listlike\n",
      "/Users/Dan/anaconda/lib/python2.7/site-packages/ipykernel/__main__.py:20: DeprecationWarning: \n",
      ".ix is deprecated. Please use\n",
      ".loc for label based indexing or\n",
      ".iloc for positional indexing\n",
      "\n",
      "See the documentation here:\n",
      "http://pandas.pydata.org/pandas-docs/stable/indexing.html#ix-indexer-is-deprecated\n"
     ]
    }
   ],
   "source": [
    "#in this branch of the code we compute based on a pre-calculated kernel\n",
    "# First, we will load the network kernel of the network we will be using\n",
    "kernel = pd.read_hdf('/Users/Dan/Data/GWAS_for_class/kernels/PCNet_kernel.hdf')\n",
    "network_genes = list(kernel.index)\n",
    "\n",
    "#We can load the data, but its already in memory\n",
    "#min_p_table = pd.read_csv('/Users/Dan/Data/GWAS_for_class/scz_gene_10k.txt',sep='\\t', usecols=[1,2,3,4,5,6,7,8])\n",
    "min_p_table.columns = list(min_p_table.columns)\n",
    "\n",
    "#Find genes with p-values below the threshold\n",
    "name='prop'\n",
    "threshold = 5e-6\n",
    "threshold_genes = {}\n",
    "prop_vectors = []\n",
    "pval_table = min_p_table\n",
    "threshold_genes[name] = min_p_table[pval_table['TopSNP P-Value'] < threshold]\n",
    "prop_vector = (pval_table.set_index('Gene').loc[network_genes]['TopSNP P-Value'] < threshold).astype(float)\n",
    "prop_vector.name = name\n",
    "prop_vectors.append(prop_vector)\n",
    "prop_vector_matrix = pd.concat(prop_vectors, axis=1).ix[network_genes].T"
   ]
  },
  {
   "cell_type": "code",
   "execution_count": 10,
   "metadata": {},
   "outputs": [
    {
     "data": {
      "text/html": [
       "<div>\n",
       "<style scoped>\n",
       "    .dataframe tbody tr th:only-of-type {\n",
       "        vertical-align: middle;\n",
       "    }\n",
       "\n",
       "    .dataframe tbody tr th {\n",
       "        vertical-align: top;\n",
       "    }\n",
       "\n",
       "    .dataframe thead th {\n",
       "        text-align: right;\n",
       "    }\n",
       "</style>\n",
       "<table border=\"1\" class=\"dataframe\">\n",
       "  <thead>\n",
       "    <tr style=\"text-align: right;\">\n",
       "      <th></th>\n",
       "      <th>prop</th>\n",
       "    </tr>\n",
       "    <tr>\n",
       "      <th>Gene</th>\n",
       "      <th></th>\n",
       "    </tr>\n",
       "  </thead>\n",
       "  <tbody>\n",
       "    <tr>\n",
       "      <th>TCF4</th>\n",
       "      <td>0.479835</td>\n",
       "    </tr>\n",
       "    <tr>\n",
       "      <th>HIST1H4C</th>\n",
       "      <td>0.467925</td>\n",
       "    </tr>\n",
       "    <tr>\n",
       "      <th>HIST1H2BC</th>\n",
       "      <td>0.467749</td>\n",
       "    </tr>\n",
       "    <tr>\n",
       "      <th>HIST1H2BN</th>\n",
       "      <td>0.466517</td>\n",
       "    </tr>\n",
       "    <tr>\n",
       "      <th>HIST1H4J</th>\n",
       "      <td>0.466316</td>\n",
       "    </tr>\n",
       "  </tbody>\n",
       "</table>\n",
       "</div>"
      ],
      "text/plain": [
       "               prop\n",
       "Gene               \n",
       "TCF4       0.479835\n",
       "HIST1H4C   0.467925\n",
       "HIST1H2BC  0.467749\n",
       "HIST1H2BN  0.466517\n",
       "HIST1H4J   0.466316"
      ]
     },
     "execution_count": 10,
     "metadata": {},
     "output_type": "execute_result"
    }
   ],
   "source": [
    "#propagate with pre-computed kernel\n",
    "prop_val_matrix = np.dot(prop_vector_matrix, kernel)\n",
    "prop_val_table = pd.DataFrame(prop_val_matrix, index = prop_vector_matrix.index, columns = prop_vector_matrix.columns)\n",
    "prop_val_table.T.sort_values(by='prop', ascending=False).head()"
   ]
  },
  {
   "cell_type": "code",
   "execution_count": 11,
   "metadata": {},
   "outputs": [
    {
     "data": {
      "text/html": [
       "<div>\n",
       "<style scoped>\n",
       "    .dataframe tbody tr th:only-of-type {\n",
       "        vertical-align: middle;\n",
       "    }\n",
       "\n",
       "    .dataframe tbody tr th {\n",
       "        vertical-align: top;\n",
       "    }\n",
       "\n",
       "    .dataframe thead th {\n",
       "        text-align: right;\n",
       "    }\n",
       "</style>\n",
       "<table border=\"1\" class=\"dataframe\">\n",
       "  <thead>\n",
       "    <tr style=\"text-align: right;\">\n",
       "      <th></th>\n",
       "      <th>prop</th>\n",
       "    </tr>\n",
       "    <tr>\n",
       "      <th>Gene</th>\n",
       "      <th></th>\n",
       "    </tr>\n",
       "  </thead>\n",
       "  <tbody>\n",
       "    <tr>\n",
       "      <th>LY6G6F</th>\n",
       "      <td>0.744055</td>\n",
       "    </tr>\n",
       "    <tr>\n",
       "      <th>MUSTN1</th>\n",
       "      <td>0.742368</td>\n",
       "    </tr>\n",
       "    <tr>\n",
       "      <th>AGBL3</th>\n",
       "      <td>0.616114</td>\n",
       "    </tr>\n",
       "    <tr>\n",
       "      <th>PATE1</th>\n",
       "      <td>0.501521</td>\n",
       "    </tr>\n",
       "    <tr>\n",
       "      <th>ZSCAN23</th>\n",
       "      <td>0.080481</td>\n",
       "    </tr>\n",
       "  </tbody>\n",
       "</table>\n",
       "</div>"
      ],
      "text/plain": [
       "             prop\n",
       "Gene             \n",
       "LY6G6F   0.744055\n",
       "MUSTN1   0.742368\n",
       "AGBL3    0.616114\n",
       "PATE1    0.501521\n",
       "ZSCAN23  0.080481"
      ]
     },
     "execution_count": 11,
     "metadata": {},
     "output_type": "execute_result"
    }
   ],
   "source": [
    "#or, heat diffusion, not precomputed, takes a minute or so\n",
    "\n",
    "input_list=list(pval_table[pval_table['TopSNP P-Value'] < threshold]['Gene'])\n",
    "input_vector=np.array([n in input_list for n in node_names])\n",
    "out_vector=expm_multiply(-L,input_vector,start=0,stop=0.1,endpoint=True)[-1]\n",
    "\n",
    "out_dict= dict(zip(node_names, out_vector))\n",
    "out_dict= {'prop': out_vector,'Gene':node_names}\n",
    "heat_df=pd.DataFrame.from_dict(out_dict).set_index('Gene')\n",
    "heat_df.sort_values(by='prop', ascending=False).head()\n"
   ]
  },
  {
   "cell_type": "code",
   "execution_count": 12,
   "metadata": {
    "collapsed": true
   },
   "outputs": [],
   "source": [
    "#write the results out\n",
    "\n",
    "prop_val_table.T.sort_values(by='prop', ascending=False).to_csv('propagated.txt', sep='\\t')"
   ]
  },
  {
   "cell_type": "code",
   "execution_count": 13,
   "metadata": {},
   "outputs": [
    {
     "data": {
      "text/html": [
       "<div>\n",
       "<style scoped>\n",
       "    .dataframe tbody tr th:only-of-type {\n",
       "        vertical-align: middle;\n",
       "    }\n",
       "\n",
       "    .dataframe tbody tr th {\n",
       "        vertical-align: top;\n",
       "    }\n",
       "\n",
       "    .dataframe thead th {\n",
       "        text-align: right;\n",
       "    }\n",
       "</style>\n",
       "<table border=\"1\" class=\"dataframe\">\n",
       "  <thead>\n",
       "    <tr style=\"text-align: right;\">\n",
       "      <th></th>\n",
       "      <th>Gene</th>\n",
       "      <th>Chr</th>\n",
       "      <th>Gene Start</th>\n",
       "      <th>Gene End</th>\n",
       "      <th>nSNPs</th>\n",
       "      <th>TopSNP</th>\n",
       "      <th>TopSNP Pos</th>\n",
       "      <th>TopSNP P-Value</th>\n",
       "    </tr>\n",
       "  </thead>\n",
       "  <tbody>\n",
       "    <tr>\n",
       "      <th>0</th>\n",
       "      <td>HIST1H4K</td>\n",
       "      <td>6</td>\n",
       "      <td>27906930</td>\n",
       "      <td>27907284</td>\n",
       "      <td>8</td>\n",
       "      <td>rs34706883</td>\n",
       "      <td>27913234.0</td>\n",
       "      <td>5.071180e-10</td>\n",
       "    </tr>\n",
       "    <tr>\n",
       "      <th>1</th>\n",
       "      <td>HIST1H2AK</td>\n",
       "      <td>6</td>\n",
       "      <td>27913636</td>\n",
       "      <td>27914096</td>\n",
       "      <td>16</td>\n",
       "      <td>rs34706883</td>\n",
       "      <td>27913234.0</td>\n",
       "      <td>5.071180e-10</td>\n",
       "    </tr>\n",
       "    <tr>\n",
       "      <th>2</th>\n",
       "      <td>HIST1H2BN</td>\n",
       "      <td>6</td>\n",
       "      <td>27914418</td>\n",
       "      <td>27914867</td>\n",
       "      <td>17</td>\n",
       "      <td>rs34706883</td>\n",
       "      <td>27913234.0</td>\n",
       "      <td>5.071180e-10</td>\n",
       "    </tr>\n",
       "    <tr>\n",
       "      <th>3</th>\n",
       "      <td>HIST1H2AL</td>\n",
       "      <td>6</td>\n",
       "      <td>27941085</td>\n",
       "      <td>27941555</td>\n",
       "      <td>10</td>\n",
       "      <td>rs13199772</td>\n",
       "      <td>27942064.0</td>\n",
       "      <td>7.053790e-10</td>\n",
       "    </tr>\n",
       "    <tr>\n",
       "      <th>4</th>\n",
       "      <td>HIST1H1B</td>\n",
       "      <td>6</td>\n",
       "      <td>27942548</td>\n",
       "      <td>27943338</td>\n",
       "      <td>10</td>\n",
       "      <td>rs13199772</td>\n",
       "      <td>27942064.0</td>\n",
       "      <td>7.053790e-10</td>\n",
       "    </tr>\n",
       "  </tbody>\n",
       "</table>\n",
       "</div>"
      ],
      "text/plain": [
       "        Gene  Chr  Gene Start  Gene End  nSNPs      TopSNP  TopSNP Pos  \\\n",
       "0   HIST1H4K    6    27906930  27907284      8  rs34706883  27913234.0   \n",
       "1  HIST1H2AK    6    27913636  27914096     16  rs34706883  27913234.0   \n",
       "2  HIST1H2BN    6    27914418  27914867     17  rs34706883  27913234.0   \n",
       "3  HIST1H2AL    6    27941085  27941555     10  rs13199772  27942064.0   \n",
       "4   HIST1H1B    6    27942548  27943338     10  rs13199772  27942064.0   \n",
       "\n",
       "   TopSNP P-Value  \n",
       "0    5.071180e-10  \n",
       "1    5.071180e-10  \n",
       "2    5.071180e-10  \n",
       "3    7.053790e-10  \n",
       "4    7.053790e-10  "
      ]
     },
     "execution_count": 13,
     "metadata": {},
     "output_type": "execute_result"
    }
   ],
   "source": [
    "#evaluation section\n",
    "\n",
    "wd = '/Users/Dan/Data/GWAS_for_class/'\n",
    "\n",
    "train_raw_pval_table = pd.read_csv('/Users/Dan/Data/GWAS_for_class/scz_gene_10k.txt',sep='\\t', usecols=[1,2,3,4,5,6,7,8])\n",
    "train_raw_pval_table.head()"
   ]
  },
  {
   "cell_type": "code",
   "execution_count": 14,
   "metadata": {},
   "outputs": [
    {
     "data": {
      "text/html": [
       "<div>\n",
       "<style scoped>\n",
       "    .dataframe tbody tr th:only-of-type {\n",
       "        vertical-align: middle;\n",
       "    }\n",
       "\n",
       "    .dataframe tbody tr th {\n",
       "        vertical-align: top;\n",
       "    }\n",
       "\n",
       "    .dataframe thead th {\n",
       "        text-align: right;\n",
       "    }\n",
       "</style>\n",
       "<table border=\"1\" class=\"dataframe\">\n",
       "  <thead>\n",
       "    <tr style=\"text-align: right;\">\n",
       "      <th></th>\n",
       "      <th>Gene</th>\n",
       "      <th>Chr</th>\n",
       "      <th>Gene Start</th>\n",
       "      <th>Gene End</th>\n",
       "      <th>nSNPs</th>\n",
       "      <th>TopSNP</th>\n",
       "      <th>TopSNP Pos</th>\n",
       "      <th>TopSNP P-Value</th>\n",
       "    </tr>\n",
       "  </thead>\n",
       "  <tbody>\n",
       "    <tr>\n",
       "      <th>0</th>\n",
       "      <td>A1BG</td>\n",
       "      <td>chr19</td>\n",
       "      <td>58861959</td>\n",
       "      <td>58864495</td>\n",
       "      <td>41</td>\n",
       "      <td>rs11668660</td>\n",
       "      <td>58873584.0</td>\n",
       "      <td>0.123100</td>\n",
       "    </tr>\n",
       "    <tr>\n",
       "      <th>1</th>\n",
       "      <td>A1CF</td>\n",
       "      <td>chr10</td>\n",
       "      <td>52595833</td>\n",
       "      <td>52645435</td>\n",
       "      <td>105</td>\n",
       "      <td>rs149129397</td>\n",
       "      <td>52591486.0</td>\n",
       "      <td>0.037540</td>\n",
       "    </tr>\n",
       "    <tr>\n",
       "      <th>2</th>\n",
       "      <td>A2M</td>\n",
       "      <td>chr12</td>\n",
       "      <td>9267753</td>\n",
       "      <td>9268613</td>\n",
       "      <td>46</td>\n",
       "      <td>rs56256934</td>\n",
       "      <td>9265319.0</td>\n",
       "      <td>0.037850</td>\n",
       "    </tr>\n",
       "    <tr>\n",
       "      <th>3</th>\n",
       "      <td>A2ML1</td>\n",
       "      <td>chr12</td>\n",
       "      <td>9020538</td>\n",
       "      <td>9039597</td>\n",
       "      <td>204</td>\n",
       "      <td>rs142115174</td>\n",
       "      <td>9044945.0</td>\n",
       "      <td>0.003994</td>\n",
       "    </tr>\n",
       "    <tr>\n",
       "      <th>4</th>\n",
       "      <td>A3GALT2</td>\n",
       "      <td>chr1</td>\n",
       "      <td>33772366</td>\n",
       "      <td>33786699</td>\n",
       "      <td>107</td>\n",
       "      <td>rs149266061</td>\n",
       "      <td>33771312.0</td>\n",
       "      <td>0.005271</td>\n",
       "    </tr>\n",
       "  </tbody>\n",
       "</table>\n",
       "</div>"
      ],
      "text/plain": [
       "      Gene    Chr  Gene Start  Gene End  nSNPs       TopSNP  TopSNP Pos  \\\n",
       "0     A1BG  chr19    58861959  58864495     41   rs11668660  58873584.0   \n",
       "1     A1CF  chr10    52595833  52645435    105  rs149129397  52591486.0   \n",
       "2      A2M  chr12     9267753   9268613     46   rs56256934   9265319.0   \n",
       "3    A2ML1  chr12     9020538   9039597    204  rs142115174   9044945.0   \n",
       "4  A3GALT2   chr1    33772366  33786699    107  rs149266061  33771312.0   \n",
       "\n",
       "   TopSNP P-Value  \n",
       "0        0.123100  \n",
       "1        0.037540  \n",
       "2        0.037850  \n",
       "3        0.003994  \n",
       "4        0.005271  "
      ]
     },
     "execution_count": 14,
     "metadata": {},
     "output_type": "execute_result"
    }
   ],
   "source": [
    "#test set gene mapped data\n",
    "test_raw_pval_table = pd.read_csv('/Users/Dan/Data/GWAS_for_class/scz2_gene_10k.txt',sep='\\t', usecols=[1,2,3,4,5,6,7,8])\n",
    "test_raw_pval_table.head()"
   ]
  },
  {
   "cell_type": "code",
   "execution_count": 15,
   "metadata": {},
   "outputs": [
    {
     "data": {
      "text/html": [
       "<div>\n",
       "<style scoped>\n",
       "    .dataframe tbody tr th:only-of-type {\n",
       "        vertical-align: middle;\n",
       "    }\n",
       "\n",
       "    .dataframe tbody tr th {\n",
       "        vertical-align: top;\n",
       "    }\n",
       "\n",
       "    .dataframe thead th {\n",
       "        text-align: right;\n",
       "    }\n",
       "</style>\n",
       "<table border=\"1\" class=\"dataframe\">\n",
       "  <thead>\n",
       "    <tr style=\"text-align: right;\">\n",
       "      <th></th>\n",
       "      <th>Gene</th>\n",
       "      <th>prop</th>\n",
       "    </tr>\n",
       "  </thead>\n",
       "  <tbody>\n",
       "    <tr>\n",
       "      <th>0</th>\n",
       "      <td>UBC</td>\n",
       "      <td>140.205768</td>\n",
       "    </tr>\n",
       "    <tr>\n",
       "      <th>1</th>\n",
       "      <td>APP</td>\n",
       "      <td>90.724654</td>\n",
       "    </tr>\n",
       "    <tr>\n",
       "      <th>2</th>\n",
       "      <td>HSP90AA1</td>\n",
       "      <td>52.349093</td>\n",
       "    </tr>\n",
       "    <tr>\n",
       "      <th>3</th>\n",
       "      <td>HSP90AB1</td>\n",
       "      <td>49.868157</td>\n",
       "    </tr>\n",
       "    <tr>\n",
       "      <th>4</th>\n",
       "      <td>SUMO2</td>\n",
       "      <td>46.114665</td>\n",
       "    </tr>\n",
       "  </tbody>\n",
       "</table>\n",
       "</div>"
      ],
      "text/plain": [
       "       Gene        prop\n",
       "0       UBC  140.205768\n",
       "1       APP   90.724654\n",
       "2  HSP90AA1   52.349093\n",
       "3  HSP90AB1   49.868157\n",
       "4     SUMO2   46.114665"
      ]
     },
     "execution_count": 15,
     "metadata": {},
     "output_type": "execute_result"
    }
   ],
   "source": [
    "#here is the propagated data\n",
    "train_prop_table = pd.read_csv('/Users/Dan/data/GWAS_for_class/GWAB_webserver/genelist_scz1_complete_for_class_analyis.txt',sep='\\t')\n",
    "train_prop_table.head()\n"
   ]
  },
  {
   "cell_type": "code",
   "execution_count": 16,
   "metadata": {
    "collapsed": true
   },
   "outputs": [],
   "source": [
    "def intersection_l(lst1, lst2):\n",
    "    return list(set(lst1) & set(lst2))\n",
    "\n",
    "int1=intersection_l(list(train_prop_table['Gene']),list(train_raw_pval_table['Gene']))\n",
    "int2= intersection_l(int1,list(train_raw_pval_table['Gene']))\n",
    "\n",
    "\n",
    "intersection=pd.DataFrame({'Gene':int2})\n",
    "intersection.head()\n",
    "\n",
    "gene_number=len(int2)\n"
   ]
  },
  {
   "cell_type": "code",
   "execution_count": 17,
   "metadata": {
    "collapsed": true
   },
   "outputs": [],
   "source": [
    "#we can look at the intersection of the top of any two lists\n",
    "\n",
    "train_prop_table_ltd=train_prop_table.set_index('Gene').join(intersection.set_index('Gene'),lsuffix='_tr_prop',rsuffix='_int',how='right')\n",
    "train_raw_pval_table_ltd=train_raw_pval_table.set_index('Gene').join(intersection.set_index('Gene'),lsuffix='_tr',rsuffix='_int',how='right')\n",
    "test_raw_pval_table_ltd=test_raw_pval_table.set_index('Gene').join(intersection.set_index('Gene'),lsuffix='_test',rsuffix='_int',how='right')\n"
   ]
  },
  {
   "cell_type": "code",
   "execution_count": 20,
   "metadata": {
    "collapsed": true
   },
   "outputs": [],
   "source": [
    "train_raw_top100=train_raw_pval_table_ltd.sort_values(by='TopSNP P-Value')[0:1000].index.values\n",
    "test_raw_top100=test_raw_pval_table_ltd.sort_values(by='TopSNP P-Value')[0:1000].index.values\n",
    "train_prop_top100=train_prop_table_ltd.sort_values(by='prop',ascending=False)[0:1000].index.values"
   ]
  },
  {
   "cell_type": "code",
   "execution_count": 21,
   "metadata": {},
   "outputs": [
    {
     "data": {
      "text/plain": [
       "323"
      ]
     },
     "execution_count": 21,
     "metadata": {},
     "output_type": "execute_result"
    }
   ],
   "source": [
    "len(intersection_l(train_raw_top100,test_raw_top100))"
   ]
  },
  {
   "cell_type": "code",
   "execution_count": 22,
   "metadata": {},
   "outputs": [
    {
     "data": {
      "text/plain": [
       "108"
      ]
     },
     "execution_count": 22,
     "metadata": {},
     "output_type": "execute_result"
    }
   ],
   "source": [
    "len(intersection_l(train_prop_top100,test_raw_top100))"
   ]
  },
  {
   "cell_type": "code",
   "execution_count": 23,
   "metadata": {},
   "outputs": [
    {
     "data": {
      "text/plain": [
       "146"
      ]
     },
     "execution_count": 23,
     "metadata": {},
     "output_type": "execute_result"
    }
   ],
   "source": [
    "len(intersection_l(train_prop_top100,train_raw_top100))"
   ]
  },
  {
   "cell_type": "code",
   "execution_count": 24,
   "metadata": {},
   "outputs": [
    {
     "data": {
      "text/html": [
       "<div>\n",
       "<style scoped>\n",
       "    .dataframe tbody tr th:only-of-type {\n",
       "        vertical-align: middle;\n",
       "    }\n",
       "\n",
       "    .dataframe tbody tr th {\n",
       "        vertical-align: top;\n",
       "    }\n",
       "\n",
       "    .dataframe thead th {\n",
       "        text-align: right;\n",
       "    }\n",
       "</style>\n",
       "<table border=\"1\" class=\"dataframe\">\n",
       "  <thead>\n",
       "    <tr style=\"text-align: right;\">\n",
       "      <th></th>\n",
       "      <th>0</th>\n",
       "      <th>1</th>\n",
       "    </tr>\n",
       "  </thead>\n",
       "  <tbody>\n",
       "    <tr>\n",
       "      <th>0</th>\n",
       "      <td>50</td>\n",
       "      <td>ACO2</td>\n",
       "    </tr>\n",
       "    <tr>\n",
       "      <th>1</th>\n",
       "      <td>60</td>\n",
       "      <td>ACTB</td>\n",
       "    </tr>\n",
       "    <tr>\n",
       "      <th>2</th>\n",
       "      <td>71</td>\n",
       "      <td>ACTG1</td>\n",
       "    </tr>\n",
       "    <tr>\n",
       "      <th>3</th>\n",
       "      <td>116</td>\n",
       "      <td>ADCYAP1</td>\n",
       "    </tr>\n",
       "    <tr>\n",
       "      <th>4</th>\n",
       "      <td>133</td>\n",
       "      <td>ADM</td>\n",
       "    </tr>\n",
       "  </tbody>\n",
       "</table>\n",
       "</div>"
      ],
      "text/plain": [
       "     0        1\n",
       "0   50     ACO2\n",
       "1   60     ACTB\n",
       "2   71    ACTG1\n",
       "3  116  ADCYAP1\n",
       "4  133      ADM"
      ]
     },
     "execution_count": 24,
     "metadata": {},
     "output_type": "execute_result"
    }
   ],
   "source": [
    "#alternatively, we can look at a gold standard gene set\n",
    "\n",
    "gold_std=pd.read_csv('/Users/Dan/Data/GWAS_for_class/SZ/SZ_hugo.txt',sep='\\t', header=None)\n",
    "gold_std.head()"
   ]
  },
  {
   "cell_type": "code",
   "execution_count": 25,
   "metadata": {},
   "outputs": [
    {
     "data": {
      "text/plain": [
       "162"
      ]
     },
     "execution_count": 25,
     "metadata": {},
     "output_type": "execute_result"
    }
   ],
   "source": [
    "genes=list(gold_std[1])\n",
    "\n",
    "len(intersection_l(train_prop_top100,gold_std[1]))"
   ]
  },
  {
   "cell_type": "code",
   "execution_count": 26,
   "metadata": {},
   "outputs": [
    {
     "data": {
      "text/plain": [
       "84"
      ]
     },
     "execution_count": 26,
     "metadata": {},
     "output_type": "execute_result"
    }
   ],
   "source": [
    "len(intersection_l(train_raw_top100,gold_std[1]))"
   ]
  },
  {
   "cell_type": "code",
   "execution_count": 27,
   "metadata": {},
   "outputs": [
    {
     "data": {
      "text/plain": [
       "94"
      ]
     },
     "execution_count": 27,
     "metadata": {},
     "output_type": "execute_result"
    }
   ],
   "source": [
    "len(intersection_l(test_raw_top100,gold_std[1]))"
   ]
  },
  {
   "cell_type": "code",
   "execution_count": 28,
   "metadata": {},
   "outputs": [
    {
     "data": {
      "text/plain": [
       "8.886003044494828e-12"
      ]
     },
     "execution_count": 28,
     "metadata": {},
     "output_type": "execute_result"
    }
   ],
   "source": [
    "#in this case the evaluation is a hypergeometric\n",
    "\n",
    "import scipy.stats as stats\n",
    "#M=total genes\n",
    "#n=size of gold std\n",
    "#N=size of pull, in this case 1000\n",
    "#x=hits\n",
    "\n",
    "#propagated value\n",
    "x_prop=len(intersection_l(train_prop_top100,gold_std[1]))\n",
    "M=len(int2)\n",
    "n=len(gold_std[1])\n",
    "N=1000\n",
    "prb = stats.hypergeom.cdf(x_prop, M, n, N)\n",
    "prop_p=1-prb\n",
    "prop_p"
   ]
  },
  {
   "cell_type": "code",
   "execution_count": null,
   "metadata": {
    "collapsed": true
   },
   "outputs": [],
   "source": []
  },
  {
   "cell_type": "code",
   "execution_count": 29,
   "metadata": {},
   "outputs": [
    {
     "data": {
      "text/plain": [
       "0.18380591128880164"
      ]
     },
     "execution_count": 29,
     "metadata": {},
     "output_type": "execute_result"
    }
   ],
   "source": [
    "#raw GWAS comparison\n",
    "\n",
    "x_raw=len(intersection_l(train_raw_top100,gold_std[1]))\n",
    "prb = stats.hypergeom.cdf(x_raw, M, n, N)\n",
    "raw_p=1-prb\n",
    "raw_p"
   ]
  },
  {
   "cell_type": "code",
   "execution_count": null,
   "metadata": {},
   "outputs": [],
   "source": [
    "#create the network for export\n",
    "\n",
    "prop_val_sorted=prop_val_table.T.sort_values(by='prop', ascending=False)\n",
    "\n",
    "for n in network_niceCx.get_nodes():\n",
    "    try:\n",
    "        network_niceCx.set_node_attribute(n[0],'propogated score', prop_val_sorted.loc(n['name'])['prop'])\n",
    "    except KeyError:\n",
    "        next\n",
    "    \n",
    "        "
   ]
  },
  {
   "cell_type": "code",
   "execution_count": null,
   "metadata": {},
   "outputs": [],
   "source": [
    "[n['name'] for n in network_niceCx.get_nodes()]"
   ]
  },
  {
   "cell_type": "code",
   "execution_count": null,
   "metadata": {
    "collapsed": true
   },
   "outputs": [],
   "source": []
  }
 ],
 "metadata": {
  "kernelspec": {
   "display_name": "Python 3",
   "language": "python",
   "name": "python3"
  },
  "language_info": {
   "codemirror_mode": {
    "name": "ipython",
    "version": 3
   },
   "file_extension": ".py",
   "mimetype": "text/x-python",
   "name": "python",
   "nbconvert_exporter": "python",
   "pygments_lexer": "ipython3",
   "version": "3.6.5"
  }
 },
 "nbformat": 4,
 "nbformat_minor": 1
}
