{
 "cells": [
  {
   "cell_type": "markdown",
   "metadata": {},
   "source": [
    "First we import the data.  At first we need the SNP summary statistics and the genome mapping file."
   ]
  },
  {
   "cell_type": "code",
   "execution_count": 1,
   "metadata": {},
   "outputs": [],
   "source": [
    "%matplotlib inline\n",
    "\n",
    "import pandas as pd\n",
    "import numpy as np\n",
    "from pandas import DataFrame\n",
    "from scipy.stats import uniform\n",
    "from scipy.stats import randint\n",
    "import numpy as np\n",
    "import matplotlib.pyplot as plt\n",
    "import os\n",
    "import pandas as pd\n",
    "import time\n",
    "import ndex2\n",
    "import ndex2.client as nc\n",
    "#import genepattern\n",
    "import networkx as nx\n"
   ]
  },
  {
   "cell_type": "markdown",
   "metadata": {},
   "source": [
    "File Format: SNP-level p-values\n",
    "This file is a 4-column delimited file with the following columns in this order:\n",
    "\n",
    "rsID\n",
    "Chromosome\n",
    "SNP Position (using the genome build corresponding to your Gene Positions file)\n",
    "SNP P-value\n",
    "The user may pass more columns than specified (as long as the file has at least 4 columns). The default behavior will be to select the first four columns in order as these columns.\n",
    "\n",
    "The user may specify the columns to use in the file by passing in a 4-valued list indicating the column numbers that should be used (in the same order as the one described above) into the 'cols' parameter. These 4 values will be indexed from 0 (e.g. '0,1,2,3' will select the first 4 columns in order), and must be passed as a comma-separated string (no spaces)."
   ]
  },
  {
   "cell_type": "code",
   "execution_count": 2,
   "metadata": {},
   "outputs": [
    {
     "data": {
      "text/html": [
       "<div>\n",
       "<style scoped>\n",
       "    .dataframe tbody tr th:only-of-type {\n",
       "        vertical-align: middle;\n",
       "    }\n",
       "\n",
       "    .dataframe tbody tr th {\n",
       "        vertical-align: top;\n",
       "    }\n",
       "\n",
       "    .dataframe thead th {\n",
       "        text-align: right;\n",
       "    }\n",
       "</style>\n",
       "<table border=\"1\" class=\"dataframe\">\n",
       "  <thead>\n",
       "    <tr style=\"text-align: right;\">\n",
       "      <th></th>\n",
       "      <th>Marker</th>\n",
       "      <th>Chr</th>\n",
       "      <th>Pos</th>\n",
       "      <th>P-Value</th>\n",
       "    </tr>\n",
       "  </thead>\n",
       "  <tbody>\n",
       "    <tr>\n",
       "      <th>0</th>\n",
       "      <td>rs3131972</td>\n",
       "      <td>1</td>\n",
       "      <td>742584</td>\n",
       "      <td>0.761033</td>\n",
       "    </tr>\n",
       "    <tr>\n",
       "      <th>1</th>\n",
       "      <td>rs3131969</td>\n",
       "      <td>1</td>\n",
       "      <td>744045</td>\n",
       "      <td>0.784919</td>\n",
       "    </tr>\n",
       "    <tr>\n",
       "      <th>2</th>\n",
       "      <td>rs3131967</td>\n",
       "      <td>1</td>\n",
       "      <td>744197</td>\n",
       "      <td>0.793520</td>\n",
       "    </tr>\n",
       "    <tr>\n",
       "      <th>3</th>\n",
       "      <td>rs1048488</td>\n",
       "      <td>1</td>\n",
       "      <td>750775</td>\n",
       "      <td>0.761041</td>\n",
       "    </tr>\n",
       "    <tr>\n",
       "      <th>4</th>\n",
       "      <td>rs12562034</td>\n",
       "      <td>1</td>\n",
       "      <td>758311</td>\n",
       "      <td>0.987899</td>\n",
       "    </tr>\n",
       "  </tbody>\n",
       "</table>\n",
       "</div>"
      ],
      "text/plain": [
       "       Marker  Chr     Pos   P-Value\n",
       "0   rs3131972    1  742584  0.761033\n",
       "1   rs3131969    1  744045  0.784919\n",
       "2   rs3131967    1  744197  0.793520\n",
       "3   rs1048488    1  750775  0.761041\n",
       "4  rs12562034    1  758311  0.987899"
      ]
     },
     "execution_count": 2,
     "metadata": {},
     "output_type": "execute_result"
    }
   ],
   "source": [
    "# Fix so that this reads directly from respository Data folder\n",
    "#snp_summary_file = '/Users/Dan/data/GWAS_for_class/pgc.bip.2012-04/pgc.bip.full.2012-04.txt'\n",
    "snp_summary_file = '/Users/Dan/data/GWAS_for_class/pgc.scz.full.2012-04.txt'\n",
    "\n",
    "def load_SNP_pvals(snp_pval_file, delimiter='\\t', header=False, cols='0,1,2,3'):\n",
    "        # Check for valid 'cols' parameter\n",
    "    try:\n",
    "        cols_idx = [int(c) for c in cols.split(',')]\n",
    "    except:\n",
    "        raise ValueError('Invalid column index string')\n",
    "    # Load gene_pos_file\n",
    "    if header:\n",
    "            SNP_summary = pd.read_csv(snp_pval_file, delimiter=delimiter)\n",
    "    else:\n",
    "            SNP_summary = pd.read_csv(snp_pval_file, delimiter=delimiter, header=-1)\n",
    "    # Check gene positions table format\n",
    "    if (SNP_summary.shape[1] < 4) | (max(cols_idx) >  SNP_summary.shape[1]-1):\n",
    "        raise ValueError('Not enough columns in SNP Summary File')\n",
    "    # Construct gene position table\n",
    "    SNP_summary = SNP_summary[cols_idx]\n",
    "    SNP_summary.columns = ['Marker', 'Chr', 'Pos', 'P-Value']\n",
    "    return SNP_summary\n",
    "\n",
    "snp_summary = load_SNP_pvals(snp_summary_file, delimiter='\\t', header=False, cols='0,1,2,7')\n",
    "snp_summary.head()"
   ]
  },
  {
   "cell_type": "markdown",
   "metadata": {},
   "source": [
    "Assigning GWAS p-values to genes - Minimum P Method\n",
    "For each gene in the genome (or as defined by the Gene Positions file), we will collect all SNPs within a specified genomic distance from the gene body (transcription start site to transcription end site). The SNP must fall within the specified genomic distance (up or downstream of the gene body). This distance is given as kilobases, (e.g. if 'window' is set to 5, this will collect all SNPs within 5kb of the gene body.\n",
    "Each gene is then assigned the minimum of all the p-values across all SNPs falling within the specified window."
   ]
  },
  {
   "cell_type": "code",
   "execution_count": 3,
   "metadata": {},
   "outputs": [],
   "source": [
    "def min_p(SNP_summary, gene_positions, window):\n",
    "        starttime = time.time()\n",
    "        dist = window*1000\n",
    "        genelist = list(gene_positions.index)\n",
    "        min_p_list = []\n",
    "        SNP_summary['Chr']=SNP_summary['Chr'].astype(str)\n",
    "        for gene in genelist:\n",
    "                gene_info = gene_positions.ix[gene]\n",
    "                chrom = str(gene_info['Chr'])\n",
    "                start = gene_info['Start']\n",
    "                stop = gene_info['End']\n",
    "                # Get all SNPs on same chromosome\n",
    "                SNP_summary_filt1 = SNP_summary[SNP_summary['Chr']==chrom]\n",
    "                # Get all SNPs after window start position\n",
    "                SNP_summary_filt2 = SNP_summary_filt1[SNP_summary_filt1['Pos'] >= (start-dist)]\n",
    "                # Get all SNPs before window end position\n",
    "                SNP_summary_filt3 = SNP_summary_filt2[SNP_summary_filt2['Pos'] <= (stop+dist)]\n",
    "                # Get min_p statistics for this gene\n",
    "                if len(SNP_summary_filt3) >= 1:\n",
    "                        min_p_data = SNP_summary_filt3.ix[SNP_summary_filt3['P-Value'].argmin()]\n",
    "                        min_p_list.append([gene, chrom, start, stop, SNP_summary_filt3.shape[0], min_p_data['Marker'], int(min_p_data['Pos']), min_p_data['P-Value']])\n",
    "                else:\n",
    "                        min_p_list.append([gene, chrom, start, stop, 0, None, None, None])\n",
    "        min_p_table = pd.DataFrame(min_p_list, columns = ['Gene', 'Chr', 'Gene Start', 'Gene End', 'nSNPs', 'TopSNP', 'TopSNP Pos', 'TopSNP P-Value'])\n",
    "        min_p_table['SNP Distance'] = abs(min_p_table['TopSNP Pos'].subtract(min_p_table['Gene Start']))\n",
    "        min_p_table = min_p_table.dropna().sort_values(by=['TopSNP P-Value', 'Chr', 'Gene Start'])\n",
    "        print(\"P-Values assigned to genes:\", time.time()-starttime, 'seconds')\n",
    "        return min_p_table"
   ]
  },
  {
   "cell_type": "code",
   "execution_count": 4,
   "metadata": {},
   "outputs": [],
   "source": [
    "# Load gene positions from file                                                                                            \n",
    "def load_gene_pos(gene_pos_file, delimiter='\\t', header=False, cols='0,1,2,3'):\n",
    "        # Check for valid 'cols' parameter                                                                                 \n",
    "        try:\n",
    "                cols_idx = [int(c) for c in cols.split(',')]\n",
    "        except:\n",
    "                raise ValueError('Invalid column index string')\n",
    "        # Load gene_pos_file                                                                                               \n",
    "        if header:\n",
    "                gene_positions = pd.read_csv(gene_pos_file, delimiter=delimiter)\n",
    "        else:\n",
    "                gene_positions = pd.read_csv(gene_pos_file, delimiter=delimiter, header=-1)\n",
    "        # Check gene positions table format                                                                                \n",
    "        if (gene_positions.shape[1] < 4) | (max(cols_idx) >  gene_positions.shape[1]-1):\n",
    "                raise ValueError('Not enough columns in Gene Positions File')\n",
    "        # Construct gene position table                                                                                    \n",
    "        gene_positions = gene_positions[cols_idx]\n",
    "        gene_positions.columns = ['Gene', 'Chr', 'Start', 'End']\n",
    "        return gene_positions.set_index('Gene')"
   ]
  },
  {
   "cell_type": "code",
   "execution_count": 5,
   "metadata": {},
   "outputs": [],
   "source": [
    "#NOTE TO SAMSON: SKIP THIS, IT CALCULATES THE MIN PVAL TABLE IN GENE REGION\n",
    "\n",
    "#gene_pos_file = '/Users/Dan/data/GWAS_for_class/hg18/glist-hg18_proteinCoding.txt'\n",
    "\n",
    "#hg18_gene_pos = load_gene_pos(gene_pos_file, delimiter='\\t', header=False)\n",
    "\n",
    "#min_p_table = min_p(snp_summary, hg18_gene_pos, 10)\n",
    "#min_p_table.head()\n",
    "\n"
   ]
  },
  {
   "cell_type": "markdown",
   "metadata": {},
   "source": [
    "Write the gene-wise p-values to a file"
   ]
  },
  {
   "cell_type": "code",
   "execution_count": 6,
   "metadata": {},
   "outputs": [
    {
     "data": {
      "text/html": [
       "<div>\n",
       "<style scoped>\n",
       "    .dataframe tbody tr th:only-of-type {\n",
       "        vertical-align: middle;\n",
       "    }\n",
       "\n",
       "    .dataframe tbody tr th {\n",
       "        vertical-align: top;\n",
       "    }\n",
       "\n",
       "    .dataframe thead th {\n",
       "        text-align: right;\n",
       "    }\n",
       "</style>\n",
       "<table border=\"1\" class=\"dataframe\">\n",
       "  <thead>\n",
       "    <tr style=\"text-align: right;\">\n",
       "      <th></th>\n",
       "      <th>Gene</th>\n",
       "      <th>Chr</th>\n",
       "      <th>Gene Start</th>\n",
       "      <th>Gene End</th>\n",
       "      <th>nSNPs</th>\n",
       "      <th>TopSNP</th>\n",
       "      <th>TopSNP Pos</th>\n",
       "      <th>TopSNP P-Value</th>\n",
       "      <th>SNP Distance</th>\n",
       "    </tr>\n",
       "  </thead>\n",
       "  <tbody>\n",
       "    <tr>\n",
       "      <th>0</th>\n",
       "      <td>HIST1H4K</td>\n",
       "      <td>6</td>\n",
       "      <td>27906930</td>\n",
       "      <td>27907284</td>\n",
       "      <td>8</td>\n",
       "      <td>rs34706883</td>\n",
       "      <td>27913234.0</td>\n",
       "      <td>5.071180e-10</td>\n",
       "      <td>6304.0</td>\n",
       "    </tr>\n",
       "    <tr>\n",
       "      <th>1</th>\n",
       "      <td>HIST1H2AK</td>\n",
       "      <td>6</td>\n",
       "      <td>27913636</td>\n",
       "      <td>27914096</td>\n",
       "      <td>16</td>\n",
       "      <td>rs34706883</td>\n",
       "      <td>27913234.0</td>\n",
       "      <td>5.071180e-10</td>\n",
       "      <td>402.0</td>\n",
       "    </tr>\n",
       "    <tr>\n",
       "      <th>2</th>\n",
       "      <td>HIST1H2BN</td>\n",
       "      <td>6</td>\n",
       "      <td>27914418</td>\n",
       "      <td>27914867</td>\n",
       "      <td>17</td>\n",
       "      <td>rs34706883</td>\n",
       "      <td>27913234.0</td>\n",
       "      <td>5.071180e-10</td>\n",
       "      <td>1184.0</td>\n",
       "    </tr>\n",
       "    <tr>\n",
       "      <th>3</th>\n",
       "      <td>HIST1H2AL</td>\n",
       "      <td>6</td>\n",
       "      <td>27941085</td>\n",
       "      <td>27941555</td>\n",
       "      <td>10</td>\n",
       "      <td>rs13199772</td>\n",
       "      <td>27942064.0</td>\n",
       "      <td>7.053790e-10</td>\n",
       "      <td>979.0</td>\n",
       "    </tr>\n",
       "    <tr>\n",
       "      <th>4</th>\n",
       "      <td>HIST1H1B</td>\n",
       "      <td>6</td>\n",
       "      <td>27942548</td>\n",
       "      <td>27943338</td>\n",
       "      <td>10</td>\n",
       "      <td>rs13199772</td>\n",
       "      <td>27942064.0</td>\n",
       "      <td>7.053790e-10</td>\n",
       "      <td>484.0</td>\n",
       "    </tr>\n",
       "  </tbody>\n",
       "</table>\n",
       "</div>"
      ],
      "text/plain": [
       "        Gene  Chr  Gene Start  Gene End  nSNPs      TopSNP  TopSNP Pos  \\\n",
       "0   HIST1H4K    6    27906930  27907284      8  rs34706883  27913234.0   \n",
       "1  HIST1H2AK    6    27913636  27914096     16  rs34706883  27913234.0   \n",
       "2  HIST1H2BN    6    27914418  27914867     17  rs34706883  27913234.0   \n",
       "3  HIST1H2AL    6    27941085  27941555     10  rs13199772  27942064.0   \n",
       "4   HIST1H1B    6    27942548  27943338     10  rs13199772  27942064.0   \n",
       "\n",
       "   TopSNP P-Value  SNP Distance  \n",
       "0    5.071180e-10        6304.0  \n",
       "1    5.071180e-10         402.0  \n",
       "2    5.071180e-10        1184.0  \n",
       "3    7.053790e-10         979.0  \n",
       "4    7.053790e-10         484.0  "
      ]
     },
     "execution_count": 6,
     "metadata": {},
     "output_type": "execute_result"
    }
   ],
   "source": [
    "#min_p_table.to_csv('/Users/Dan/data/GWAS_for_class/scz_gene_10k.txt',sep='\\t')\n",
    "\n",
    "min_p_table=pd.read_csv('/Users/Dan/data/GWAS_for_class/scz_gene_10k.txt', sep='\\t',usecols=[1,2,3,4,5,6,7,8,9])\n",
    "min_p_table.head()"
   ]
  },
  {
   "cell_type": "code",
   "execution_count": 7,
   "metadata": {},
   "outputs": [],
   "source": [
    "def manhattan_plot(df):\n",
    "    \n",
    "    # -log_10(pvalue)\n",
    "    df['minuslog10pvalue'] = -np.log10(df['TopSNP P-Value'])\n",
    "    df['Chr'] = df['Chr'].astype('category')\n",
    "    #df.chromosome = df.chromosome.cat.set_categories(['ch-%i' % i for i in range(12)], ordered=True)\n",
    "    df = df.sort_values(['Chr','Gene Start'])\n",
    "\n",
    "    # How to plot gene vs. -log10(pvalue) and colour it by chromosome?\n",
    "    df['ind'] = range(len(df))\n",
    "    df_grouped = df.groupby(('Chr'))\n",
    "\n",
    "    fig = plt.figure()\n",
    "    ax = fig.add_subplot(111)\n",
    "    colors = ['red','green','blue', 'yellow']\n",
    "    x_labels = []\n",
    "    x_labels_pos = []\n",
    "    for num, (name, group) in enumerate(df_grouped):\n",
    "        group.plot(kind='scatter', x='ind', y='minuslog10pvalue',color=colors[num % len(colors)], ax=ax)\n",
    "        x_labels.append(name)\n",
    "        x_labels_pos.append((group['ind'].iloc[-1] - (group['ind'].iloc[-1] - group['ind'].iloc[0])/2))\n",
    "    ax.set_xticks(x_labels_pos)\n",
    "    ax.set_xticklabels(x_labels)\n",
    "    ax.set_xlim([0, len(df)])\n",
    "    ax.set_ylim([0, 10])\n",
    "    ax.set_xlabel('Chromosome')\n",
    "    ax.set_ylabel('-Log10 p-value')\n",
    "    plt.show()"
   ]
  },
  {
   "cell_type": "code",
   "execution_count": 8,
   "metadata": {},
   "outputs": [
    {
     "data": {
      "image/png": "[encoded data removed]",
      "text/plain": [
       "<Figure size 432x288 with 1 Axes>"
      ]
     },
     "metadata": {},
     "output_type": "display_data"
    }
   ],
   "source": [
    "manhattan_plot(min_p_table)\n"
   ]
  },
  {
   "cell_type": "code",
   "execution_count": 9,
   "metadata": {},
   "outputs": [
    {
     "name": "stdout",
     "output_type": "stream",
     "text": [
      "Name: Parsimonious Composite Network (PCNet)\n",
      "Nodes: 19781\n",
      "Edges: 2724724\n",
      "Node Attributes: 0\n",
      "Edge Attributes: 0\n",
      "\n"
     ]
    }
   ],
   "source": [
    "\n",
    "from scipy.sparse import coo_matrix,csc_matrix\n",
    "from scipy.sparse.linalg import expm, expm_multiply\n",
    "\n",
    "\n",
    "\n",
    "anon_ndex=nc.Ndex2(\"http://public.ndexbio.org\")\n",
    "network_niceCx = ndex2.create_nice_cx_from_server(server='public.ndexbio.org', uuid='f93f402c-86d4-11e7-a10d-0ac135e8bacf')\n",
    "\n",
    "\n",
    "print(network_niceCx.get_summary())"
   ]
  },
  {
   "cell_type": "code",
   "execution_count": 10,
   "metadata": {},
   "outputs": [],
   "source": [
    "#networkx\n",
    "\n",
    "G=network_niceCx.to_networkx()\n",
    "\n",
    "node_names = [G.node[n]['name'] for n in G.nodes()]\n",
    "#graph laplacian\n",
    "L=csc_matrix(nx.laplacian_matrix(G))\n"
   ]
  },
  {
   "cell_type": "code",
   "execution_count": 11,
   "metadata": {},
   "outputs": [
    {
     "name": "stderr",
     "output_type": "stream",
     "text": [
      "/Users/Dan/anaconda/envs/mypython3/lib/python3.6/site-packages/ipykernel_launcher.py:17: FutureWarning: \n",
      "Passing list-likes to .loc or [] with any missing label will raise\n",
      "KeyError in the future, you can use .reindex() as an alternative.\n",
      "\n",
      "See the documentation here:\n",
      "https://pandas.pydata.org/pandas-docs/stable/indexing.html#deprecate-loc-reindex-listlike\n",
      "/Users/Dan/anaconda/envs/mypython3/lib/python3.6/site-packages/ipykernel_launcher.py:20: DeprecationWarning: \n",
      ".ix is deprecated. Please use\n",
      ".loc for label based indexing or\n",
      ".iloc for positional indexing\n",
      "\n",
      "See the documentation here:\n",
      "http://pandas.pydata.org/pandas-docs/stable/indexing.html#ix-indexer-is-deprecated\n"
     ]
    }
   ],
   "source": [
    "#in this branch of the code we compute based on a pre-calculated kernel\n",
    "# First, we will load the network kernel of the network we will be using\n",
    "kernel = pd.read_hdf('/Users/Dan/Data/GWAS_for_class/kernels/PCNet_kernel.hdf')\n",
    "network_genes = list(kernel.index)\n",
    "\n",
    "#We can load the data, but its already in memory\n",
    "#min_p_table = pd.read_csv('/Users/Dan/Data/GWAS_for_class/scz_gene_10k.txt',sep='\\t', usecols=[1,2,3,4,5,6,7,8])\n",
    "min_p_table.columns = list(min_p_table.columns)\n",
    "\n",
    "#Find genes with p-values below the threshold\n",
    "name='prop'\n",
    "threshold = 5e-6\n",
    "threshold_genes = {}\n",
    "prop_vectors = []\n",
    "pval_table = min_p_table\n",
    "threshold_genes[name] = min_p_table[pval_table['TopSNP P-Value'] < threshold]\n",
    "prop_vector = (pval_table.set_index('Gene').loc[network_genes]['TopSNP P-Value'] < threshold).astype(float)\n",
    "prop_vector.name = name\n",
    "prop_vectors.append(prop_vector)\n",
    "prop_vector_matrix = pd.concat(prop_vectors, axis=1).ix[network_genes].T"
   ]
  },
  {
   "cell_type": "code",
   "execution_count": 10,
   "metadata": {},
   "outputs": [
    {
     "data": {
      "text/html": [
       "<div>\n",
       "<style scoped>\n",
       "    .dataframe tbody tr th:only-of-type {\n",
       "        vertical-align: middle;\n",
       "    }\n",
       "\n",
       "    .dataframe tbody tr th {\n",
       "        vertical-align: top;\n",
       "    }\n",
       "\n",
       "    .dataframe thead th {\n",
       "        text-align: right;\n",
       "    }\n",
       "</style>\n",
       "<table border=\"1\" class=\"dataframe\">\n",
       "  <thead>\n",
       "    <tr style=\"text-align: right;\">\n",
       "      <th></th>\n",
       "      <th>prop</th>\n",
       "    </tr>\n",
       "    <tr>\n",
       "      <th>Gene</th>\n",
       "      <th></th>\n",
       "    </tr>\n",
       "  </thead>\n",
       "  <tbody>\n",
       "    <tr>\n",
       "      <th>TCF4</th>\n",
       "      <td>0.479835</td>\n",
       "    </tr>\n",
       "    <tr>\n",
       "      <th>HIST1H4C</th>\n",
       "      <td>0.467925</td>\n",
       "    </tr>\n",
       "    <tr>\n",
       "      <th>HIST1H2BC</th>\n",
       "      <td>0.467749</td>\n",
       "    </tr>\n",
       "    <tr>\n",
       "      <th>HIST1H2BN</th>\n",
       "      <td>0.466517</td>\n",
       "    </tr>\n",
       "    <tr>\n",
       "      <th>HIST1H4J</th>\n",
       "      <td>0.466316</td>\n",
       "    </tr>\n",
       "  </tbody>\n",
       "</table>\n",
       "</div>"
      ],
      "text/plain": [
       "               prop\n",
       "Gene               \n",
       "TCF4       0.479835\n",
       "HIST1H4C   0.467925\n",
       "HIST1H2BC  0.467749\n",
       "HIST1H2BN  0.466517\n",
       "HIST1H4J   0.466316"
      ]
     },
     "execution_count": 10,
     "metadata": {},
     "output_type": "execute_result"
    }
   ],
   "source": [
    "#propagate with pre-computed kernel\n",
    "prop_val_matrix = np.dot(prop_vector_matrix, kernel)\n",
    "prop_val_table = pd.DataFrame(prop_val_matrix, index = prop_vector_matrix.index, columns = prop_vector_matrix.columns)\n",
    "prop_val_table.T.sort_values(by='prop', ascending=False).head()"
   ]
  },
  {
   "cell_type": "code",
   "execution_count": 11,
   "metadata": {},
   "outputs": [
    {
     "data": {
      "text/html": [
       "<div>\n",
       "<style scoped>\n",
       "    .dataframe tbody tr th:only-of-type {\n",
       "        vertical-align: middle;\n",
       "    }\n",
       "\n",
       "    .dataframe tbody tr th {\n",
       "        vertical-align: top;\n",
       "    }\n",
       "\n",
       "    .dataframe thead th {\n",
       "        text-align: right;\n",
       "    }\n",
       "</style>\n",
       "<table border=\"1\" class=\"dataframe\">\n",
       "  <thead>\n",
       "    <tr style=\"text-align: right;\">\n",
       "      <th></th>\n",
       "      <th>prop</th>\n",
       "    </tr>\n",
       "    <tr>\n",
       "      <th>Gene</th>\n",
       "      <th></th>\n",
       "    </tr>\n",
       "  </thead>\n",
       "  <tbody>\n",
       "    <tr>\n",
       "      <th>LY6G6F</th>\n",
       "      <td>0.744055</td>\n",
       "    </tr>\n",
       "    <tr>\n",
       "      <th>MUSTN1</th>\n",
       "      <td>0.742368</td>\n",
       "    </tr>\n",
       "    <tr>\n",
       "      <th>AGBL3</th>\n",
       "      <td>0.616114</td>\n",
       "    </tr>\n",
       "    <tr>\n",
       "      <th>PATE1</th>\n",
       "      <td>0.501521</td>\n",
       "    </tr>\n",
       "    <tr>\n",
       "      <th>ZSCAN23</th>\n",
       "      <td>0.080481</td>\n",
       "    </tr>\n",
       "  </tbody>\n",
       "</table>\n",
       "</div>"
      ],
      "text/plain": [
       "             prop\n",
       "Gene             \n",
       "LY6G6F   0.744055\n",
       "MUSTN1   0.742368\n",
       "AGBL3    0.616114\n",
       "PATE1    0.501521\n",
       "ZSCAN23  0.080481"
      ]
     },
     "execution_count": 11,
     "metadata": {},
     "output_type": "execute_result"
    }
   ],
   "source": [
    "#or, heat diffusion, not precomputed, takes a minute or so\n",
    "\n",
    "input_list=list(pval_table[pval_table['TopSNP P-Value'] < threshold]['Gene'])\n",
    "input_vector=np.array([n in input_list for n in node_names])\n",
    "out_vector=expm_multiply(-L,input_vector,start=0,stop=0.1,endpoint=True)[-1]\n",
    "\n",
    "out_dict= dict(zip(node_names, out_vector))\n",
    "out_dict= {'prop': out_vector,'Gene':node_names}\n",
    "heat_df=pd.DataFrame.from_dict(out_dict).set_index('Gene')\n",
    "heat_df.sort_values(by='prop', ascending=False).head()\n"
   ]
  },
  {
   "cell_type": "code",
   "execution_count": 12,
   "metadata": {
    "collapsed": true
   },
   "outputs": [],
   "source": [
    "#write the results out\n",
    "\n",
    "prop_val_table.T.sort_values(by='prop', ascending=False).to_csv('propagated.txt', sep='\\t')"
   ]
  },
  {
   "cell_type": "code",
   "execution_count": null,
   "metadata": {
    "collapsed": true
   },
   "outputs": [],
   "source": []
  }
 ],
 "metadata": {
  "kernelspec": {
   "display_name": "Python 3",
   "language": "python",
   "name": "python3"
  },
  "language_info": {
   "codemirror_mode": {
    "name": "ipython",
    "version": 3
   },
   "file_extension": ".py",
   "mimetype": "text/x-python",
   "name": "python",
   "nbconvert_exporter": "python",
   "pygments_lexer": "ipython3",
   "version": "3.6.5"
  }
 },
 "nbformat": 4,
 "nbformat_minor": 1
}
