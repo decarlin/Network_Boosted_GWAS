{
 "cells": [
  {
   "cell_type": "markdown",
   "metadata": {},
   "source": [
    "Here, we develop the several network-based GWAS methods we will benchmark:\n",
    "\n",
    "**Network-based gene re-ranking methods (these methods may not provide a statistically robust p-value)**\n",
    "1. Threshold-based network propagation: propagate all gene p-value hits below a certain p-value threshold\n",
    "2. Prop x GWAS: Construct an \"empirical p-value\" for all genes afer propagation using method 1 and multiply that by the original gene-level p-values to create an \"adjusted association/p-value\" for re-ranking\n",
    "\n",
    "**Network-boosted p-value methods (these methods may actually be multiplied with original gene-level p-values to create a \"boosted\" p-value. The p-value boost is limited only to 1/(n+1), where n is the number of degree-preserved network shuffles created.**\n",
    "3. Propagate the -log10(p-value) of each gene across the actual network and the null networks. Calculate an empirical p-value (rank / 1001) and normal distribution (using null network values) p-value for each gene in the network. Multiply these values by the original gene-level p-value."
   ]
  },
  {
   "cell_type": "markdown",
   "metadata": {},
   "source": [
    "# Load network kernel"
   ]
  },
  {
   "cell_type": "code",
   "execution_count": 1,
   "metadata": {
    "collapsed": true
   },
   "outputs": [],
   "source": [
    "import os\n",
    "import pandas as pd\n",
    "import numpy as np"
   ]
  },
  {
   "cell_type": "code",
   "execution_count": 2,
   "metadata": {},
   "outputs": [],
   "source": [
    "# First, we will load the network kernel of the network we will be using\n",
    "kernel = pd.read_hdf('/Users/Dan/Data/GWAS_for_class/kernels/PCNet_kernel.hdf')"
   ]
  },
  {
   "cell_type": "code",
   "execution_count": 3,
   "metadata": {},
   "outputs": [
    {
     "data": {
      "text/plain": [
       "True"
      ]
     },
     "execution_count": 3,
     "metadata": {},
     "output_type": "execute_result"
    }
   ],
   "source": [
    "all(kernel.columns==kernel.index)"
   ]
  },
  {
   "cell_type": "code",
   "execution_count": 4,
   "metadata": {},
   "outputs": [],
   "source": [
    "# Get all genes in the network\n",
    "network_genes = list(kernel.index)"
   ]
  },
  {
   "cell_type": "code",
   "execution_count": 5,
   "metadata": {},
   "outputs": [],
   "source": [
    "# Move VEGAS2 Alzheimer's data to wd and re-perform analysis\n",
    "#vegas_pval_table = pd.read_csv('/cellar/users/jkhuang/Data/Projects/Network_GWAS/Data/IGAP/IGAP_boosting_results/vegas_results/vegas_df.txt', sep='\\t')\n",
    "\n",
    "wd='/Users/Dan/Data/GWAS_for_class/'\n",
    "vegas_pval_table = pd.read_csv('/Users/Dan/Data/GWAS_for_class/scz_gene_10k.txt',sep='\\t', usecols=[1,2,3,4,5,6,7,8])\n",
    "vegas_pval_table.columns = list(vegas_pval_table.columns)[:-1]+['TopSNP P-Value']\n",
    "vegas_pval_table.to_csv(wd+'scz_limited_toPCnet.csv', sep='\\t', index=False)"
   ]
  },
  {
   "cell_type": "code",
   "execution_count": 8,
   "metadata": {},
   "outputs": [
    {
     "data": {
      "text/html": [
       "<div>\n",
       "<style scoped>\n",
       "    .dataframe tbody tr th:only-of-type {\n",
       "        vertical-align: middle;\n",
       "    }\n",
       "\n",
       "    .dataframe tbody tr th {\n",
       "        vertical-align: top;\n",
       "    }\n",
       "\n",
       "    .dataframe thead th {\n",
       "        text-align: right;\n",
       "    }\n",
       "</style>\n",
       "<table border=\"1\" class=\"dataframe\">\n",
       "  <thead>\n",
       "    <tr style=\"text-align: right;\">\n",
       "      <th></th>\n",
       "      <th>Gene</th>\n",
       "      <th>Chr</th>\n",
       "      <th>Gene Start</th>\n",
       "      <th>Gene End</th>\n",
       "      <th>nSNPs</th>\n",
       "      <th>TopSNP</th>\n",
       "      <th>TopSNP Pos</th>\n",
       "      <th>TopSNP P-Value</th>\n",
       "    </tr>\n",
       "  </thead>\n",
       "  <tbody>\n",
       "    <tr>\n",
       "      <th>0</th>\n",
       "      <td>HIST1H4K</td>\n",
       "      <td>6</td>\n",
       "      <td>27906930</td>\n",
       "      <td>27907284</td>\n",
       "      <td>8</td>\n",
       "      <td>rs34706883</td>\n",
       "      <td>27913234.0</td>\n",
       "      <td>5.071180e-10</td>\n",
       "    </tr>\n",
       "    <tr>\n",
       "      <th>1</th>\n",
       "      <td>HIST1H2AK</td>\n",
       "      <td>6</td>\n",
       "      <td>27913636</td>\n",
       "      <td>27914096</td>\n",
       "      <td>16</td>\n",
       "      <td>rs34706883</td>\n",
       "      <td>27913234.0</td>\n",
       "      <td>5.071180e-10</td>\n",
       "    </tr>\n",
       "    <tr>\n",
       "      <th>2</th>\n",
       "      <td>HIST1H2BN</td>\n",
       "      <td>6</td>\n",
       "      <td>27914418</td>\n",
       "      <td>27914867</td>\n",
       "      <td>17</td>\n",
       "      <td>rs34706883</td>\n",
       "      <td>27913234.0</td>\n",
       "      <td>5.071180e-10</td>\n",
       "    </tr>\n",
       "    <tr>\n",
       "      <th>3</th>\n",
       "      <td>HIST1H2AL</td>\n",
       "      <td>6</td>\n",
       "      <td>27941085</td>\n",
       "      <td>27941555</td>\n",
       "      <td>10</td>\n",
       "      <td>rs13199772</td>\n",
       "      <td>27942064.0</td>\n",
       "      <td>7.053790e-10</td>\n",
       "    </tr>\n",
       "    <tr>\n",
       "      <th>4</th>\n",
       "      <td>HIST1H1B</td>\n",
       "      <td>6</td>\n",
       "      <td>27942548</td>\n",
       "      <td>27943338</td>\n",
       "      <td>10</td>\n",
       "      <td>rs13199772</td>\n",
       "      <td>27942064.0</td>\n",
       "      <td>7.053790e-10</td>\n",
       "    </tr>\n",
       "  </tbody>\n",
       "</table>\n",
       "</div>"
      ],
      "text/plain": [
       "        Gene  Chr  Gene Start  Gene End  nSNPs      TopSNP  TopSNP Pos  \\\n",
       "0   HIST1H4K    6    27906930  27907284      8  rs34706883  27913234.0   \n",
       "1  HIST1H2AK    6    27913636  27914096     16  rs34706883  27913234.0   \n",
       "2  HIST1H2BN    6    27914418  27914867     17  rs34706883  27913234.0   \n",
       "3  HIST1H2AL    6    27941085  27941555     10  rs13199772  27942064.0   \n",
       "4   HIST1H1B    6    27942548  27943338     10  rs13199772  27942064.0   \n",
       "\n",
       "   TopSNP P-Value  \n",
       "0    5.071180e-10  \n",
       "1    5.071180e-10  \n",
       "2    5.071180e-10  \n",
       "3    7.053790e-10  \n",
       "4    7.053790e-10  "
      ]
     },
     "execution_count": 8,
     "metadata": {},
     "output_type": "execute_result"
    }
   ],
   "source": [
    "vegas_pval_table.head()"
   ]
  },
  {
   "cell_type": "code",
   "execution_count": 7,
   "metadata": {},
   "outputs": [
    {
     "ename": "NameError",
     "evalue": "name 'name' is not defined",
     "output_type": "error",
     "traceback": [
      "\u001b[0;31m---------------------------------------------------------------------------\u001b[0m",
      "\u001b[0;31mNameError\u001b[0m                                 Traceback (most recent call last)",
      "\u001b[0;32m<ipython-input-7-b1d861067d03>\u001b[0m in \u001b[0;36m<module>\u001b[0;34m()\u001b[0m\n\u001b[1;32m      7\u001b[0m \u001b[0mprop_vectors\u001b[0m \u001b[0;34m=\u001b[0m \u001b[0;34m[\u001b[0m\u001b[0;34m]\u001b[0m\u001b[0;34m\u001b[0m\u001b[0m\n\u001b[1;32m      8\u001b[0m \u001b[0mpval_table\u001b[0m \u001b[0;34m=\u001b[0m \u001b[0mvegas_pval_table\u001b[0m\u001b[0;34m\u001b[0m\u001b[0m\n\u001b[0;32m----> 9\u001b[0;31m \u001b[0mthreshold_genes\u001b[0m\u001b[0;34m[\u001b[0m\u001b[0mname\u001b[0m\u001b[0;34m]\u001b[0m \u001b[0;34m=\u001b[0m \u001b[0mpval_table\u001b[0m\u001b[0;34m[\u001b[0m\u001b[0mpval_table\u001b[0m\u001b[0;34m[\u001b[0m\u001b[0;34m'TopSNP P-Value'\u001b[0m\u001b[0;34m]\u001b[0m \u001b[0;34m<\u001b[0m \u001b[0mthreshold\u001b[0m\u001b[0;34m]\u001b[0m\u001b[0;34m\u001b[0m\u001b[0m\n\u001b[0m\u001b[1;32m     10\u001b[0m \u001b[0mprop_vector\u001b[0m \u001b[0;34m=\u001b[0m \u001b[0;34m(\u001b[0m\u001b[0mpval_table\u001b[0m\u001b[0;34m.\u001b[0m\u001b[0mset_index\u001b[0m\u001b[0;34m(\u001b[0m\u001b[0;34m'Gene'\u001b[0m\u001b[0;34m)\u001b[0m\u001b[0;34m.\u001b[0m\u001b[0mix\u001b[0m\u001b[0;34m[\u001b[0m\u001b[0mnetwork_genes\u001b[0m\u001b[0;34m]\u001b[0m\u001b[0;34m[\u001b[0m\u001b[0;34m'TopSNP P-Value'\u001b[0m\u001b[0;34m]\u001b[0m \u001b[0;34m<\u001b[0m \u001b[0mthreshold\u001b[0m\u001b[0;34m)\u001b[0m\u001b[0;34m.\u001b[0m\u001b[0mastype\u001b[0m\u001b[0;34m(\u001b[0m\u001b[0mfloat\u001b[0m\u001b[0;34m)\u001b[0m\u001b[0;34m\u001b[0m\u001b[0m\n\u001b[1;32m     11\u001b[0m \u001b[0mprop_vector\u001b[0m\u001b[0;34m.\u001b[0m\u001b[0mname\u001b[0m \u001b[0;34m=\u001b[0m \u001b[0mname\u001b[0m\u001b[0;34m\u001b[0m\u001b[0m\n",
      "\u001b[0;31mNameError\u001b[0m: name 'name' is not defined"
     ]
    }
   ],
   "source": [
    "# Load each gene p-value table and create binary propagation vector\n",
    "pval_table_files = [fn for fn in os.listdir(wd) if fn.endswith('.csv')]\n",
    "pval_table_files.sort()\n",
    "\n",
    "threshold = 1e-6\n",
    "threshold_genes = {}\n",
    "prop_vectors = []\n",
    "pval_table = vegas_pval_table\n",
    "threshold_genes[name] = pval_table[pval_table['TopSNP P-Value'] < threshold]\n",
    "prop_vector = (pval_table.set_index('Gene').ix[network_genes]['TopSNP P-Value'] < threshold).astype(float)\n",
    "prop_vector.name = name\n",
    "prop_vectors.append(prop_vector)\n",
    "prop_vector_matrix = pd.concat(prop_vectors, axis=1).ix[network_genes].T"
   ]
  },
  {
   "cell_type": "markdown",
   "metadata": {},
   "source": [
    "# Propagate genes with p < threshold (1e-6)"
   ]
  },
  {
   "cell_type": "code",
   "execution_count": 19,
   "metadata": {
    "scrolled": true
   },
   "outputs": [],
   "source": [
    "# Propagate binary vectors over the network\n",
    "prop_val_matrix = np.dot(prop_vector_matrix, kernel)\n",
    "prop_val_table = pd.DataFrame(prop_val_matrix, index = prop_vector_matrix.index, columns = prop_vector_matrix.columns)"
   ]
  },
  {
   "cell_type": "code",
   "execution_count": 27,
   "metadata": {},
   "outputs": [],
   "source": [
    "prop_val_table.T.head()\n",
    "prop_val_table.T.sort_values(by='scz_limited_toPCnet', ascending=False).to_csv('/Users/Dan/Data/GWAS_for_class/scz_e6_pcnet.txt', sep='\\t')"
   ]
  },
  {
   "cell_type": "code",
   "execution_count": 80,
   "metadata": {},
   "outputs": [],
   "source": [
    "# For each propagation result:\n",
    "outdir = '/Users/Dan/Data/GWAS_for_class/'\n",
    "for i in prop_val_table.index:\n",
    "    # Get all gene p-values and combine with propagation values\n",
    "    pval_table = pd.read_csv(wd+i+'.csv', sep='\\t').set_index('Gene')\n",
    "    network_gene_gwas_pvals = pval_table.ix[network_genes]['TopSNP P-Value'].fillna(1.0)\n",
    "    prop_gwas_table = pd.concat([network_gene_gwas_pvals, prop_val_table.ix[i]], axis=1)\n",
    "    prop_gwas_table.columns = ['GWAS P-Value', 'Prop Value']\n",
    "    # Get all genes that were not seed genes\n",
    "    network_non_seed = list(set(network_genes) - set(threshold_genes[i]['Gene']))\n",
    "    prop_gwas_table_filt = prop_gwas_table.ix[network_non_seed]\n",
    "    # Update gene propagation table with non-seed gene ranks/empirical p-values, and adjusted ranks\n",
    "    prop_gwas_table_filt['Prop Rank'] = prop_gwas_table_filt['Prop Value'].rank(ascending=False)\n",
    "    prop_gwas_table_filt['Prop Empirical P-Value'] = prop_gwas_table_filt['Prop Rank'] / float(prop_gwas_table_filt.shape[0])\n",
    "    prop_gwas_table_filt['Adjusted P-Value'] = prop_gwas_table_filt['GWAS P-Value'].multiply(prop_gwas_table_filt['Prop Empirical P-Value'])\n",
    "    prop_gwas_table_filt['Adjusted Rank'] = prop_gwas_table_filt['Adjusted P-Value'].rank()\n",
    "    # Construct top genes table\n",
    "    top_genes = threshold_genes[i][['Gene','TopSNP P-Value']].set_index('Gene')\n",
    "    top_network_genes = pd.concat([top_genes, prop_gwas_table.ix[top_genes.index]['Prop Value']], axis=1)\n",
    "    top_network_genes.columns = ['GWAS P-Value', 'Prop Value']\n",
    "    top_network_genes['Prop Rank'] = 0\n",
    "    top_network_genes['Prop Empirical P-Value'] = None\n",
    "    top_network_genes['Adjusted P-Value'] = None\n",
    "    top_network_genes['Adjusted Rank'] = 0  \n",
    "    # Combine top GWAS genes and new propagation ranking table\n",
    "    combined_prop_gwas_table = pd.concat([top_network_genes, prop_gwas_table_filt])\n",
    "    combined_prop_gwas_table_sorted = combined_prop_gwas_table[prop_gwas_table_filt.columns].sort_values(by=['Prop Rank', 'Adjusted Rank', 'GWAS P-Value'])\n",
    "    combined_prop_gwas_table_sorted.to_csv(outdir+i+'_prop_results.csv', sep='\\t')"
   ]
  },
  {
   "cell_type": "markdown",
   "metadata": {},
   "source": [
    "# Propagate transformed gene p-values over network and null networks\n",
    "Transform all p-values to -log10(p-value) for propagation, but cap the maximum value at 6 (p=1e-6). All genes in the network that have no p-value are given a p-value of 1. Try also setting all p-values larger than 0.1 to 1 before transformation. Both of these methods are noise reduction techniques."
   ]
  },
  {
   "cell_type": "markdown",
   "metadata": {},
   "source": [
    "See code below replicated in script at: /cellar/users/jkhuang/Data/Projects/Network_GWAS/src/construct_null_prop_tables.py  \n",
    "Run this code on a large machine, it is pretty heavy duty and may take a lot of time / memory"
   ]
  },
  {
   "cell_type": "code",
   "execution_count": 81,
   "metadata": {
    "collapsed": true
   },
   "outputs": [],
   "source": [
    "# First, we will load the network kernel of the network we will be using\n",
    "kernel = pd.read_hdf('/cellar/users/jkhuang/Data/Projects/Network_GWAS/Data/Network_Data/PCNet_kernel.hdf')"
   ]
  },
  {
   "cell_type": "code",
   "execution_count": 82,
   "metadata": {
    "collapsed": true
   },
   "outputs": [],
   "source": [
    "# Get all genes in the network\n",
    "network_genes = list(kernel.index)"
   ]
  },
  {
   "cell_type": "code",
   "execution_count": 121,
   "metadata": {},
   "outputs": [],
   "source": [
    "# Load each gene p-value table and create 2 propagation vectors\n",
    "# Keep only the nodes in the network (from first loaded null kernel)\n",
    "wd = '/cellar/users/jkhuang/Data/nosnap/Projects/NBGWAS/snp2gene/'\n",
    "pval_table_files = [fn for fn in os.listdir(wd) if fn.endswith('kb.csv')]\n",
    "\n",
    "# For the VEGAS file only\n",
    "# pval_table_files = [fn for fn in os.listdir(wd) if 'VEGAS2' in fn]\n",
    "\n",
    "pval_table_files.sort()\n",
    "# Change the p-value thresholds here for null network propagation if desired\n",
    "max_p, min_p = 0.1, 1e-6\n",
    "min_cap_prop_vectors = []\n",
    "end_cap_prop_vectors = []\n",
    "for fn in pval_table_files:\n",
    "    name = fn.split('.')[0]\n",
    "    pval_table = pd.read_csv(wd+fn, sep='\\t').set_index('Gene')\n",
    "    # Get all network gene p-values, set as 1 if missing\n",
    "    network_pvals = pval_table.ix[network_genes]['TopSNP P-Value'].fillna(1.0)\n",
    "    # Clip network gene p-values\n",
    "    network_pvals_min_cap = network_pvals.clip(lower=min_p)\n",
    "    network_pvals_end_cap = network_pvals.clip(lower=min_p)\n",
    "    network_pvals_end_cap[network_pvals_end_cap > max_p] = 1\n",
    "    # Transform values to propagation vectors\n",
    "    min_cap_prop_vector = -np.log10(network_pvals_min_cap)\n",
    "    min_cap_prop_vector[min_cap_prop_vector <= 0] = 0\n",
    "    min_cap_prop_vector.name = name\n",
    "    min_cap_prop_vectors.append(min_cap_prop_vector)\n",
    "    end_cap_prop_vector = -np.log10(network_pvals_end_cap)\n",
    "    end_cap_prop_vector[end_cap_prop_vector <= 0] = 0\n",
    "    end_cap_prop_vector.name = name\n",
    "    end_cap_prop_vectors.append(end_cap_prop_vector)\n",
    "min_cap_prop_vector_matrix = pd.concat(min_cap_prop_vectors, axis=1).ix[network_genes].T\n",
    "end_cap_prop_vector_matrix = pd.concat(end_cap_prop_vectors, axis=1).ix[network_genes].T"
   ]
  },
  {
   "cell_type": "code",
   "execution_count": 234,
   "metadata": {},
   "outputs": [],
   "source": [
    "# Propagate binary vectors over the network\n",
    "outdir = '/cellar/users/jkhuang/Data/nosnap/Projects/NBGWAS/prop_results/'\n",
    "prop_val_matrix1 = np.dot(min_cap_prop_vector_matrix, kernel)\n",
    "prop_val_table1 = pd.DataFrame(prop_val_matrix1, index = min_cap_prop_vector_matrix.index, \n",
    "                               columns = min_cap_prop_vector_matrix.columns)\n",
    "prop_val_table1.to_csv(outdir+'full_prop_results_1.csv', sep='\\t')\n",
    "\n",
    "prop_val_matrix2 = np.dot(end_cap_prop_vector_matrix, kernel)\n",
    "prop_val_table2 = pd.DataFrame(prop_val_matrix2, index = end_cap_prop_vector_matrix.index, \n",
    "                               columns = end_cap_prop_vector_matrix.columns)\n",
    "prop_val_table2.to_csv(outdir+'full_prop_results_2.csv', sep='\\t')"
   ]
  },
  {
   "cell_type": "code",
   "execution_count": 262,
   "metadata": {
    "collapsed": true
   },
   "outputs": [],
   "source": [
    "# Construct null propagation matrices\n",
    "\n",
    "# Initialize null propagation distribution tables\n",
    "null_prop_tables1 = {}\n",
    "for name in prop_val_table1.index:\n",
    "    null_prop_tables1[name] = []\n",
    "    \n",
    "null_prop_tables2 = {}\n",
    "for name in prop_val_table2.index:\n",
    "    null_prop_tables2[name] = []    "
   ]
  },
  {
   "cell_type": "code",
   "execution_count": 263,
   "metadata": {},
   "outputs": [],
   "source": [
    "# n is the number of null networks + 1\n",
    "n = 4\n",
    "for i in range(1, n):\n",
    "    # Load null kernel and re-order binary vector matrix (if needed)\n",
    "    null_kernel = pd.read_hdf(nulls_dir+'null_PCNet_kernel_'+repr(i)+'.hdf')\n",
    "    null_network_genes = list(null_kernel.index)\n",
    "    min_cap_prop_vector_matrix = min_cap_prop_vector_matrix[null_network_genes]\n",
    "    end_cap_prop_vector_matrix = end_cap_prop_vector_matrix[null_network_genes]\n",
    "\n",
    "    # Propagate the first set of transformed p-value vectors over the network\n",
    "    null_prop_val_matrix1 = np.dot(min_cap_prop_vector_matrix, null_kernel)\n",
    "    null_prop_val_table1 = pd.DataFrame(null_prop_val_matrix1, index = min_cap_prop_vector_matrix.index, \n",
    "                                        columns = min_cap_prop_vector_matrix.columns)\n",
    "    # Add new propagation result rows to each table for first propagation style\n",
    "    for name in null_prop_val_table1.index:\n",
    "        null_prop_tables1[name].append(null_prop_val_table1.ix[name])\n",
    "\n",
    "    # Propagate the second set of transformed p-value vectors over the network\n",
    "    null_prop_val_matrix2 = np.dot(end_cap_prop_vector_matrix, null_kernel)\n",
    "    null_prop_val_table2 = pd.DataFrame(null_prop_val_matrix2, index = end_cap_prop_vector_matrix.index, \n",
    "                                        columns = end_cap_prop_vector_matrix.columns)\n",
    "    # Add new propagation result rows to each table for second propagation style\n",
    "    for name in null_prop_val_table2.index:\n",
    "        null_prop_tables2[name].append(null_prop_val_table2.ix[name])\n",
    "    "
   ]
  },
  {
   "cell_type": "code",
   "execution_count": 264,
   "metadata": {},
   "outputs": [],
   "source": [
    "# Concatenate all the null network tables together\n",
    "# The script version will save the individual elements of the dictionary to disk instead\n",
    "null_prop_dfs1 = {}\n",
    "for table in null_prop_tables1:\n",
    "    null_prop_table1 = pd.concat(null_prop_tables1[table], axis=1)\n",
    "    null_prop_table1.columns = ['Null Prop '+repr(i) for i in range(1, n)]\n",
    "    null_prop_dfs1[table] = null_prop_table1        \n",
    "    #null_prop_table1.to_csv(outdir+table+'_null_prop_results_1.csv', sep='\\t')\n",
    "    \n",
    "null_prop_dfs2 = {}\n",
    "for table in null_prop_tables1:\n",
    "    null_prop_table2 = pd.concat(null_prop_tables2[table], axis=1)\n",
    "    null_prop_table2.columns = ['Null Prop '+repr(i) for i in range(1, n)]\n",
    "    null_prop_dfs2[table] = null_prop_table2        \n",
    "    #null_prop_table2.to_csv(outdir+table+'_null_prop_results_2.csv', sep='\\t')"
   ]
  },
  {
   "cell_type": "markdown",
   "metadata": {},
   "source": [
    "# Get NullProp p-values for all diseases"
   ]
  },
  {
   "cell_type": "code",
   "execution_count": null,
   "metadata": {
    "collapsed": true
   },
   "outputs": [],
   "source": [
    "import scipy.stats as stats"
   ]
  },
  {
   "cell_type": "code",
   "execution_count": 142,
   "metadata": {},
   "outputs": [
    {
     "name": "stdout",
     "output_type": "stream",
     "text": [
      "/cellar/users/jkhuang/Data/nosnap/Projects/NBGWAS/snp2gene/\n",
      "/cellar/users/jkhuang/Data/nosnap/Projects/NBGWAS/prop_results/\n",
      "/cellar/users/jkhuang/Data/nosnap/Projects/NBGWAS/null_prop_results/\n"
     ]
    }
   ],
   "source": [
    "print wd\n",
    "print outdir\n",
    "null_outdir = '/cellar/users/jkhuang/Data/nosnap/Projects/NBGWAS/null_prop_results/'\n",
    "print null_outdir"
   ]
  },
  {
   "cell_type": "code",
   "execution_count": 199,
   "metadata": {
    "collapsed": true
   },
   "outputs": [],
   "source": [
    "NullProp1_table = pd.read_csv(outdir+'full_prop_results_1.csv', sep='\\t', index_col=0)\n",
    "NullProp2_table = pd.read_csv(outdir+'full_prop_results_2.csv', sep='\\t', index_col=0)"
   ]
  },
  {
   "cell_type": "code",
   "execution_count": 221,
   "metadata": {},
   "outputs": [],
   "source": [
    "# Load each gene p-value table and create binary propagation vector\n",
    "wd = '/cellar/users/jkhuang/Data/nosnap/Projects/NBGWAS/snp2gene/'\n",
    "methods = [fn.split('.')[0] for fn in os.listdir(wd) if (fn.endswith('.csv')) & ('VEGAS2' in fn)]\n",
    "methods.sort()"
   ]
  },
  {
   "cell_type": "code",
   "execution_count": 223,
   "metadata": {
    "scrolled": true
   },
   "outputs": [],
   "source": [
    "for name in methods:\n",
    "    # Load gene p-values from file\n",
    "    pval_table = pd.read_csv(wd+name+'.csv', sep='\\t').set_index('Gene')\n",
    "    \n",
    "    ##### NullProp1 #####\n",
    "    # Load full propagation results on PCNet\n",
    "    NullProp1_results = NullProp1_table.ix[name]\n",
    "    NullProp1_results.name = 'Prop Value'\n",
    "    # Load null propagation results on shuffled PCNets\n",
    "    NullProp1_null_results = pd.read_csv(null_outdir+name+'_null_prop_results_1.csv', sep='\\t', index_col=0)\n",
    "    # Calculate empirical p-values for all genes\n",
    "    NullProp1_combined_table = pd.concat([NullProp1_results, NullProp1_null_results], axis=1)\n",
    "    NullProp1_empirical_p = NullProp1_combined_table.rank(axis=1, ascending=False)['Prop Value']/float(1002)\n",
    "    # Calculate normal p-values for all genes\n",
    "    NullProp1_null_mean = NullProp1_null_results.mean(axis=1)\n",
    "    NullProp1_null_std = NullProp1_null_results.std(axis=1)\n",
    "    NullProp1_normal_table = pd.concat([NullProp1_results, NullProp1_null_mean, NullProp1_null_std], axis=1)\n",
    "    NullProp1_normal_table.columns = ['Prop Value', 'Null Mean', 'Null Std']\n",
    "    NullProp1_normal_table['Z'] = (NullProp1_normal_table['Prop Value'].subtract(NullProp1_normal_table['Null Mean'])).divide(NullProp1_normal_table['Null Std'])\n",
    "    NullProp1_normal_table['P'] = stats.norm.sf(NullProp1_normal_table['Z'])\n",
    "    # Calculate boosted p-values\n",
    "    NullProp1_results_table = pd.concat([network_pvals, NullProp1_results, NullProp1_empirical_p, NullProp1_normal_table['P']], axis=1)\n",
    "    NullProp1_results_table.columns = ['GWAS P', 'Prop Value', 'Empirical P', 'Normal P']\n",
    "    NullProp1_results_table['Boosted P (Empirical)'] = NullProp1_results_table['GWAS P'].multiply(NullProp1_results_table['Empirical P'])\n",
    "    NullProp1_results_table['Boosted P (Normal)'] = NullProp1_results_table['GWAS P'].multiply(NullProp1_results_table['Normal P'])\n",
    "    NullProp1_results_table.to_csv(outdir+name+'_NullProp1_results.csv', sep='\\t')\n",
    "    \n",
    "    ##### NullProp2 #####\n",
    "    # Load full propagation results on PCNet\n",
    "    NullProp2_results = NullProp2_table.ix[name]\n",
    "    NullProp2_results.name = 'Prop Value'\n",
    "    # Load null propagation results on shuffled PCNets\n",
    "    NullProp2_null_results = pd.read_csv(null_outdir+name+'_null_prop_results_2.csv', sep='\\t', index_col=0)\n",
    "    # Calculate empirical p-values for all genes\n",
    "    NullProp2_combined_table = pd.concat([NullProp2_results, NullProp2_null_results], axis=1)\n",
    "    NullProp2_empirical_p = NullProp2_combined_table.rank(axis=1, ascending=False)['Prop Value']/float(1002)\n",
    "    # Calculate normal p-values for all genes\n",
    "    NullProp2_null_mean = NullProp2_null_results.mean(axis=1)\n",
    "    NullProp2_null_std = NullProp2_null_results.std(axis=1)\n",
    "    NullProp2_normal_table = pd.concat([NullProp2_results, NullProp2_null_mean, NullProp2_null_std], axis=1)\n",
    "    NullProp2_normal_table.columns = ['Prop Value', 'Null Mean', 'Null Std']\n",
    "    NullProp2_normal_table['Z'] = (NullProp2_normal_table['Prop Value'].subtract(NullProp2_normal_table['Null Mean'])).divide(NullProp2_normal_table['Null Std'])\n",
    "    NullProp2_normal_table['P'] = stats.norm.sf(NullProp2_normal_table['Z'])\n",
    "    # Calculate boosted p-values\n",
    "    NullProp2_results_table = pd.concat([network_pvals, NullProp2_results, NullProp2_empirical_p, NullProp2_normal_table['P']], axis=1)\n",
    "    NullProp2_results_table.columns = ['GWAS P', 'Prop Value', 'Empirical P', 'Normal P']\n",
    "    NullProp2_results_table['Boosted P (Empirical)'] = NullProp2_results_table['GWAS P'].multiply(NullProp2_results_table['Empirical P'])\n",
    "    NullProp2_results_table['Boosted P (Normal)'] = NullProp2_results_table['GWAS P'].multiply(NullProp2_results_table['Normal P'])\n",
    "    NullProp2_results_table.to_csv(outdir+name+'_NullProp2_results.csv', sep='\\t')    "
   ]
  },
  {
   "cell_type": "markdown",
   "metadata": {
    "collapsed": true
   },
   "source": [
    "# Sweep \"Top Hits\" parameter and propagate over PCNet\n",
    "Last Updated: April 06, 2018  \n",
    "Here, we will construct a binary matrix with the various top gene thresholds for each disease and multiply that result with the PCNet kernel."
   ]
  },
  {
   "cell_type": "code",
   "execution_count": 469,
   "metadata": {
    "collapsed": true
   },
   "outputs": [],
   "source": [
    "import os\n",
    "import pandas as pd\n",
    "import numpy as np\n",
    "import networkx as nx"
   ]
  },
  {
   "cell_type": "code",
   "execution_count": 225,
   "metadata": {
    "collapsed": true
   },
   "outputs": [],
   "source": [
    "# First, we will load the network kernel of the network we will be using\n",
    "kernel = pd.read_hdf('/cellar/users/jkhuang/Data/Projects/Network_GWAS/Data/Network_Data/PCNet_kernel.hdf')"
   ]
  },
  {
   "cell_type": "code",
   "execution_count": 226,
   "metadata": {},
   "outputs": [],
   "source": [
    "# Get all genes in the network\n",
    "network_genes = list(kernel.index)"
   ]
  },
  {
   "cell_type": "code",
   "execution_count": 451,
   "metadata": {},
   "outputs": [],
   "source": [
    "# Establish top gene thresholds (by % and p-value)\n",
    "#p_thresholds = [1e-8, 5e-8, 1e-7, 5e-7, 1e-6, 5e-6, 1e-5, 5e-5, 1e-4]\n",
    "p_thresholds = []\n",
    "for i in range(-10, -2):\n",
    "    p_thresholds = p_thresholds+[round(pct, 10) for pct in list(np.linspace(10**i, 9*10**i, 9))]\n",
    "p_thresholds.append(0.01)"
   ]
  },
  {
   "cell_type": "code",
   "execution_count": 453,
   "metadata": {
    "collapsed": true
   },
   "outputs": [],
   "source": [
    "top_pct = [round(pct, 4) for pct in list(np.linspace(0.0001, 0.0009, 9))] + [round(pct, 3) for pct in list(np.linspace(0.001, 0.009, 9))] + [round(pct, 2) for pct in list(np.linspace(0.01, 0.15, 15))]   "
   ]
  },
  {
   "cell_type": "code",
   "execution_count": 454,
   "metadata": {
    "collapsed": true
   },
   "outputs": [],
   "source": [
    "# Get each gene p-value table\n",
    "wd = '/cellar/users/jkhuang/Data/nosnap/Projects/NBGWAS/snp2gene/'\n",
    "pval_table_files = [fn for fn in os.listdir(wd) if fn.endswith('_min_p_10kb.csv')]\n",
    "pval_table_files.sort()"
   ]
  },
  {
   "cell_type": "code",
   "execution_count": 455,
   "metadata": {},
   "outputs": [],
   "source": [
    "# Create binary propagation vector\n",
    "threshold_genes = {}\n",
    "prop_vector_list = []\n",
    "for fn in pval_table_files:\n",
    "    # Set disease table\n",
    "    disease = fn.split('_')[0]\n",
    "    # Load gene p-value assignments\n",
    "    pval_table = pd.read_csv(wd+fn, sep='\\t')\n",
    "    pval_table['SNP Distance'] = abs(pval_table['TopSNP Pos'].subtract(pval_table['Gene Start']))\n",
    "    pval_table.sort_values(by=['TopSNP P-Value', 'SNP Distance'])\n",
    "    # Get seed genes for each disease\n",
    "    for p_thresh in p_thresholds:\n",
    "        vector_name = ' '.join([disease, 'p', '<', str(p_thresh)])\n",
    "        # Get top genes for each disease by p threshold\n",
    "        threshold_genes[vector_name] = pval_table[pval_table['TopSNP P-Value'] < p_thresh]\n",
    "        prop_vector = (pval_table.set_index('Gene').ix[network_genes]['TopSNP P-Value'] < p_thresh).astype(float)\n",
    "        prop_vector.name = vector_name\n",
    "        prop_vector_list.append(prop_vector)\n",
    "    for pct in top_pct:\n",
    "        vector_name = ' '.join([disease, 'Top', str(pct*100)+'%'])\n",
    "        # Get top genes for each disease by % threshold\n",
    "        threshold_genes[vector_name] = pval_table.ix[:int(np.ceil(pct*pval_table.shape[0]))]\n",
    "        prop_vector = (pval_table.set_index('Gene', drop=False).ix[network_genes]['Gene'].isin(threshold_genes[vector_name]['Gene'])).astype(float)\n",
    "        prop_vector.name = vector_name\n",
    "        prop_vector_list.append(prop_vector)\n",
    "prop_vector_matrix = pd.concat(prop_vector_list, axis=1).ix[network_genes].T            "
   ]
  },
  {
   "cell_type": "code",
   "execution_count": 471,
   "metadata": {},
   "outputs": [
    {
     "name": "stdout",
     "output_type": "stream",
     "text": [
      "Number of network nodes: 19781\n",
      "Number of network edges: 2724724\n",
      "CPU times: user 30.9 s, sys: 932 ms, total: 31.8 s\n",
      "Wall time: 31.9 s\n"
     ]
    }
   ],
   "source": [
    "%%time\n",
    "# Load PCNet\n",
    "network_file = '/cellar/users/jkhuang/Data/Projects/Network_GWAS/Data/Network_Data/PCNet.txt'\n",
    "network = nx.read_edgelist(network_file, delimiter='\\t', data=False)\n",
    "print 'Number of network nodes:', len(network.nodes())\n",
    "print 'Number of network edges:', len(network.edges())"
   ]
  },
  {
   "cell_type": "code",
   "execution_count": 482,
   "metadata": {},
   "outputs": [],
   "source": [
    "# Get degree of each node in the network\n",
    "network_degree = pd.Series(dict(network.degree()))\n",
    "total_network_degree = float(network_degree.sum())"
   ]
  },
  {
   "cell_type": "code",
   "execution_count": 485,
   "metadata": {},
   "outputs": [],
   "source": [
    "# Construct seed statistics table\n",
    "# Get table columns\n",
    "diseases = [fn.split('_')[0] for fn in pval_table_files]\n",
    "\n",
    "# Get table indices\n",
    "value_label = ['Seed / Thresh Genes', 'Thresh P', 'Thresh %', 'Net Seed %', 'Seed Degree %']\n",
    "index_list = []\n",
    "for p_thresh in p_thresholds:\n",
    "    vector_name = ' '.join(['p', '<', str(p_thresh)])\n",
    "    for label in value_label:\n",
    "        index_list.append((vector_name, label))\n",
    "for pct in top_pct:\n",
    "    vector_name = ' '.join(['Top', str(pct*100)+'%'])    \n",
    "    for label in value_label:\n",
    "        index_list.append((vector_name, label))\n",
    "        \n",
    "# Construct seed statistics table\n",
    "seed_table = pd.DataFrame(index=pd.MultiIndex.from_tuples(index_list), columns=diseases)"
   ]
  },
  {
   "cell_type": "code",
   "execution_count": 486,
   "metadata": {},
   "outputs": [],
   "source": [
    "# Get seed statistics for each threshold\n",
    "prop_vector_matrix_sums = prop_vector_matrix.sum(axis=1)\n",
    "for i in prop_vector_matrix_sums.index:\n",
    "    disease = i[:i.find(' ')]\n",
    "    if disease == 'ALZ':\n",
    "        fn = 'ALZ_IGAP_min_p_10kb.csv'\n",
    "    else:\n",
    "        fn = disease+'_WTCCC_min_p_10kb.csv'\n",
    "    pval_table = pd.read_csv(wd+fn, sep='\\t')\n",
    "    index1 = i[i.find(' ')+1:]\n",
    "    if '<' in index1:\n",
    "        seed_table.set_value((index1, 'Thresh P'), disease, float(index1.split(' ')[-1]))\n",
    "        thresh_pct = round(float(threshold_genes[i].shape[0]) / float(pval_table.shape[0])*100, 2)\n",
    "        seed_table.set_value((index1, 'Thresh %'), disease, thresh_pct)\n",
    "    else:\n",
    "        thresh_p = threshold_genes[i]['TopSNP P-Value'].max()\n",
    "        seed_table.set_value((index1, 'Thresh P'), disease, thresh_p)\n",
    "        seed_table.set_value((index1, 'Thresh %'), disease, round(float(index1.split(' ')[-1][:-1]),2))\n",
    "    \n",
    "    num_seed_genes = int(prop_vector_matrix_sums.ix[i])\n",
    "    num_thresh_genes = int(threshold_genes[i].shape[0])\n",
    "    seed_table.set_value((index1, 'Seed / Thresh Genes'), disease, str(num_seed_genes)+' / '+str(num_thresh_genes))\n",
    "\n",
    "    pct_seeds = round((num_seed_genes / float(len(network_genes)))*100, 2)\n",
    "    seed_table.set_value((index1, 'Net Seed %'), disease, pct_seeds)\n",
    "    \n",
    "    degree_pct = round((network_degree.ix[prop_vector_matrix.ix[i][prop_vector_matrix.ix[i]==1].index].sum() / total_network_degree)*100, 2)\n",
    "    seed_table.set_value((index1, 'Seed Degree %'), disease, degree_pct)\n",
    "seed_table.to_csv('/cellar/users/jkhuang/Data/Projects/Network_GWAS/Results/min_p_10kb_seeds_table.csv', sep='\\t')"
   ]
  },
  {
   "cell_type": "code",
   "execution_count": 458,
   "metadata": {},
   "outputs": [
    {
     "name": "stdout",
     "output_type": "stream",
     "text": [
      "True\n",
      "True\n"
     ]
    }
   ],
   "source": [
    "print (prop_vector_matrix.columns==kernel.columns).all()\n",
    "print (prop_vector_matrix.columns==kernel.index).all()"
   ]
  },
  {
   "cell_type": "code",
   "execution_count": 459,
   "metadata": {
    "scrolled": true
   },
   "outputs": [
    {
     "name": "stdout",
     "output_type": "stream",
     "text": [
      "CPU times: user 1min 6s, sys: 44 ms, total: 1min 6s\n",
      "Wall time: 8.52 s\n"
     ]
    }
   ],
   "source": [
    "%%time\n",
    "# Propagate binary vectors over the network\n",
    "prop_val_matrix = np.dot(prop_vector_matrix, kernel)\n",
    "prop_val_table = pd.DataFrame(prop_val_matrix, index = prop_vector_matrix.index, columns = prop_vector_matrix.columns)"
   ]
  },
  {
   "cell_type": "code",
   "execution_count": 460,
   "metadata": {},
   "outputs": [],
   "source": [
    "# For each propagation result:\n",
    "outdir = '/cellar/users/jkhuang/Data/Projects/Network_GWAS/Results/min_p_10kb_prop_results/'\n",
    "for i in prop_val_table.index:\n",
    "    disease = i[:i.find(' ')]\n",
    "    if disease == 'ALZ':\n",
    "        fn = 'ALZ_IGAP_min_p_10kb.csv'\n",
    "    else:\n",
    "        fn = disease+'_WTCCC_min_p_10kb.csv'\n",
    "    # Get all gene p-values and combine with propagation values\n",
    "    pval_table = pd.read_csv(wd+fn, sep='\\t').set_index('Gene')\n",
    "    network_gene_gwas_pvals = pval_table.ix[network_genes]['TopSNP P-Value'].fillna(1.0)\n",
    "    prop_gwas_table = pd.concat([network_gene_gwas_pvals, prop_val_table.ix[i]], axis=1)\n",
    "    prop_gwas_table.columns = ['GWAS P-Value', 'Prop Value']\n",
    "    # Get all genes that were not seed genes\n",
    "    network_non_seed = list(set(network_genes) - set(threshold_genes[i]['Gene']))\n",
    "    prop_gwas_table_filt = prop_gwas_table.ix[network_non_seed]\n",
    "    # Update gene propagation table with non-seed gene ranks/empirical p-values, and adjusted ranks\n",
    "    prop_gwas_table_filt['Prop Rank'] = prop_gwas_table_filt['Prop Value'].rank(ascending=False)\n",
    "    prop_gwas_table_filt['Prop Empirical P-Value'] = prop_gwas_table_filt['Prop Rank'] / float(prop_gwas_table_filt.shape[0])\n",
    "    prop_gwas_table_filt['Adjusted P-Value'] = prop_gwas_table_filt['GWAS P-Value'].multiply(prop_gwas_table_filt['Prop Empirical P-Value'])\n",
    "    prop_gwas_table_filt['Adjusted Rank'] = prop_gwas_table_filt['Adjusted P-Value'].rank()\n",
    "    # Construct top genes table\n",
    "    top_genes = threshold_genes[i][['Gene','TopSNP P-Value']].set_index('Gene')\n",
    "    top_network_genes = pd.concat([top_genes, prop_gwas_table.ix[top_genes.index]['Prop Value']], axis=1)\n",
    "    top_network_genes.columns = ['GWAS P-Value', 'Prop Value']\n",
    "    top_network_genes['Prop Rank'] = 0\n",
    "    top_network_genes['Prop Empirical P-Value'] = None\n",
    "    top_network_genes['Adjusted P-Value'] = None\n",
    "    top_network_genes['Adjusted Rank'] = 0  \n",
    "    # Combine top GWAS genes and new propagation ranking table\n",
    "    combined_prop_gwas_table = pd.concat([top_network_genes, prop_gwas_table_filt])\n",
    "    combined_prop_gwas_table_sorted = combined_prop_gwas_table[prop_gwas_table_filt.columns].sort_values(by=['Prop Rank', 'Adjusted Rank', 'GWAS P-Value'])\n",
    "    combined_prop_gwas_table_sorted.to_csv(outdir+i+'_prop_results.csv', sep='\\t')"
   ]
  },
  {
   "cell_type": "markdown",
   "metadata": {},
   "source": [
    "# From previous results Propagate Top 1%, but propagate a transformed score (-log10) instead of a binary value\n",
    "We will sweep the \"capped\" -log10 value from 100 to 6."
   ]
  },
  {
   "cell_type": "code",
   "execution_count": 225,
   "metadata": {
    "collapsed": true
   },
   "outputs": [],
   "source": [
    "# First, we will load the network kernel of the network we will be using\n",
    "kernel = pd.read_hdf('/cellar/users/jkhuang/Data/Projects/Network_GWAS/Data/Network_Data/PCNet_kernel.hdf')"
   ]
  },
  {
   "cell_type": "code",
   "execution_count": 226,
   "metadata": {},
   "outputs": [],
   "source": [
    "# Get all genes in the network\n",
    "network_genes = list(kernel.index)"
   ]
  },
  {
   "cell_type": "code",
   "execution_count": 489,
   "metadata": {},
   "outputs": [],
   "source": [
    "# Establish maximum value of transformed p-values to propagate\n",
    "max_log10p_score = [100, 75, 50, 25, 20]+list(range(15,5,-1))"
   ]
  },
  {
   "cell_type": "code",
   "execution_count": 454,
   "metadata": {
    "collapsed": true
   },
   "outputs": [],
   "source": [
    "# Get each gene p-value table\n",
    "wd = '/cellar/users/jkhuang/Data/nosnap/Projects/NBGWAS/snp2gene/'\n",
    "pval_table_files = [fn for fn in os.listdir(wd) if fn.endswith('_min_p_10kb.csv')]\n",
    "pval_table_files.sort()"
   ]
  },
  {
   "cell_type": "code",
   "execution_count": 571,
   "metadata": {},
   "outputs": [
    {
     "name": "stderr",
     "output_type": "stream",
     "text": [
      "/cellar/users/jkhuang/anaconda/lib/python2.7/site-packages/ipykernel/__main__.py:24: RuntimeWarning: divide by zero encountered in log10\n"
     ]
    }
   ],
   "source": [
    "# Create weighted propagation vectors (using top 1.0% propagation)\n",
    "pct = 0.01\n",
    "threshold_genes = {}\n",
    "prop_vector_list = []\n",
    "for fn in pval_table_files:\n",
    "    # Set disease table\n",
    "    disease = fn.split('_')[0]\n",
    "    # Load gene p-value assignments\n",
    "    pval_table = pd.read_csv(wd+fn, sep='\\t')\n",
    "    # Sort gene p-value assignments in ascending order, and break ties with SNP distance to gene\n",
    "    pval_table['SNP Distance'] = abs(pval_table['TopSNP Pos'].subtract(pval_table['Gene Start']))\n",
    "    pval_table.sort_values(by=['TopSNP P-Value', 'SNP Distance'])\n",
    "    # Get seed genes for each disease\n",
    "    for thresh in max_log10p_score:\n",
    "        vector_name = ' '.join([disease, 'Weighted Top 1.0%', 'Prop, Max Weight =', str(thresh)])\n",
    "        # Get top genes for each disease by % threshold\n",
    "        threshold_genes[vector_name] = pval_table.ix[:int(np.ceil(pct*pval_table.shape[0]))]\n",
    "        # Get all genes in the network with p-values\n",
    "        net_pval_table = pval_table.set_index('Gene', drop=False).ix[network_genes]\n",
    "        net_pval_seeds = pd.concat([net_pval_table['TopSNP P-Value'].fillna(1), \n",
    "                                    (net_pval_table['Gene'].isin(threshold_genes[vector_name]['Gene'])).astype(float)], \n",
    "                                   axis=1)\n",
    "        # Transform all p-values for genes in the network\n",
    "        net_pval_seeds['TopSNP Score'] = -np.log10(net_pval_seeds['TopSNP P-Value'])\n",
    "        # Clip transformed scores\n",
    "        net_pval_seeds['TopSNP Score Clip'] = net_pval_seeds['TopSNP Score'].clip(lower=0, upper=thresh)\n",
    "        # Keep only transformed scores of seed genes\n",
    "        seed_values = abs(net_pval_seeds['TopSNP Score Clip'].multiply(net_pval_seeds['Gene']))\n",
    "        seed_values.name = vector_name\n",
    "        prop_vector_list.append(seed_values)\n",
    "prop_vector_matrix = pd.concat(prop_vector_list, axis=1).ix[network_genes].T            "
   ]
  },
  {
   "cell_type": "code",
   "execution_count": 582,
   "metadata": {},
   "outputs": [
    {
     "name": "stdout",
     "output_type": "stream",
     "text": [
      "True\n",
      "True\n"
     ]
    }
   ],
   "source": [
    "print (prop_vector_matrix.columns==kernel.columns).all()\n",
    "print (prop_vector_matrix.columns==kernel.index).all()"
   ]
  },
  {
   "cell_type": "code",
   "execution_count": 574,
   "metadata": {
    "scrolled": true
   },
   "outputs": [
    {
     "name": "stdout",
     "output_type": "stream",
     "text": [
      "CPU times: user 12.4 s, sys: 0 ns, total: 12.4 s\n",
      "Wall time: 1.6 s\n"
     ]
    }
   ],
   "source": [
    "%%time\n",
    "# Propagate binary vectors over the network\n",
    "prop_val_matrix = np.dot(prop_vector_matrix, kernel)\n",
    "prop_val_table = pd.DataFrame(prop_val_matrix, index = prop_vector_matrix.index, columns = prop_vector_matrix.columns)"
   ]
  },
  {
   "cell_type": "code",
   "execution_count": 581,
   "metadata": {},
   "outputs": [],
   "source": [
    "# For each propagation result:\n",
    "outdir = '/cellar/users/jkhuang/Data/Projects/Network_GWAS/Results/min_p_10kb_prop_results/'\n",
    "for i in prop_val_table.index:\n",
    "    disease = i[:i.find(' ')]\n",
    "    if disease == 'ALZ':\n",
    "        fn = 'ALZ_IGAP_min_p_10kb.csv'\n",
    "    else:\n",
    "        fn = disease+'_WTCCC_min_p_10kb.csv'\n",
    "    # Get all gene p-values and combine with propagation values\n",
    "    pval_table = pd.read_csv(wd+fn, sep='\\t').set_index('Gene')\n",
    "    network_gene_gwas_pvals = pval_table.ix[network_genes]['TopSNP P-Value'].fillna(1.0)\n",
    "    prop_gwas_table = pd.concat([network_gene_gwas_pvals, prop_val_table.ix[i]], axis=1)\n",
    "    prop_gwas_table.columns = ['GWAS P-Value', 'Prop Value']\n",
    "    # Get all genes that were not seed genes\n",
    "    network_non_seed = list(set(network_genes) - set(threshold_genes[i]['Gene']))\n",
    "    prop_gwas_table_filt = prop_gwas_table.ix[network_non_seed]\n",
    "    # Update gene propagation table with non-seed gene ranks/empirical p-values, and adjusted ranks\n",
    "    prop_gwas_table_filt['Prop Rank'] = prop_gwas_table_filt['Prop Value'].rank(ascending=False)\n",
    "    prop_gwas_table_filt['Prop Empirical P-Value'] = prop_gwas_table_filt['Prop Rank'] / float(prop_gwas_table_filt.shape[0])\n",
    "    prop_gwas_table_filt['Adjusted P-Value'] = prop_gwas_table_filt['GWAS P-Value'].multiply(prop_gwas_table_filt['Prop Empirical P-Value'])\n",
    "    prop_gwas_table_filt['Adjusted Rank'] = prop_gwas_table_filt['Adjusted P-Value'].rank()\n",
    "    # Construct top genes table\n",
    "    top_genes = threshold_genes[i][['Gene','TopSNP P-Value']].set_index('Gene')\n",
    "    top_network_genes = pd.concat([top_genes, prop_gwas_table.ix[top_genes.index]['Prop Value']], axis=1)\n",
    "    top_network_genes.columns = ['GWAS P-Value', 'Prop Value']\n",
    "    top_network_genes['Prop Rank'] = 0\n",
    "    top_network_genes['Prop Empirical P-Value'] = None\n",
    "    top_network_genes['Adjusted P-Value'] = None\n",
    "    top_network_genes['Adjusted Rank'] = 0  \n",
    "    # Combine top GWAS genes and new propagation ranking table\n",
    "    combined_prop_gwas_table = pd.concat([top_network_genes, prop_gwas_table_filt])\n",
    "    combined_prop_gwas_table_sorted = combined_prop_gwas_table[prop_gwas_table_filt.columns].sort_values(by=['Prop Rank', 'Adjusted Rank', 'GWAS P-Value'])\n",
    "    combined_prop_gwas_table_sorted.to_csv(outdir+i+'_prop_results.csv', sep='\\t')"
   ]
  },
  {
   "cell_type": "code",
   "execution_count": null,
   "metadata": {
    "collapsed": true
   },
   "outputs": [],
   "source": []
  }
 ],
 "metadata": {
  "kernelspec": {
   "display_name": "Python 2",
   "language": "python",
   "name": "python2"
  },
  "language_info": {
   "codemirror_mode": {
    "name": "ipython",
    "version": 2
   },
   "file_extension": ".py",
   "mimetype": "text/x-python",
   "name": "python",
   "nbconvert_exporter": "python",
   "pygments_lexer": "ipython2",
   "version": "2.7.15"
  }
 },
 "nbformat": 4,
 "nbformat_minor": 1
}
