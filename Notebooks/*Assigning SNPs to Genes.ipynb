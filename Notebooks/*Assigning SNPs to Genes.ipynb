{
 "cells": [
  {
   "cell_type": "code",
   "execution_count": 1,
   "metadata": {
    "collapsed": true
   },
   "outputs": [],
   "source": [
    "from nbgwas import NBGWAS_snp2gene as snp2gene\n",
    "import os\n",
    "import pandas as pd\n",
    "import time"
   ]
  },
  {
   "cell_type": "code",
   "execution_count": 28,
   "metadata": {
    "collapsed": false,
    "scrolled": false
   },
   "outputs": [],
   "source": [
    "# Generate cluster file to run snp2gene assignments on cluster\n",
    "f = open('/cellar/users/jkhuang/Data/nosnap/Projects/NBGWAS/snp2gene/param_file_2018-03-21.txt', 'w')\n",
    "\n",
    "hg19_gene_pos_file = '/cellar/users/jkhuang/Data/Projects/Network_GWAS/Data/IGAP/SNP_Gene_Locations/glist-hg19_fmt.txt'\n",
    "windows = [5, 10, 50, 100, 500, 1000]\n",
    "WTCCC_data_dir = '/cellar/users/jkhuang/Data/Projects/Network_GWAS/Data/WTCCC/WTCCC_SNPs/'\n",
    "fn_cols = '0,1,2,6'\n",
    "for fn in os.listdir(WTCCC_data_dir):\n",
    "    if fn.endswith('_WTCCC_snptest_galaxy-LiftOver-hg19_summary_table.csv'):\n",
    "        disease = fn.split('_')[0]\n",
    "        job_name = disease+'_WTCCC'\n",
    "        for size in windows:\n",
    "            f.write(' '.join([hg19_gene_pos_file, WTCCC_data_dir, fn, fn_cols, job_name, str(size)])+'\\n')\n",
    "        \n",
    "IGAP_data_dir = '/cellar/users/jkhuang/Data/Projects/Network_GWAS/Data/IGAP/IGAP_SNPs/'\n",
    "fn = 'IGAP_stage_1.txt'\n",
    "fn_cols = '2,0,1,7'\n",
    "for size in windows:\n",
    "    job_name = 'ALZ_IGAP'\n",
    "    f.write(' '.join([hg19_gene_pos_file, IGAP_data_dir, fn, fn_cols, job_name, str(size)])+'\\n')\n",
    "    \n",
    "f.close()\n"
   ]
  },
  {
   "cell_type": "code",
   "execution_count": null,
   "metadata": {
    "collapsed": true
   },
   "outputs": [],
   "source": [
    "# Load hg19 gene locations (gene locations from VEGAS2 gencode file)\n",
    "hg19_gene_pos_file = '/cellar/users/jkhuang/Data/Projects/Network_GWAS/Data/IGAP/SNP_Gene_Locations/glist-hg19_fmt.txt'\n",
    "hg19_gene_pos = snp2gene.load_gene_pos(hg19_gene_pos_file, delimiter='\\t', header=True, cols='0,1,2,3')"
   ]
  },
  {
   "cell_type": "code",
   "execution_count": null,
   "metadata": {
    "collapsed": false,
    "scrolled": true
   },
   "outputs": [],
   "source": [
    "# Assign SNP p-values to genes for WTCCC data over varying window sizes using min-p and closest-gene\n",
    "windows = [5, 10, 50, 100, 500, 1000]\n",
    "WTCCC_data_dir = '/cellar/users/jkhuang/Data/Projects/Network_GWAS/Data/WTCCC/WTCCC_SNPs/'\n",
    "for fn in os.listdir(WTCCC_data_dir):\n",
    "    disease = fn.split('_')[0]\n",
    "    print 'Disease:', disease\n",
    "    WTCCC_snp_table = snp2gene.load_SNP_pvals(WTCCC_data_dir+fn, delimiter='\\t', header=True, cols='0,1,2,6')\n",
    "    for size in windows:\n",
    "        print 'Window size:', size, 'kb'\n",
    "        \n",
    "        starttime1 = time.time()\n",
    "        closest_gene_table = snp2gene.closest_gene(WTCCC_snp_table, hg19_gene_pos, size)\n",
    "        closest_gene_table.to_csv(WTCCC_data_dir+disease+'_WTCCC_closest_gene_'+repr(window)+'kb.csv', sep='\\t') \n",
    "        print 'Closest gene p-values assigned:', time.time()-starttime1\n",
    "        \n",
    "        starttime2 = time.time()\n",
    "        min_p_table = snp2gene.min_p(WTCCC_snp_table, hg19_gene_pos, size)\n",
    "        min_p_table.to_csv(WTCCC_data_dir+disease+'_WTCCC_min_p_'+repr(window)+'kb.csv', sep='\\t') \n",
    "        print 'Minimum p-values assigned:', time.time()-starttime2\n",
    "        "
   ]
  },
  {
   "cell_type": "code",
   "execution_count": null,
   "metadata": {
    "collapsed": false
   },
   "outputs": [],
   "source": [
    "# Assign SNP p-values to genes for WTCCC data over varying window sizes using min-p and closest-gene\n",
    "IGAP_snp_file = '/cellar/users/jkhuang/Data/Projects/Network_GWAS/Data/IGAP/IGAP_SNPs/IGAP_stage_1.txt'\n",
    "IGAP_snp_table = snp2gene.load_SNP_pvals(WTCCC_data_dir+fn, delimiter='\\t', header=True, cols='2,0,1,7')\n",
    "for size in windows:\n",
    "    print 'Window size:', size, 'kb'\n",
    "\n",
    "    starttime1 = time.time()\n",
    "    closest_gene_table = snp2gene.closest_gene(IGAP_snp_table, hg19_gene_pos, size)\n",
    "    closest_gene_table.to_csv(WTCCC_data_dir+'ALZ_IGAP_closest_gene_'+repr(window)+'kb.csv', sep='\\t') \n",
    "    print 'Closest gene p-values assigned:', time.time()-starttime1\n",
    "\n",
    "    starttime2 = time.time()\n",
    "    min_p_table = snp2gene.min_p(IGAP_snp_table, hg19_gene_pos, size)\n",
    "    min_p_table.to_csv(WTCCC_data_dir+'ALZ_IGAP_min_p_'+repr(window)+'kb.csv', sep='\\t') \n",
    "    print 'Minimum p-values assigned:', time.time()-starttime2"
   ]
  },
  {
   "cell_type": "code",
   "execution_count": null,
   "metadata": {
    "collapsed": true
   },
   "outputs": [],
   "source": []
  }
 ],
 "metadata": {
  "kernelspec": {
   "display_name": "Python 2",
   "language": "python",
   "name": "python2"
  },
  "language_info": {
   "codemirror_mode": {
    "name": "ipython",
    "version": 2
   },
   "file_extension": ".py",
   "mimetype": "text/x-python",
   "name": "python",
   "nbconvert_exporter": "python",
   "pygments_lexer": "ipython2",
   "version": "2.7.11"
  }
 },
 "nbformat": 4,
 "nbformat_minor": 0
}
