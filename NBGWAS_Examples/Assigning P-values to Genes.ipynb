{
 "cells": [
  {
   "cell_type": "markdown",
   "metadata": {},
   "source": [
    "# Assigning GWAS p-values to genes"
   ]
  },
  {
   "cell_type": "markdown",
   "metadata": {},
   "source": [
    "In this notebook, we present 2 methods by which you can assign gene-level p-values to genes using the following information:\n",
    " - SNP-level p-values: These are obtained from your GWAS study, typically using software such as PLINK or SNPTEST\n",
    " - Gene positions: These can be downloaded from the UCSC genome browser or NCBI"
   ]
  },
  {
   "cell_type": "code",
   "execution_count": 2,
   "metadata": {
    "collapsed": true
   },
   "outputs": [],
   "source": [
    "#from nbgwas import NBGWAS_snp2gene as snp2gene\n",
    "\n",
    "import pandas as pd"
   ]
  },
  {
   "cell_type": "markdown",
   "metadata": {},
   "source": [
    "### File Format: SNP-level p-values\n",
    "This file is a 4-column delimited file with the following columns in this order:\n",
    "\n",
    "1. rsID\n",
    "2. Chromosome\n",
    "3. SNP Position (using the genome build corresponding to your Gene Positions file)\n",
    "4. SNP P-value\n",
    "\n",
    "The user may pass more columns than specified (as long as the file has at least 4 columns). The default behavior will be to select the first four columns in order as these columns. \n",
    "\n",
    "The user may specify the columns to use in the file by passing in a 4-valued list indicating the column numbers that should be used (in the same order as the one described above) into the 'cols' parameter. These 4 values will be indexed from 0 (e.g. '0,1,2,3' will select the first 4 columns in order), and must be passed as a comma-separated string (no spaces)."
   ]
  },
  {
   "cell_type": "code",
   "execution_count": 28,
   "metadata": {
    "collapsed": false
   },
   "outputs": [],
   "source": [
    "snp_summary_file = '/cellar/users/jkhuang/Data/Projects/Network_GWAS/Data/IGAP/IGAP_stage_1.txt'\n",
    "snp_summary = load_SNP_pvals(snp_summary_file, delimiter='\\t', header=True, cols='2,0,1,7')"
   ]
  },
  {
   "cell_type": "markdown",
   "metadata": {},
   "source": [
    "### File Format: Gene Positions\n",
    "This file is a 4-column delimited file with the following columns in this order:\n",
    "\n",
    "1. Gene Name/Symbol\n",
    "2. Chromosome\n",
    "3. Transcription Start Position\n",
    "4. Transcription End Position\n",
    "\n",
    "This file may need to be constructed by the user to conform to this file format from the download site location. The user may pass more columns than specified (as long as the file has at least 4 columns) and indicate the columns to be used as described above."
   ]
  },
  {
   "cell_type": "code",
   "execution_count": 20,
   "metadata": {
    "collapsed": false
   },
   "outputs": [],
   "source": [
    "gene_pos_file = '/cellar/users/jkhuang/Data/Projects/Network_GWAS/Data/glist-hg19.txt'\n",
    "hg19_gene_pos = load_gene_pos(gene_pos_file, delimiter=' ', header=False, cols='3,0,1,2')"
   ]
  },
  {
   "cell_type": "markdown",
   "metadata": {},
   "source": [
    "# Assigning GWAS p-values to genes - Closest Gene Method\n",
    "1. We will assign the gene with the closest transcription start site (regardless of strand) to each SNP. The gene transcription start site must fall within the specified genomic distance (up or downstream) from the SNP. This distance is given as kilobases, (e.g. if 'window' is set to 5, this will find the nearest gene to each SNP within a 5kb up and downstream window from the SNP).\n",
    "2. Each gene assigned at least 1 SNP will then be assigned the minimum p-value of all SNPs that have been assigned to it with this method."
   ]
  },
  {
   "cell_type": "code",
   "execution_count": null,
   "metadata": {
    "collapsed": true
   },
   "outputs": [],
   "source": []
  },
  {
   "cell_type": "markdown",
   "metadata": {},
   "source": [
    "# Assigning GWAS p-values to genes - Minimum P Method\n",
    "1. For each gene in the genome (or as defined by the Gene Positions file), we will collect all SNPs within a specified genomic distance from the gene body (transcription start site to transcription end site). The SNP must fall within the specified genomic distance (up or downstream of the gene body). This distance is given as kilobases, (e.g. if 'window' is set to 5, this will collect all SNPs within 5kb of the gene body.\n",
    "2. Each gene is then assigned the minimum of all the p-values across all SNPs falling within the specified window."
   ]
  },
  {
   "cell_type": "code",
   "execution_count": null,
   "metadata": {
    "collapsed": true
   },
   "outputs": [],
   "source": []
  }
 ],
 "metadata": {
  "kernelspec": {
   "display_name": "Python 2",
   "language": "python",
   "name": "python2"
  },
  "language_info": {
   "codemirror_mode": {
    "name": "ipython",
    "version": 2
   },
   "file_extension": ".py",
   "mimetype": "text/x-python",
   "name": "python",
   "nbconvert_exporter": "python",
   "pygments_lexer": "ipython2",
   "version": "2.7.11"
  }
 },
 "nbformat": 4,
 "nbformat_minor": 0
}
