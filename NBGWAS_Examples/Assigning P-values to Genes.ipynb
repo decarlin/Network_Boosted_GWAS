{
 "cells": [
  {
   "cell_type": "markdown",
   "metadata": {},
   "source": [
    "# Assigning GWAS p-values to genes"
   ]
  },
  {
   "cell_type": "markdown",
   "metadata": {},
   "source": [
    "In this notebook, we present 2 methods by which you can assign gene-level p-values to genes using the following information:\n",
    " - SNP-level p-values: These are obtained from your GWAS study, typically using software such as PLINK or SNPTEST\n",
    " - Gene positions: These can be downloaded from the UCSC genome browser or NCBI"
   ]
  },
  {
   "cell_type": "code",
   "execution_count": 1,
   "metadata": {
    "collapsed": false
   },
   "outputs": [],
   "source": [
    "from nbgwas import NBGWAS_snp2gene as snp2gene\n",
    "import pandas as pd"
   ]
  },
  {
   "cell_type": "markdown",
   "metadata": {},
   "source": [
    "### File Format: SNP-level p-values\n",
    "This file is a 4-column delimited file with the following columns in this order:\n",
    "\n",
    "1. rsID\n",
    "2. Chromosome\n",
    "3. SNP Position (using the genome build corresponding to your Gene Positions file)\n",
    "4. SNP P-value\n",
    "\n",
    "The user may pass more columns than specified (as long as the file has at least 4 columns). The default behavior will be to select the first four columns in order as these columns. \n",
    "\n",
    "The user may specify the columns to use in the file by passing in a 4-valued list indicating the column numbers that should be used (in the same order as the one described above) into the 'cols' parameter. These 4 values will be indexed from 0 (e.g. '0,1,2,3' will select the first 4 columns in order), and must be passed as a comma-separated string (no spaces)."
   ]
  },
  {
   "cell_type": "code",
   "execution_count": 2,
   "metadata": {
    "collapsed": false
   },
   "outputs": [],
   "source": [
    "# Fix so that this reads directly from respository Data folder\n",
    "snp_summary_file = '/cellar/users/jkhuang/Data/Projects/Network_GWAS/Data/IGAP/IGAP_SNPs/IGAP_stage_1.txt'\n",
    "snp_summary = snp2gene.load_SNP_pvals(snp_summary_file, delimiter='\\t', header=True, cols='2,0,1,7')"
   ]
  },
  {
   "cell_type": "code",
   "execution_count": 3,
   "metadata": {
    "collapsed": false
   },
   "outputs": [
    {
     "data": {
      "text/html": [
       "<div>\n",
       "<table border=\"1\" class=\"dataframe\">\n",
       "  <thead>\n",
       "    <tr style=\"text-align: right;\">\n",
       "      <th></th>\n",
       "      <th>Marker</th>\n",
       "      <th>Chr</th>\n",
       "      <th>Pos</th>\n",
       "      <th>P-Value</th>\n",
       "    </tr>\n",
       "  </thead>\n",
       "  <tbody>\n",
       "    <tr>\n",
       "      <th>0</th>\n",
       "      <td>rs28544273</td>\n",
       "      <td>1</td>\n",
       "      <td>751343</td>\n",
       "      <td>0.6651</td>\n",
       "    </tr>\n",
       "    <tr>\n",
       "      <th>1</th>\n",
       "      <td>rs143225517</td>\n",
       "      <td>1</td>\n",
       "      <td>751756</td>\n",
       "      <td>0.6651</td>\n",
       "    </tr>\n",
       "    <tr>\n",
       "      <th>2</th>\n",
       "      <td>rs3094315</td>\n",
       "      <td>1</td>\n",
       "      <td>752566</td>\n",
       "      <td>0.6773</td>\n",
       "    </tr>\n",
       "    <tr>\n",
       "      <th>3</th>\n",
       "      <td>rs61770173</td>\n",
       "      <td>1</td>\n",
       "      <td>753405</td>\n",
       "      <td>0.7104</td>\n",
       "    </tr>\n",
       "    <tr>\n",
       "      <th>4</th>\n",
       "      <td>rs2977608</td>\n",
       "      <td>1</td>\n",
       "      <td>768253</td>\n",
       "      <td>0.1308</td>\n",
       "    </tr>\n",
       "  </tbody>\n",
       "</table>\n",
       "</div>"
      ],
      "text/plain": [
       "        Marker  Chr     Pos  P-Value\n",
       "0   rs28544273    1  751343   0.6651\n",
       "1  rs143225517    1  751756   0.6651\n",
       "2    rs3094315    1  752566   0.6773\n",
       "3   rs61770173    1  753405   0.7104\n",
       "4    rs2977608    1  768253   0.1308"
      ]
     },
     "execution_count": 3,
     "metadata": {},
     "output_type": "execute_result"
    }
   ],
   "source": [
    "snp_summary.head()"
   ]
  },
  {
   "cell_type": "code",
   "execution_count": 4,
   "metadata": {
    "collapsed": false
   },
   "outputs": [],
   "source": [
    "multiple_marks = snp_summary.index.value_counts()[snp_summary.index.value_counts() > 1].index"
   ]
  },
  {
   "cell_type": "markdown",
   "metadata": {},
   "source": [
    "### File Format: Gene Positions\n",
    "This file is a 4-column delimited file with the following columns in this order:\n",
    "\n",
    "1. Gene Name/Symbol\n",
    "2. Chromosome\n",
    "3. Transcription Start Position\n",
    "4. Transcription End Position\n",
    "\n",
    "This file may need to be constructed by the user to conform to this file format from the download site location. The user may pass more columns than specified (as long as the file has at least 4 columns) and indicate the columns to be used as described above."
   ]
  },
  {
   "cell_type": "code",
   "execution_count": 5,
   "metadata": {
    "collapsed": false
   },
   "outputs": [],
   "source": [
    "# Fix so that this reads directly from respository Data folder\n",
    "gene_pos_file = '/cellar/users/jkhuang/Data/Projects/Network_GWAS/Data/IGAP/SNP_Gene_Locations/glist-hg19_fmt.txt'\n",
    "hg19_gene_pos = snp2gene.load_gene_pos(gene_pos_file, delimiter='\\t', header=True, cols='0,1,2,3')"
   ]
  },
  {
   "cell_type": "code",
   "execution_count": 6,
   "metadata": {
    "collapsed": false
   },
   "outputs": [
    {
     "data": {
      "text/html": [
       "<div>\n",
       "<table border=\"1\" class=\"dataframe\">\n",
       "  <thead>\n",
       "    <tr style=\"text-align: right;\">\n",
       "      <th></th>\n",
       "      <th>Chr</th>\n",
       "      <th>Start</th>\n",
       "      <th>End</th>\n",
       "    </tr>\n",
       "    <tr>\n",
       "      <th>Gene</th>\n",
       "      <th></th>\n",
       "      <th></th>\n",
       "      <th></th>\n",
       "    </tr>\n",
       "  </thead>\n",
       "  <tbody>\n",
       "    <tr>\n",
       "      <th>A2ML1</th>\n",
       "      <td>12</td>\n",
       "      <td>8925149</td>\n",
       "      <td>9079381</td>\n",
       "    </tr>\n",
       "    <tr>\n",
       "      <th>AADAT</th>\n",
       "      <td>4</td>\n",
       "      <td>170931372</td>\n",
       "      <td>171061538</td>\n",
       "    </tr>\n",
       "    <tr>\n",
       "      <th>AAGAB</th>\n",
       "      <td>15</td>\n",
       "      <td>67443012</td>\n",
       "      <td>67597536</td>\n",
       "    </tr>\n",
       "    <tr>\n",
       "      <th>AANAT</th>\n",
       "      <td>17</td>\n",
       "      <td>74399432</td>\n",
       "      <td>74516199</td>\n",
       "    </tr>\n",
       "    <tr>\n",
       "      <th>AASDH</th>\n",
       "      <td>4</td>\n",
       "      <td>57154450</td>\n",
       "      <td>57303674</td>\n",
       "    </tr>\n",
       "  </tbody>\n",
       "</table>\n",
       "</div>"
      ],
      "text/plain": [
       "       Chr      Start        End\n",
       "Gene                            \n",
       "A2ML1   12    8925149    9079381\n",
       "AADAT    4  170931372  171061538\n",
       "AAGAB   15   67443012   67597536\n",
       "AANAT   17   74399432   74516199\n",
       "AASDH    4   57154450   57303674"
      ]
     },
     "execution_count": 6,
     "metadata": {},
     "output_type": "execute_result"
    }
   ],
   "source": [
    "hg19_gene_pos.head()"
   ]
  },
  {
   "cell_type": "markdown",
   "metadata": {},
   "source": [
    "# Assigning GWAS p-values to genes - Closest Gene Method\n",
    "1. We will assign the gene with the closest transcription start site (regardless of strand) to each SNP. The gene transcription start site must fall within the specified genomic distance (up or downstream) from the SNP. This distance is given as kilobases, (e.g. if 'window' is set to 5, this will find the nearest gene to each SNP within a 5kb up and downstream window from the SNP).\n",
    "2. Each gene assigned at least 1 SNP will then be assigned the minimum p-value of all SNPs that have been assigned to it with this method."
   ]
  },
  {
   "cell_type": "code",
   "execution_count": 7,
   "metadata": {
    "collapsed": false
   },
   "outputs": [],
   "source": [
    "closest_gene_table = snp2gene.closest_gene(snp_summary, hg19_gene_pos, 5)"
   ]
  },
  {
   "cell_type": "code",
   "execution_count": null,
   "metadata": {
    "collapsed": true
   },
   "outputs": [],
   "source": [
    "closest_gene_table.head()"
   ]
  },
  {
   "cell_type": "markdown",
   "metadata": {},
   "source": [
    "# Assigning GWAS p-values to genes - Minimum P Method\n",
    "1. For each gene in the genome (or as defined by the Gene Positions file), we will collect all SNPs within a specified genomic distance from the gene body (transcription start site to transcription end site). The SNP must fall within the specified genomic distance (up or downstream of the gene body). This distance is given as kilobases, (e.g. if 'window' is set to 5, this will collect all SNPs within 5kb of the gene body.\n",
    "2. Each gene is then assigned the minimum of all the p-values across all SNPs falling within the specified window."
   ]
  },
  {
   "cell_type": "code",
   "execution_count": null,
   "metadata": {
    "collapsed": false,
    "scrolled": false
   },
   "outputs": [],
   "source": [
    "min_p_table = snp2gene.min_p(snp_summary, hg19_gene_pos, 10)"
   ]
  },
  {
   "cell_type": "code",
   "execution_count": null,
   "metadata": {
    "collapsed": false
   },
   "outputs": [],
   "source": [
    "min_p_table.head()"
   ]
  },
  {
   "cell_type": "code",
   "execution_count": null,
   "metadata": {
    "collapsed": true
   },
   "outputs": [],
   "source": []
  }
 ],
 "metadata": {
  "kernelspec": {
   "display_name": "Python 2",
   "language": "python",
   "name": "python2"
  },
  "language_info": {
   "codemirror_mode": {
    "name": "ipython",
    "version": 2
   },
   "file_extension": ".py",
   "mimetype": "text/x-python",
   "name": "python",
   "nbconvert_exporter": "python",
   "pygments_lexer": "ipython2",
   "version": "2.7.13"
  }
 },
 "nbformat": 4,
 "nbformat_minor": 0
}
