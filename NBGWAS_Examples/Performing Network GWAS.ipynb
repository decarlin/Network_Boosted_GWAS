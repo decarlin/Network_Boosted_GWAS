{
 "cells": [
  {
   "cell_type": "code",
   "execution_count": 1,
   "metadata": {
    "collapsed": true
   },
   "outputs": [],
   "source": [
    "# Set thread count for network propagation functions\n",
    "import mkl\n",
    "mkl.set_num_threads(4)\n",
    "\n",
    "# Import other required packages\n",
    "import os\n",
    "import pandas as pd"
   ]
  },
  {
   "cell_type": "markdown",
   "metadata": {},
   "source": [
    "# Propagating GWAS Hits from WTCCC"
   ]
  },
  {
   "cell_type": "code",
   "execution_count": 2,
   "metadata": {
    "collapsed": false
   },
   "outputs": [],
   "source": [
    "# Load functions for performing network GWAS from python module file\n",
    "%run './network_GWAS_functions.py'"
   ]
  },
  {
   "cell_type": "code",
   "execution_count": 3,
   "metadata": {
    "collapsed": false
   },
   "outputs": [
    {
     "name": "stdout",
     "output_type": "stream",
     "text": [
      "Network File Loaded: 18.7298469543 seconds\n",
      "Number of network nodes: 19781\n",
      "Number of network edges: 2724724\n"
     ]
    }
   ],
   "source": [
    "# Load network for propagation\n",
    "network = load_network('./Data/PCNet.txt', delimiter='\\t')"
   ]
  },
  {
   "cell_type": "code",
   "execution_count": 4,
   "metadata": {
    "collapsed": false
   },
   "outputs": [],
   "source": [
    "# Load example GWAS-based gene-disease associations from file as pandas Series\n",
    "wd = './Data/'\n",
    "diseases, GWAS_Associations = [], {}\n",
    "for fn in os.listdir(wd):\n",
    "    if fn.endswith('GWAS_Associations.csv'):\n",
    "        disease_name = fn.split('_')[0]\n",
    "        diseases.append(disease_name)\n",
    "        GWAS_Association_table = pd.read_csv(wd+fn, index_col=0, header=-1)\n",
    "        GWAS_Associations[disease_name] = GWAS_Association_table[1]\n",
    "        GWAS_Associations[disease_name].name = 'GWAS P'"
   ]
  },
  {
   "cell_type": "code",
   "execution_count": 11,
   "metadata": {
    "collapsed": true
   },
   "outputs": [],
   "source": [
    "p_thresh = '1e-5'"
   ]
  },
  {
   "cell_type": "code",
   "execution_count": 12,
   "metadata": {
    "collapsed": false,
    "scrolled": true
   },
   "outputs": [
    {
     "name": "stdout",
     "output_type": "stream",
     "text": [
      "Significant genes to be propagated: Index([u'CHD9', u'DUSP26', u'POU3F3', u'GPD1L', u'TDRD9', u'CDC25B',\n",
      "       u'ATP6V1G1', u'RNPEPL1', u'LAMP3', u'C14orf37', u'DPP10', u'CAPN6',\n",
      "       u'TBCC', u'LPIN1', u'NFIA'],\n",
      "      dtype='object', name=0)\n",
      "Calculated Alpha: 0.56\n",
      "Adjacency matrix normalized\n",
      "Network propagation seeds mapped\n",
      "Network propagation complete: 23 iterations\n"
     ]
    },
    {
     "name": "stderr",
     "output_type": "stream",
     "text": [
      "<string>:98: RuntimeWarning: divide by zero encountered in log10\n"
     ]
    },
    {
     "name": "stdout",
     "output_type": "stream",
     "text": [
      "Combined network propagation results constructed\n",
      "Significant genes to be propagated: Index([u'IL2', u'RASA1', u'DEXI', u'IL2RA', u'ENAH', u'HLA-DQA1', u'PTPN2',\n",
      "       u'SOCS1', u'ERBB3', u'PHTF1', u'HSPA4'],\n",
      "      dtype='object', name=0)\n",
      "Calculated Alpha: 0.56\n",
      "Adjacency matrix normalized\n",
      "Network propagation seeds mapped\n",
      "Network propagation complete: 23 iterations\n",
      "Combined network propagation results constructed\n",
      "Significant genes to be propagated: Index([u'BCAT1', u'PCDH9', u'CHRM3', u'COL22A1', u'NR2F2', u'CHPT1'], dtype='object', name=0)\n",
      "Calculated Alpha: 0.56\n",
      "Adjacency matrix normalized\n",
      "Network propagation seeds mapped\n",
      "Network propagation complete: 24 iterations\n",
      "Combined network propagation results constructed\n",
      "Significant genes to be propagated: Index([u'IL2RB', u'ANAPC4', u'TNFAIP3', u'PODXL', u'IL2RA', u'HLA-DQA2',\n",
      "       u'GJB6', u'PHTF1', u'BACE2'],\n",
      "      dtype='object', name=0)\n",
      "Calculated Alpha: 0.56\n",
      "Adjacency matrix normalized\n",
      "Network propagation seeds mapped\n",
      "Network propagation complete: 24 iterations\n",
      "Combined network propagation results constructed\n",
      "Significant genes to be propagated: Index([u'CDKAL1', u'ZNF300', u'IL23R', u'SLC22A5', u'APEH', u'PTGER4',\n",
      "       u'TNFAIP3', u'ETS2', u'TNFSF18', u'HLA-DQA2', u'EGR2', u'PTPN2',\n",
      "       u'DMWD', u'SAG', u'KLF6', u'NKX2-3', u'STAT3'],\n",
      "      dtype='object', name=0)\n",
      "Calculated Alpha: 0.56\n",
      "Adjacency matrix normalized\n",
      "Network propagation seeds mapped\n",
      "Network propagation complete: 24 iterations\n",
      "Combined network propagation results constructed\n",
      "Significant genes to be propagated: Index([u'SEZ6L', u'FMN2', u'MTHFD1L', u'CDH13', u'CDKN2B', u'POP4'], dtype='object', name=0)\n",
      "Calculated Alpha: 0.56\n",
      "Adjacency matrix normalized\n",
      "Network propagation seeds mapped\n",
      "Network propagation complete: 23 iterations\n",
      "Combined network propagation results constructed\n",
      "Significant genes to be propagated: Index([u'CDKAL1', u'CYP11A1', u'ZNF239', u'FAH', u'SLC11A2', u'RBMS1',\n",
      "       u'TCF7L2', u'WNT5A', u'TSPAN8', u'USP7', u'PDE4B'],\n",
      "      dtype='object', name=0)\n",
      "Calculated Alpha: 0.56\n",
      "Adjacency matrix normalized\n",
      "Network propagation seeds mapped\n",
      "Network propagation complete: 23 iterations\n",
      "Combined network propagation results constructed\n"
     ]
    }
   ],
   "source": [
    "# Perform random walk propagation for each disease\n",
    "save_dir = './Results/'\n",
    "for disease in diseases:\n",
    "    propagation_results_table = random_walk(network, GWAS_Associations[disease], p_thresh=1e-5)\n",
    "    propagation_results_table.to_csv(save_dir+disease+'_p'+p_thresh+'_prop_results.csv')\n",
    "    print"
   ]
  },
  {
   "cell_type": "markdown",
   "metadata": {},
   "source": [
    "# Evaluation of Propagation Results vs Disease Gold Standard"
   ]
  },
  {
   "cell_type": "code",
   "execution_count": 13,
   "metadata": {
    "collapsed": false
   },
   "outputs": [],
   "source": [
    "# Load gold standard gene sets\n",
    "f = open('./Data/WTCCC_DisGeNET_Gold_Standards.txt')\n",
    "lines = f.read().splitlines()\n",
    "gold_std_disease_geneset = {}\n",
    "for line in lines:\n",
    "    line_split = line.split('\\t')\n",
    "    gold_std_disease_geneset[line_split[0]] = line_split[1:]"
   ]
  },
  {
   "cell_type": "code",
   "execution_count": 45,
   "metadata": {
    "collapsed": false
   },
   "outputs": [],
   "source": [
    "# Load functions for evaluating network GWAS results\n",
    "%run './network_GWAS_results_analysis_functions.py'"
   ]
  },
  {
   "cell_type": "code",
   "execution_count": 42,
   "metadata": {
    "collapsed": false
   },
   "outputs": [],
   "source": [
    "# Load propagation results and evaluate it against disease gold standard\n",
    "GWAS_AUPRCs, prop_AUPRCs, adjp_AUPRCs = {}, {}, {}\n",
    "\n",
    "for disease in diseases:\n",
    "    # Load propagation results table\n",
    "    results_table = pd.read_csv(save_dir+disease+'_p'+p_thresh+'_prop_results.csv', index_col=0)\n",
    "    # Perform precision/recall calculations\n",
    "    GWAS_AUPRC, prop_AUPRC, adjp_AUPRC = PRC_plots(results_table, gold_std_disease_geneset[disease], p_thresh=p_thresh, \n",
    "                                                   outdir=save_dir, plot_title=disease+' (Propagation Threshold: p <= '+p_thresh+')',\n",
    "                                                   file_prefix = disease+'_p'+p_thresh)\n",
    "    # Record AUPRC results\n",
    "    GWAS_AUPRCs[disease] = GWAS_AUPRC\n",
    "    prop_AUPRCs[disease] = prop_AUPRC\n",
    "    adjp_AUPRCs[disease] = adjp_AUPRC"
   ]
  },
  {
   "cell_type": "code",
   "execution_count": 47,
   "metadata": {
    "collapsed": true
   },
   "outputs": [],
   "source": [
    "weak_p_thresh='1e-4'"
   ]
  },
  {
   "cell_type": "code",
   "execution_count": 48,
   "metadata": {
    "collapsed": false
   },
   "outputs": [],
   "source": [
    "# Load propagation results and visualize propagation result distributions\n",
    "for disease in diseases:\n",
    "    # Load propagation results table\n",
    "    results_table = pd.read_csv(save_dir+disease+'_p'+p_thresh+'_prop_results.csv', index_col=0)\n",
    "    # Perform precision/recall calculations\n",
    "    prop_score_distributions(results_table, gold_std_disease_geneset[disease], p_thresh=p_thresh, weak_p_thresh=weak_p_thresh,\n",
    "                             outdir=save_dir, plot_title=disease+' (Propagation Threshold: p <= '+p_thresh+')',\n",
    "                             file_prefix = disease+'_p'+p_thresh)"
   ]
  }
 ],
 "metadata": {
  "kernelspec": {
   "display_name": "Python 2",
   "language": "python",
   "name": "python2"
  },
  "language_info": {
   "codemirror_mode": {
    "name": "ipython",
    "version": 2
   },
   "file_extension": ".py",
   "mimetype": "text/x-python",
   "name": "python",
   "nbconvert_exporter": "python",
   "pygments_lexer": "ipython2",
   "version": "2.7.11"
  }
 },
 "nbformat": 4,
 "nbformat_minor": 0
}
